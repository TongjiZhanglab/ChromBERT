{
 "cells": [
  {
   "cell_type": "markdown",
   "metadata": {},
   "source": [
    "# Tutorial for get context specific TRN embedding"
   ]
  },
  {
   "cell_type": "markdown",
   "metadata": {},
   "source": [
    "For each 1kb genomic region, ChromBERT generates a transcriptional regulatory network (TRN) embedding with a shape of (6391, 768). This embedding captures the 6391 cistromes within the genomic context, which include transcription factors, histone modifications, and chromatin accessibility. Collectively, these elements are referred to as \"transcription regulators\" throughout this tutorial. Notably, each regulator may be associated with multiple cistromes. Users can extract embeddings at different levels (cistrome or regulator) by applying varying levels of summarization.\n",
    "\n",
    "Workflow Overview:\n",
    "- Prepare the genomic loci of interest.  \n",
    "- Load the ChromBERT model.  \n",
    "- Generate embeddings.  \n",
    "\n",
    "Let’s dive in!"
   ]
  },
  {
   "cell_type": "code",
   "execution_count": 1,
   "metadata": {},
   "outputs": [
    {
     "name": "stderr",
     "output_type": "stream",
     "text": [
      "/home/yangdongxu/.local/lib/python3.10/site-packages/pandas/core/arrays/masked.py:60: UserWarning: Pandas requires version '1.3.6' or newer of 'bottleneck' (version '1.3.5' currently installed).\n",
      "  from pandas.core import (\n"
     ]
    }
   ],
   "source": [
    "import os \n",
    "import torch \n",
    "import chrombert \n",
    "from tqdm import tqdm\n",
    "import numpy as np\n",
    "import pandas as pd \n",
    "from umap import UMAP\n",
    "\n",
    "import seaborn as sns\n",
    "from matplotlib import pyplot as plt\n",
    "\n",
    "from torchinfo import summary\n",
    "\n",
    "basedir = os.path.expanduser(\"~/.cache/chrombert/data\")\n"
   ]
  },
  {
   "cell_type": "markdown",
   "metadata": {},
   "source": [
    "## Prepare dataset\n",
    "For demonstration purposes, we will use a simple toy dataset. Sample data can be found in the `~/.cache/chrombert/data` folder, but you are welcome to replace it with your own dataset. For detailed information about the dataset, please refer to the [quick tour](https://chrombert.readthedocs.io/en/latest/quick_tour.html).  \n"
   ]
  },
  {
   "cell_type": "code",
   "execution_count": 2,
   "metadata": {},
   "outputs": [
    {
     "name": "stdout",
     "output_type": "stream",
     "text": [
      "chrom,start,end,build_region_index,label\n",
      "chr1,39514000,39515000,34032,1.0\n",
      "chr9,77647000,77648000,2009188,1.0\n",
      "chr7,76267000,76268000,1800242,1.0\n",
      "chr16,154000,155000,690707,1.0\n",
      "chr11,45252000,45253000,320175,0.0\n",
      "chr19,58538000,58539000,918112,0.0\n",
      "chr14,90903000,90904000,613068,0.0\n",
      "chr14,41607000,41608000,575793,1.0\n",
      "chr19,41883000,41884000,904333,1.0\n"
     ]
    }
   ],
   "source": [
    "supervised_file = os.path.join(basedir, \"demo\",\"general_classification\", \"train.csv\")\n",
    "! head {supervised_file}"
   ]
  },
  {
   "cell_type": "code",
   "execution_count": 3,
   "metadata": {},
   "outputs": [
    {
     "name": "stdout",
     "output_type": "stream",
     "text": [
      "update path: hdf5_file = hg38_6k_1kb.hdf5\n",
      "update path: meta_file = config/hg38_6k_meta.json\n"
     ]
    },
    {
     "data": {
      "text/plain": [
       "DatasetConfig({'hdf5_file': '/home/yangdongxu/.cache/chrombert/data/hg38_6k_1kb.hdf5', 'supervised_file': '/home/yangdongxu/.cache/chrombert/data/demo/general_classification/train.csv', 'kind': 'GeneralDataset', 'meta_file': '/home/yangdongxu/.cache/chrombert/data/config/hg38_6k_meta.json', 'ignore': False, 'ignore_object': None, 'batch_size': 8, 'num_workers': 20, 'shuffle': False, 'pin_memory': True, 'perturbation': False, 'perturbation_object': None, 'perturbation_value': 0, 'prompt_kind': None, 'prompt_regulator': None, 'prompt_regulator_cache_file': None, 'prompt_celltype': None, 'prompt_celltype_cache_file': None, 'prompt_regulator_cache_pin_memory': False, 'prompt_regulator_cache_limit': 3, 'fasta_file': None, 'flank_window': 0})"
      ]
     },
     "execution_count": 3,
     "metadata": {},
     "output_type": "execute_result"
    }
   ],
   "source": [
    "# Create a configuration class for dataset and dataloader. \n",
    "dc = chrombert.get_preset_dataset_config(\"general\", basedir=basedir, supervised_file = os.path.join(basedir, \"demo\",\"general_classification\", \"train.csv\"))\n",
    "dc"
   ]
  },
  {
   "cell_type": "code",
   "execution_count": 4,
   "metadata": {},
   "outputs": [
    {
     "data": {
      "text/plain": [
       "{'input_ids': tensor([9, 7, 6,  ..., 5, 5, 5], dtype=torch.int8),\n",
       " 'position_ids': tensor([   1,    2,    3,  ..., 6389, 6390, 6391]),\n",
       " 'region': tensor([       9, 77647000, 77648000], dtype=torch.int32),\n",
       " 'build_region_index': 2009188,\n",
       " 'label': 1.0}"
      ]
     },
     "execution_count": 4,
     "metadata": {},
     "output_type": "execute_result"
    }
   ],
   "source": [
    "# Instantiate the dataset and dataloader \n",
    "ds = dc.init_dataset()\n",
    "dl = dc.init_dataloader(batch_size = 2)\n",
    "ds[1]"
   ]
  },
  {
   "cell_type": "markdown",
   "metadata": {},
   "source": [
    "## Load ChromBERT model\n",
    "You can either use the pre-trained model directly or fine-tune the model with your own data. \n",
    "\n",
    "To load fine-tuned models, you can use the following code:  \n",
    "```python\n",
    "ft_ckpt = None # fill your checkpoint path here\n",
    "mc = chrombert.get_preset_model_config(\"general\", basedir=basedir, finetune_ckpt=ft_ckpt, dropout = 0)\n",
    "model = mc.init_model().cuda().bfloat16()\n",
    "model\n",
    "```\n",
    "\n",
    "Below, we demonstrate how to use the pre-trained model directly.   "
   ]
  },
  {
   "cell_type": "code",
   "execution_count": 5,
   "metadata": {},
   "outputs": [
    {
     "name": "stdout",
     "output_type": "stream",
     "text": [
      "use organisim hg38; max sequence length is 6391\n"
     ]
    },
    {
     "data": {
      "text/plain": [
       "===========================================================================\n",
       "Layer (type:depth-idx)                             Param #\n",
       "===========================================================================\n",
       "ChromBERT                                          --\n",
       "├─BERTEmbedding: 1-1                               --\n",
       "│    └─TokenEmbedding: 2-1                         7,680\n",
       "│    └─PositionalEmbedding: 2-2                    4,909,056\n",
       "│    └─Dropout: 2-3                                --\n",
       "├─ModuleList: 1-2                                  --\n",
       "│    └─EncoderTransformerBlock: 2-4                6,497,280\n",
       "│    └─EncoderTransformerBlock: 2-5                6,497,280\n",
       "│    └─EncoderTransformerBlock: 2-6                6,497,280\n",
       "│    └─EncoderTransformerBlock: 2-7                6,497,280\n",
       "│    └─EncoderTransformerBlock: 2-8                6,497,280\n",
       "│    └─EncoderTransformerBlock: 2-9                6,497,280\n",
       "│    └─EncoderTransformerBlock: 2-10               6,497,280\n",
       "│    └─EncoderTransformerBlock: 2-11               6,497,280\n",
       "===========================================================================\n",
       "Total params: 56,894,976\n",
       "Trainable params: 56,894,976\n",
       "Non-trainable params: 0\n",
       "==========================================================================="
      ]
     },
     "execution_count": 5,
     "metadata": {},
     "output_type": "execute_result"
    }
   ],
   "source": [
    "mc = chrombert.ChromBERTConfig(\n",
    "    genome = \"hg38\",\n",
    "    ckpt =os.path.join(basedir, \"checkpoint\", \"hg38_6k_1kb_pretrain.ckpt\"),\n",
    "    dropout = 0\n",
    ")\n",
    "model = mc.init_model().cuda().bfloat16()\n",
    "summary(model, depth = 2)"
   ]
  },
  {
   "cell_type": "code",
   "execution_count": 6,
   "metadata": {},
   "outputs": [
    {
     "data": {
      "text/plain": [
       "torch.Size([2, 6391, 768])"
      ]
     },
     "execution_count": 6,
     "metadata": {},
     "output_type": "execute_result"
    }
   ],
   "source": [
    "for batch in dl:\n",
    "    emb = model(batch[\"input_ids\"].cuda(), batch[\"position_ids\"].cuda())\n",
    "    break\n",
    "emb.shape # TRN embeddings for two 1-kb regions. "
   ]
  },
  {
   "cell_type": "markdown",
   "metadata": {},
   "source": [
    "## Extracting embeddings with the embedding manager  \n",
    "The code above retrieves TRN embedding for the specified locus.   \n",
    "To simplify the process of obtaining embeddings for each cistrome or regulator, we provide a dedicated class, accessible via model.get_embedding_manager.   \n",
    "For each batch, you need to perform a forward pass and then extract embeddings at the cistrome, regulator, and locus levels."
   ]
  },
  {
   "cell_type": "code",
   "execution_count": 7,
   "metadata": {},
   "outputs": [
    {
     "data": {
      "text/plain": [
       "================================================================================\n",
       "Layer (type:depth-idx)                                  Param #\n",
       "================================================================================\n",
       "ChromBERTEmbedding                                      --\n",
       "├─ChromBERT: 1-1                                        --\n",
       "│    └─BERTEmbedding: 2-1                               --\n",
       "│    │    └─TokenEmbedding: 3-1                         7,680\n",
       "│    │    └─PositionalEmbedding: 3-2                    4,909,056\n",
       "│    │    └─Dropout: 3-3                                --\n",
       "│    └─ModuleList: 2-2                                  --\n",
       "│    │    └─EncoderTransformerBlock: 3-4                6,497,280\n",
       "│    │    └─EncoderTransformerBlock: 3-5                6,497,280\n",
       "│    │    └─EncoderTransformerBlock: 3-6                6,497,280\n",
       "│    │    └─EncoderTransformerBlock: 3-7                6,497,280\n",
       "│    │    └─EncoderTransformerBlock: 3-8                6,497,280\n",
       "│    │    └─EncoderTransformerBlock: 3-9                6,497,280\n",
       "│    │    └─EncoderTransformerBlock: 3-10               6,497,280\n",
       "│    │    └─EncoderTransformerBlock: 3-11               6,497,280\n",
       "├─CistromeEmbeddingManager: 1-2                         --\n",
       "================================================================================\n",
       "Total params: 56,894,976\n",
       "Trainable params: 56,894,976\n",
       "Non-trainable params: 0\n",
       "================================================================================"
      ]
     },
     "execution_count": 7,
     "metadata": {},
     "output_type": "execute_result"
    }
   ],
   "source": [
    "# This process also works seamlessly with fine-tuned models.\n",
    "model_emb = model.get_embedding_manager(\n",
    "    mtx_mask = os.path.join(basedir, \"config\", \"hg38_6k_mask_matrix.tsv\")\n",
    ") \n",
    "summary(model_emb)"
   ]
  },
  {
   "cell_type": "code",
   "execution_count": 8,
   "metadata": {},
   "outputs": [
    {
     "data": {
      "text/plain": [
       "torch.Size([2, 1073, 768])"
      ]
     },
     "execution_count": 8,
     "metadata": {},
     "output_type": "execute_result"
    }
   ],
   "source": [
    "for batch in dl:\n",
    "    for k, v in batch.items():\n",
    "        if isinstance(v, torch.Tensor):\n",
    "            batch[k] = v.cuda()\n",
    "    emb = model_emb(batch)\n",
    "    break\n",
    "# by default, it returns all regulator embedding\n",
    "emb.shape "
   ]
  },
  {
   "cell_type": "code",
   "execution_count": 9,
   "metadata": {},
   "outputs": [
    {
     "data": {
      "text/plain": [
       "(torch.Size([2, 768]),\n",
       " tensor([[ 0.3359, -1.6172,  5.3750,  ...,  1.4922, -3.0781,  2.7969],\n",
       "         [-0.9023, -1.4297,  4.0625,  ...,  1.3750, -3.7188,  3.4844]],\n",
       "        device='cuda:0', dtype=torch.bfloat16))"
      ]
     },
     "execution_count": 9,
     "metadata": {},
     "output_type": "execute_result"
    }
   ],
   "source": [
    "emb = model_emb.get_cistrome_embedding(\"GSM623516\".lower())\n",
    "emb.shape, emb"
   ]
  },
  {
   "cell_type": "code",
   "execution_count": 10,
   "metadata": {},
   "outputs": [
    {
     "data": {
      "text/plain": [
       "(torch.Size([2, 768]),\n",
       " tensor([[ 0.0496, -0.7969,  4.4375,  ..., -2.0156, -0.9922,  0.7383],\n",
       "         [-0.5781, -1.4766,  2.6250,  ..., -1.3828, -0.3848,  0.8906]],\n",
       "        device='cuda:0', dtype=torch.bfloat16))"
      ]
     },
     "execution_count": 10,
     "metadata": {},
     "output_type": "execute_result"
    }
   ],
   "source": [
    "emb = model_emb.get_regulator_embedding(\"ctcf\".lower())\n",
    "emb.shape, emb"
   ]
  },
  {
   "cell_type": "code",
   "execution_count": 11,
   "metadata": {},
   "outputs": [
    {
     "data": {
      "text/plain": [
       "(torch.Size([2, 768]),\n",
       " tensor([[ 0.6992, -0.1250,  2.3906,  ..., -0.8672, -0.4238,  0.7617],\n",
       "         [-0.2305, -0.6602,  0.9375,  ..., -0.5391,  0.2080,  0.9844]],\n",
       "        device='cuda:0', dtype=torch.bfloat16))"
      ]
     },
     "execution_count": 11,
     "metadata": {},
     "output_type": "execute_result"
    }
   ],
   "source": [
    "emb = model_emb.get_region_embedding()\n",
    "emb.shape, emb"
   ]
  },
  {
   "cell_type": "markdown",
   "metadata": {},
   "source": [
    "## Example: mean pooled TRN embedding (embeddings for the locus)\n",
    "ChromBERT represents context-specific TRNs and is effective for identifying similarities between cis-elements, such as transcription factor (TF) binding sites. In this example, we will obtain the mean pooled TRN embedding and demonstrate how ChromBERT can capture the distinct features of CTCF binding sites compared to other sites.\n",
    "\n",
    "Note: mean pooled TRN embedding derived directly from the pretrained model may not reflect cell type-specific features. To obtain cell type-specific region embeddings, consider fine-tuning the model with your own data. Please refer to the fine-tuning tutorial for more details.\n"
   ]
  },
  {
   "cell_type": "code",
   "execution_count": 12,
   "metadata": {},
   "outputs": [
    {
     "data": {
      "text/html": [
       "<div>\n",
       "<style scoped>\n",
       "    .dataframe tbody tr th:only-of-type {\n",
       "        vertical-align: middle;\n",
       "    }\n",
       "\n",
       "    .dataframe tbody tr th {\n",
       "        vertical-align: top;\n",
       "    }\n",
       "\n",
       "    .dataframe thead th {\n",
       "        text-align: right;\n",
       "    }\n",
       "</style>\n",
       "<table border=\"1\" class=\"dataframe\">\n",
       "  <thead>\n",
       "    <tr style=\"text-align: right;\">\n",
       "      <th></th>\n",
       "      <th>chrom</th>\n",
       "      <th>start</th>\n",
       "      <th>end</th>\n",
       "      <th>build_region_index</th>\n",
       "      <th>label</th>\n",
       "    </tr>\n",
       "  </thead>\n",
       "  <tbody>\n",
       "    <tr>\n",
       "      <th>0</th>\n",
       "      <td>chr1</td>\n",
       "      <td>10000</td>\n",
       "      <td>11000</td>\n",
       "      <td>0</td>\n",
       "      <td>False</td>\n",
       "    </tr>\n",
       "    <tr>\n",
       "      <th>1</th>\n",
       "      <td>chr1</td>\n",
       "      <td>16000</td>\n",
       "      <td>17000</td>\n",
       "      <td>1</td>\n",
       "      <td>False</td>\n",
       "    </tr>\n",
       "    <tr>\n",
       "      <th>2</th>\n",
       "      <td>chr1</td>\n",
       "      <td>17000</td>\n",
       "      <td>18000</td>\n",
       "      <td>2</td>\n",
       "      <td>False</td>\n",
       "    </tr>\n",
       "    <tr>\n",
       "      <th>3</th>\n",
       "      <td>chr1</td>\n",
       "      <td>29000</td>\n",
       "      <td>30000</td>\n",
       "      <td>3</td>\n",
       "      <td>False</td>\n",
       "    </tr>\n",
       "    <tr>\n",
       "      <th>4</th>\n",
       "      <td>chr1</td>\n",
       "      <td>30000</td>\n",
       "      <td>31000</td>\n",
       "      <td>4</td>\n",
       "      <td>False</td>\n",
       "    </tr>\n",
       "    <tr>\n",
       "      <th>...</th>\n",
       "      <td>...</td>\n",
       "      <td>...</td>\n",
       "      <td>...</td>\n",
       "      <td>...</td>\n",
       "      <td>...</td>\n",
       "    </tr>\n",
       "    <tr>\n",
       "      <th>2137889</th>\n",
       "      <td>chrY</td>\n",
       "      <td>26671000</td>\n",
       "      <td>26672000</td>\n",
       "      <td>2137889</td>\n",
       "      <td>False</td>\n",
       "    </tr>\n",
       "    <tr>\n",
       "      <th>2137890</th>\n",
       "      <td>chrY</td>\n",
       "      <td>56674000</td>\n",
       "      <td>56675000</td>\n",
       "      <td>2137890</td>\n",
       "      <td>False</td>\n",
       "    </tr>\n",
       "    <tr>\n",
       "      <th>2137891</th>\n",
       "      <td>chrY</td>\n",
       "      <td>56678000</td>\n",
       "      <td>56679000</td>\n",
       "      <td>2137891</td>\n",
       "      <td>False</td>\n",
       "    </tr>\n",
       "    <tr>\n",
       "      <th>2137892</th>\n",
       "      <td>chrY</td>\n",
       "      <td>56684000</td>\n",
       "      <td>56685000</td>\n",
       "      <td>2137892</td>\n",
       "      <td>False</td>\n",
       "    </tr>\n",
       "    <tr>\n",
       "      <th>2137893</th>\n",
       "      <td>chrY</td>\n",
       "      <td>56685000</td>\n",
       "      <td>56686000</td>\n",
       "      <td>2137893</td>\n",
       "      <td>False</td>\n",
       "    </tr>\n",
       "  </tbody>\n",
       "</table>\n",
       "<p>2137894 rows × 5 columns</p>\n",
       "</div>"
      ],
      "text/plain": [
       "        chrom     start       end  build_region_index  label\n",
       "0        chr1     10000     11000                   0  False\n",
       "1        chr1     16000     17000                   1  False\n",
       "2        chr1     17000     18000                   2  False\n",
       "3        chr1     29000     30000                   3  False\n",
       "4        chr1     30000     31000                   4  False\n",
       "...       ...       ...       ...                 ...    ...\n",
       "2137889  chrY  26671000  26672000             2137889  False\n",
       "2137890  chrY  56674000  56675000             2137890  False\n",
       "2137891  chrY  56678000  56679000             2137891  False\n",
       "2137892  chrY  56684000  56685000             2137892  False\n",
       "2137893  chrY  56685000  56686000             2137893  False\n",
       "\n",
       "[2137894 rows x 5 columns]"
      ]
     },
     "execution_count": 12,
     "metadata": {},
     "output_type": "execute_result"
    }
   ],
   "source": [
    "# For the first step, we prepare the dataset table.\n",
    "from chrombert.scripts.chrombert_make_dataset import get_overlap\n",
    "\n",
    "df_supervised = get_overlap(\n",
    "    supervised = os.path.join(basedir, \"demo\", \"embedding\",\"CTCF_ENCFF664UGR.bed\"), # a narrowPeak file\n",
    "    regions = os.path.join(basedir, \"config\", \"hg38_6k_1kb_region.bed\"),\n",
    "    no_filter = True,\n",
    ").assign(label = lambda df: df[\"label\"] > 0 )\n",
    "df_supervised"
   ]
  },
  {
   "cell_type": "code",
   "execution_count": 13,
   "metadata": {},
   "outputs": [
    {
     "data": {
      "text/html": [
       "<div>\n",
       "<style scoped>\n",
       "    .dataframe tbody tr th:only-of-type {\n",
       "        vertical-align: middle;\n",
       "    }\n",
       "\n",
       "    .dataframe tbody tr th {\n",
       "        vertical-align: top;\n",
       "    }\n",
       "\n",
       "    .dataframe thead th {\n",
       "        text-align: right;\n",
       "    }\n",
       "</style>\n",
       "<table border=\"1\" class=\"dataframe\">\n",
       "  <thead>\n",
       "    <tr style=\"text-align: right;\">\n",
       "      <th></th>\n",
       "      <th>chrom</th>\n",
       "      <th>start</th>\n",
       "      <th>end</th>\n",
       "      <th>build_region_index</th>\n",
       "      <th>label</th>\n",
       "    </tr>\n",
       "  </thead>\n",
       "  <tbody>\n",
       "    <tr>\n",
       "      <th>0</th>\n",
       "      <td>chr1</td>\n",
       "      <td>97674000</td>\n",
       "      <td>97675000</td>\n",
       "      <td>81042</td>\n",
       "      <td>False</td>\n",
       "    </tr>\n",
       "    <tr>\n",
       "      <th>1</th>\n",
       "      <td>chr1</td>\n",
       "      <td>64197000</td>\n",
       "      <td>64198000</td>\n",
       "      <td>55110</td>\n",
       "      <td>False</td>\n",
       "    </tr>\n",
       "    <tr>\n",
       "      <th>2</th>\n",
       "      <td>chr1</td>\n",
       "      <td>77152000</td>\n",
       "      <td>77153000</td>\n",
       "      <td>64764</td>\n",
       "      <td>False</td>\n",
       "    </tr>\n",
       "    <tr>\n",
       "      <th>3</th>\n",
       "      <td>chr1</td>\n",
       "      <td>244174000</td>\n",
       "      <td>244175000</td>\n",
       "      <td>180253</td>\n",
       "      <td>False</td>\n",
       "    </tr>\n",
       "    <tr>\n",
       "      <th>4</th>\n",
       "      <td>chr1</td>\n",
       "      <td>163181000</td>\n",
       "      <td>163182000</td>\n",
       "      <td>113123</td>\n",
       "      <td>False</td>\n",
       "    </tr>\n",
       "    <tr>\n",
       "      <th>...</th>\n",
       "      <td>...</td>\n",
       "      <td>...</td>\n",
       "      <td>...</td>\n",
       "      <td>...</td>\n",
       "      <td>...</td>\n",
       "    </tr>\n",
       "    <tr>\n",
       "      <th>995</th>\n",
       "      <td>chr1</td>\n",
       "      <td>16082000</td>\n",
       "      <td>16083000</td>\n",
       "      <td>13121</td>\n",
       "      <td>True</td>\n",
       "    </tr>\n",
       "    <tr>\n",
       "      <th>996</th>\n",
       "      <td>chr1</td>\n",
       "      <td>210950000</td>\n",
       "      <td>210951000</td>\n",
       "      <td>152080</td>\n",
       "      <td>True</td>\n",
       "    </tr>\n",
       "    <tr>\n",
       "      <th>997</th>\n",
       "      <td>chr1</td>\n",
       "      <td>1165000</td>\n",
       "      <td>1166000</td>\n",
       "      <td>451</td>\n",
       "      <td>True</td>\n",
       "    </tr>\n",
       "    <tr>\n",
       "      <th>998</th>\n",
       "      <td>chr1</td>\n",
       "      <td>53278000</td>\n",
       "      <td>53279000</td>\n",
       "      <td>45687</td>\n",
       "      <td>True</td>\n",
       "    </tr>\n",
       "    <tr>\n",
       "      <th>999</th>\n",
       "      <td>chr1</td>\n",
       "      <td>119317000</td>\n",
       "      <td>119318000</td>\n",
       "      <td>97375</td>\n",
       "      <td>True</td>\n",
       "    </tr>\n",
       "  </tbody>\n",
       "</table>\n",
       "<p>1000 rows × 5 columns</p>\n",
       "</div>"
      ],
      "text/plain": [
       "    chrom      start        end  build_region_index  label\n",
       "0    chr1   97674000   97675000               81042  False\n",
       "1    chr1   64197000   64198000               55110  False\n",
       "2    chr1   77152000   77153000               64764  False\n",
       "3    chr1  244174000  244175000              180253  False\n",
       "4    chr1  163181000  163182000              113123  False\n",
       "..    ...        ...        ...                 ...    ...\n",
       "995  chr1   16082000   16083000               13121   True\n",
       "996  chr1  210950000  210951000              152080   True\n",
       "997  chr1    1165000    1166000                 451   True\n",
       "998  chr1   53278000   53279000               45687   True\n",
       "999  chr1  119317000  119318000               97375   True\n",
       "\n",
       "[1000 rows x 5 columns]"
      ]
     },
     "execution_count": 13,
     "metadata": {},
     "output_type": "execute_result"
    }
   ],
   "source": [
    "# sample down for quick demo\n",
    "df_sample = df_supervised.query(\"chrom == 'chr1' \").groupby(\"label\").sample(500, random_state = 1024).reset_index(drop = True)\n",
    "df_sample.to_csv(\"supervised_sample.csv\", index = False)\n",
    "\n",
    "df_sample"
   ]
  },
  {
   "cell_type": "code",
   "execution_count": 14,
   "metadata": {},
   "outputs": [
    {
     "name": "stdout",
     "output_type": "stream",
     "text": [
      "update path: hdf5_file = hg38_6k_1kb.hdf5\n",
      "update path: meta_file = config/hg38_6k_meta.json\n"
     ]
    },
    {
     "data": {
      "text/plain": [
       "{'input_ids': tensor([6, 5, 5,  ..., 6, 5, 5], dtype=torch.int8),\n",
       " 'position_ids': tensor([   1,    2,    3,  ..., 6389, 6390, 6391]),\n",
       " 'region': tensor([       1, 97674000, 97675000], dtype=torch.int32),\n",
       " 'build_region_index': 81042,\n",
       " 'label': False}"
      ]
     },
     "execution_count": 14,
     "metadata": {},
     "output_type": "execute_result"
    }
   ],
   "source": [
    "# create dataset and dataloader. \n",
    "dc = chrombert.get_preset_dataset_config(\"general\", basedir=basedir, supervised_file = \"supervised_sample.csv\")\n",
    "dl = dc.init_dataloader(batch_size = 2)\n",
    "ds = dc.init_dataset()\n",
    "ds[0]"
   ]
  },
  {
   "cell_type": "code",
   "execution_count": 15,
   "metadata": {},
   "outputs": [
    {
     "name": "stderr",
     "output_type": "stream",
     "text": [
      "100%|██████████| 500/500 [00:19<00:00, 25.25it/s]\n"
     ]
    },
    {
     "data": {
      "text/plain": [
       "(1000, 768)"
      ]
     },
     "execution_count": 15,
     "metadata": {},
     "output_type": "execute_result"
    }
   ],
   "source": [
    "emb_regions = []\n",
    "labels = []\n",
    "# collect mean pooled TRN embeddings\n",
    "with torch.no_grad():\n",
    "    for batch in tqdm(dl):\n",
    "        for k, v in batch.items():\n",
    "            if isinstance(v, torch.Tensor):\n",
    "                batch[k] = v.cuda()\n",
    "        emb = model_emb(batch)\n",
    "        emb_regions.append(model_emb.get_region_embedding())\n",
    "        labels.extend(batch[\"label\"].tolist())\n",
    "labels = np.array(labels)\n",
    "\n",
    "mtx_emb_regions = torch.cat(emb_regions, dim = 0).detach().float().cpu().numpy()\n",
    "mtx_emb_regions.shape"
   ]
  },
  {
   "cell_type": "code",
   "execution_count": 16,
   "metadata": {},
   "outputs": [
    {
     "name": "stderr",
     "output_type": "stream",
     "text": [
      "/home/yangdongxu/.local/lib/python3.10/site-packages/umap/umap_.py:1945: UserWarning: n_jobs value 1 overridden to 1 by setting random_state. Use no seed for parallelism.\n",
      "  warn(f\"n_jobs value {self.n_jobs} overridden to 1 by setting random_state. Use no seed for parallelism.\")\n"
     ]
    },
    {
     "data": {
      "image/png": "[encoded data removed]",
      "text/plain": [
       "<Figure size 500x500 with 1 Axes>"
      ]
     },
     "metadata": {},
     "output_type": "display_data"
    }
   ],
   "source": [
    "# A UMAP scatter plot demonstrates that ChromBERT's mean-pooled TRN embeddings effectively distinguish between binding and non-binding regions for CTCF.\n",
    "mtx_umap = UMAP(n_components = 2, random_state = 1024).fit_transform(mtx_emb_regions)\n",
    "\n",
    "fig, ax = plt.subplots(figsize = (5,5))\n",
    "ax.scatter(mtx_umap[~labels,0], mtx_umap[~labels,1], c = \"steelblue\", s = 10, label = \"non-binding\")\n",
    "ax.scatter(mtx_umap[labels,0], mtx_umap[labels,1], c = \"tomato\", s = 10, label = \"binding\")\n",
    "ax.legend()\n",
    "ax.set_xlabel(\"UMAP1\")\n",
    "ax.set_ylabel(\"UMAP2\")\n",
    "plt.show()"
   ]
  },
  {
   "cell_type": "code",
   "execution_count": 17,
   "metadata": {},
   "outputs": [],
   "source": [
    "!rm supervised_sample.csv # clean environment "
   ]
  },
  {
   "cell_type": "markdown",
   "metadata": {},
   "source": [
    "## Example: regulator embedding\n",
    "Below is an example demonstrating the use of ChromBERT's regulator embedding.\n",
    "\n",
    "At certain loci, RNF2 exhibits similarity with PCGF2, a canonical component of the PRC complex. Conversely, at other loci, RNF2 shows a higher similarity to EP300 and MYC, which are associated with enhancer activity.\n",
    "\n",
    "We will start with a processed demo dataset.\n"
   ]
  },
  {
   "cell_type": "code",
   "execution_count": 18,
   "metadata": {},
   "outputs": [
    {
     "name": "stdout",
     "output_type": "stream",
     "text": [
      "chrom,start,end,build_region_index\n",
      "chr1,7770000,7771000,6075\n",
      "chr1,160083000,160084000,110373\n",
      "chr1,177633000,177634000,124855\n",
      "chr1,235083000,235084000,172824\n",
      "chr1,149608000,149609000,101527\n",
      "chr1,200081000,200082000,142366\n",
      "chr1,10651000,10652000,8725\n",
      "chr1,112854000,112855000,91931\n",
      "chr1,39770000,39771000,34259\n"
     ]
    }
   ],
   "source": [
    "supervised_file = os.path.join(basedir, \"demo\", \"embedding\", \"specific_rnf2_loc_region.csv\")\n",
    "!head {supervised_file}"
   ]
  },
  {
   "cell_type": "code",
   "execution_count": 19,
   "metadata": {},
   "outputs": [
    {
     "name": "stdout",
     "output_type": "stream",
     "text": [
      "update path: hdf5_file = hg38_6k_1kb.hdf5\n",
      "update path: meta_file = config/hg38_6k_meta.json\n",
      "Your supervised_file does not contain the 'label' column. Please verify whether ground truth column ('label') is required. If it is not needed, you may disregard this message.\n",
      "Your supervised_file does not contain the 'label' column. Please verify whether ground truth column ('label') is required. If it is not needed, you may disregard this message.\n"
     ]
    },
    {
     "data": {
      "text/plain": [
       "{'input_ids': tensor([8, 6, 8,  ..., 6, 6, 6], dtype=torch.int8),\n",
       " 'position_ids': tensor([   1,    2,    3,  ..., 6389, 6390, 6391]),\n",
       " 'region': tensor([      1, 7770000, 7771000], dtype=torch.int32),\n",
       " 'build_region_index': 6075}"
      ]
     },
     "execution_count": 19,
     "metadata": {},
     "output_type": "execute_result"
    }
   ],
   "source": [
    "dc = chrombert.get_preset_dataset_config(\"general\", basedir=basedir, supervised_file = supervised_file)\n",
    "dl = dc.init_dataloader(batch_size = 2)\n",
    "ds = dc.init_dataset()\n",
    "ds[0]"
   ]
  },
  {
   "cell_type": "code",
   "execution_count": 20,
   "metadata": {},
   "outputs": [
    {
     "name": "stderr",
     "output_type": "stream",
     "text": [
      "100%|██████████| 210/210 [00:10<00:00, 19.42it/s]\n"
     ]
    },
    {
     "data": {
      "text/html": [
       "<div>\n",
       "<style scoped>\n",
       "    .dataframe tbody tr th:only-of-type {\n",
       "        vertical-align: middle;\n",
       "    }\n",
       "\n",
       "    .dataframe tbody tr th {\n",
       "        vertical-align: top;\n",
       "    }\n",
       "\n",
       "    .dataframe thead th {\n",
       "        text-align: right;\n",
       "    }\n",
       "</style>\n",
       "<table border=\"1\" class=\"dataframe\">\n",
       "  <thead>\n",
       "    <tr style=\"text-align: right;\">\n",
       "      <th></th>\n",
       "      <th>MYC</th>\n",
       "      <th>EP300</th>\n",
       "      <th>PCGF2</th>\n",
       "    </tr>\n",
       "  </thead>\n",
       "  <tbody>\n",
       "    <tr>\n",
       "      <th>0</th>\n",
       "      <td>0.656250</td>\n",
       "      <td>0.761719</td>\n",
       "      <td>0.480469</td>\n",
       "    </tr>\n",
       "    <tr>\n",
       "      <th>1</th>\n",
       "      <td>0.648438</td>\n",
       "      <td>0.734375</td>\n",
       "      <td>0.464844</td>\n",
       "    </tr>\n",
       "    <tr>\n",
       "      <th>2</th>\n",
       "      <td>0.820312</td>\n",
       "      <td>0.796875</td>\n",
       "      <td>0.546875</td>\n",
       "    </tr>\n",
       "    <tr>\n",
       "      <th>3</th>\n",
       "      <td>0.742188</td>\n",
       "      <td>0.777344</td>\n",
       "      <td>0.507812</td>\n",
       "    </tr>\n",
       "    <tr>\n",
       "      <th>4</th>\n",
       "      <td>0.847656</td>\n",
       "      <td>0.882812</td>\n",
       "      <td>0.570312</td>\n",
       "    </tr>\n",
       "    <tr>\n",
       "      <th>...</th>\n",
       "      <td>...</td>\n",
       "      <td>...</td>\n",
       "      <td>...</td>\n",
       "    </tr>\n",
       "    <tr>\n",
       "      <th>415</th>\n",
       "      <td>0.406250</td>\n",
       "      <td>0.417969</td>\n",
       "      <td>0.707031</td>\n",
       "    </tr>\n",
       "    <tr>\n",
       "      <th>416</th>\n",
       "      <td>0.435547</td>\n",
       "      <td>0.412109</td>\n",
       "      <td>0.738281</td>\n",
       "    </tr>\n",
       "    <tr>\n",
       "      <th>417</th>\n",
       "      <td>0.431641</td>\n",
       "      <td>0.406250</td>\n",
       "      <td>0.714844</td>\n",
       "    </tr>\n",
       "    <tr>\n",
       "      <th>418</th>\n",
       "      <td>0.449219</td>\n",
       "      <td>0.419922</td>\n",
       "      <td>0.750000</td>\n",
       "    </tr>\n",
       "    <tr>\n",
       "      <th>419</th>\n",
       "      <td>0.464844</td>\n",
       "      <td>0.433594</td>\n",
       "      <td>0.765625</td>\n",
       "    </tr>\n",
       "  </tbody>\n",
       "</table>\n",
       "<p>420 rows × 3 columns</p>\n",
       "</div>"
      ],
      "text/plain": [
       "          MYC     EP300     PCGF2\n",
       "0    0.656250  0.761719  0.480469\n",
       "1    0.648438  0.734375  0.464844\n",
       "2    0.820312  0.796875  0.546875\n",
       "3    0.742188  0.777344  0.507812\n",
       "4    0.847656  0.882812  0.570312\n",
       "..        ...       ...       ...\n",
       "415  0.406250  0.417969  0.707031\n",
       "416  0.435547  0.412109  0.738281\n",
       "417  0.431641  0.406250  0.714844\n",
       "418  0.449219  0.419922  0.750000\n",
       "419  0.464844  0.433594  0.765625\n",
       "\n",
       "[420 rows x 3 columns]"
      ]
     },
     "execution_count": 20,
     "metadata": {},
     "output_type": "execute_result"
    }
   ],
   "source": [
    "emb_regions = []\n",
    "list_factors = [\"MYC\", \"EP300\", \"PCGF2\"]\n",
    "dict_similarities = {i:[] for i in list_factors}\n",
    "\n",
    "# Collect regulator embeddings and compute their cosine similarity.\n",
    "\n",
    "with torch.no_grad():\n",
    "    for batch in tqdm(dl):\n",
    "        for k, v in batch.items():\n",
    "            if isinstance(v, torch.Tensor):\n",
    "                batch[k] = v.cuda()\n",
    "        model_emb(batch)\n",
    "        emb_rnf2 = model_emb.get_regulator_embedding(\"rnf2\")\n",
    "        for factor in list_factors:\n",
    "            emb = model_emb.get_regulator_embedding(factor)\n",
    "            dict_similarities[factor].append(torch.nn.functional.cosine_similarity(emb_rnf2, emb).float().cpu().numpy())\n",
    "for factor in dict_similarities:\n",
    "    dict_similarities[factor] = np.concatenate(dict_similarities[factor])\n",
    "df_sim = pd.DataFrame(dict_similarities)\n",
    "df_sim"
   ]
  },
  {
   "cell_type": "code",
   "execution_count": 21,
   "metadata": {},
   "outputs": [
    {
     "data": {
      "text/plain": [
       "Text(0.5, 1.2, 'Cosine Similarity of RNF2 with Other Regulators')"
      ]
     },
     "execution_count": 21,
     "metadata": {},
     "output_type": "execute_result"
    },
    {
     "data": {
      "image/png": "[encoded data removed]",
      "text/plain": [
       "<Figure size 800x300 with 4 Axes>"
      ]
     },
     "metadata": {},
     "output_type": "display_data"
    }
   ],
   "source": [
    "# higher cosine similarity generally indicates stronger relationship\n",
    "g = sns.clustermap(df_sim.T, figsize=(8,3), xticklabels = False, cmap = \"viridis\", vmin = 0.1, vmax = 0.8)\n",
    "g.figure.suptitle(\"Cosine Similarity of RNF2 with Other Regulators\",y=1.2)"
   ]
  },
  {
   "cell_type": "markdown",
   "metadata": {},
   "source": [
    "## The end\n",
    "That’s almost everything!  \n",
    "\n",
    "For models fine-tuned for gene expression prediction or similar tasks, the process involves pooling multiple regions to generate the final embedding. We provide unified functions to facilitate this, but for detailed instructions, please refer to the corresponding tutorial file.   \n"
   ]
  },
  {
   "cell_type": "markdown",
   "metadata": {},
   "source": []
  }
 ],
 "metadata": {
  "kernelspec": {
   "display_name": "base",
   "language": "python",
   "name": "python3"
  },
  "language_info": {
   "codemirror_mode": {
    "name": "ipython",
    "version": 3
   },
   "file_extension": ".py",
   "mimetype": "text/x-python",
   "name": "python",
   "nbconvert_exporter": "python",
   "pygments_lexer": "ipython3",
   "version": "3.10.12"
  }
 },
 "nbformat": 4,
 "nbformat_minor": 2
}
