{
 "cells": [
  {
   "cell_type": "markdown",
   "metadata": {},
   "source": [
    "# Tutorial for uncovers cellular dynamics using ChromBERT\n",
    "In this tutorial, we will demonstrate how to use ChromBERT to uncover cellular dynamics during a specific transdifferentiation process(Fibroblast to myoblast). The fine-tuned model was trained separately on chromatin accessibility data and expression data. To follow this tutorial, you need to have the checkpoint (ckpt) files downloaded (see the README for details).\n"
   ]
  },
  {
   "cell_type": "markdown",
   "metadata": {},
   "source": [
    "## Preprocessing dataset\n",
    "You need to prepare two types of data: transcriptome data (including TSS and TPM for gene) and chromatin accessibility data (including peak and BigWig) for the cell type involved in transdifferentiation. This tutorial will show you how to transform the data into the format required by ChromBERT."
   ]
  },
  {
   "cell_type": "code",
   "execution_count": 1,
   "metadata": {},
   "outputs": [],
   "source": [
    "import chrombert\n",
    "import pandas as pd\n",
    "import numpy as np\n",
    "import os\n",
    "from torchinfo import summary\n",
    "import subprocess\n",
    "base_dir = '/home/chenqianqian/.cache/chrombert/data' ### to_path_chrombert/data"
   ]
  },
  {
   "cell_type": "markdown",
   "metadata": {},
   "source": [
    "### Preprocessing transcriptome dataset\n",
    "To fine-tune on transcriptome data for predicting log1p-transformed fold change during transdifferentiation, you need to prepare the log1p-transformed fold change data. Additionally, you need to obtain the ChromBERT 1kb region bins corresponding to the TSS of the relevant genes."
   ]
  },
  {
   "cell_type": "code",
   "execution_count": 2,
   "metadata": {},
   "outputs": [
    {
     "data": {
      "text/plain": [
       "(   chrom       tss          gene_id        tpm\n",
       " 0  chr19  58353492  ENSG00000121410  22.236894\n",
       " 1  chr19  58347718  ENSG00000268895   9.317134\n",
       " 2  chr10  50885675  ENSG00000148584   0.000000\n",
       " 3  chr12   9116229  ENSG00000175899   0.993828\n",
       " 4  chr12   9065163  ENSG00000245105   0.124228,\n",
       "    chrom       tss          gene_id        tpm\n",
       " 0  chr19  58353492  ENSG00000121410  12.774133\n",
       " 1  chr19  58347718  ENSG00000268895   2.939181\n",
       " 2  chr10  50885675  ENSG00000148584   0.000000\n",
       " 3  chr12   9116229  ENSG00000175899   0.226091\n",
       " 4  chr12   9065163  ENSG00000245105   0.226091)"
      ]
     },
     "execution_count": 2,
     "metadata": {},
     "output_type": "execute_result"
    }
   ],
   "source": [
    "gep_dir = f'{base_dir}/demo/transdifferentiation/transcriptome'\n",
    "fibroblast_exp = pd.read_csv(f'{gep_dir}/fibroblast_expression.csv')\n",
    "myoblast_exp = pd.read_csv(f'{gep_dir}/myoblast_expression.csv')\n",
    "myoblast_exp.head(), fibroblast_exp.head()"
   ]
  },
  {
   "cell_type": "markdown",
   "metadata": {},
   "source": [
    "#### Prepare the log1p-transformed fold change data"
   ]
  },
  {
   "cell_type": "code",
   "execution_count": 3,
   "metadata": {},
   "outputs": [
    {
     "data": {
      "text/html": [
       "<div>\n",
       "<style scoped>\n",
       "    .dataframe tbody tr th:only-of-type {\n",
       "        vertical-align: middle;\n",
       "    }\n",
       "\n",
       "    .dataframe tbody tr th {\n",
       "        vertical-align: top;\n",
       "    }\n",
       "\n",
       "    .dataframe thead th {\n",
       "        text-align: right;\n",
       "    }\n",
       "</style>\n",
       "<table border=\"1\" class=\"dataframe\">\n",
       "  <thead>\n",
       "    <tr style=\"text-align: right;\">\n",
       "      <th></th>\n",
       "      <th>chrom</th>\n",
       "      <th>start</th>\n",
       "      <th>end</th>\n",
       "      <th>build_region_index</th>\n",
       "      <th>label</th>\n",
       "      <th>tss</th>\n",
       "      <th>gene_id</th>\n",
       "    </tr>\n",
       "  </thead>\n",
       "  <tbody>\n",
       "    <tr>\n",
       "      <th>0</th>\n",
       "      <td>chr19</td>\n",
       "      <td>58353000</td>\n",
       "      <td>58354000</td>\n",
       "      <td>917950</td>\n",
       "      <td>0.522949</td>\n",
       "      <td>58353492</td>\n",
       "      <td>ENSG00000121410</td>\n",
       "    </tr>\n",
       "    <tr>\n",
       "      <th>1</th>\n",
       "      <td>chr19</td>\n",
       "      <td>58347000</td>\n",
       "      <td>58348000</td>\n",
       "      <td>917944</td>\n",
       "      <td>0.962833</td>\n",
       "      <td>58347718</td>\n",
       "      <td>ENSG00000268895</td>\n",
       "    </tr>\n",
       "    <tr>\n",
       "      <th>2</th>\n",
       "      <td>chr10</td>\n",
       "      <td>50885000</td>\n",
       "      <td>50886000</td>\n",
       "      <td>221904</td>\n",
       "      <td>0.000000</td>\n",
       "      <td>50885675</td>\n",
       "      <td>ENSG00000148584</td>\n",
       "    </tr>\n",
       "    <tr>\n",
       "      <th>3</th>\n",
       "      <td>chr12</td>\n",
       "      <td>9116000</td>\n",
       "      <td>9117000</td>\n",
       "      <td>393001</td>\n",
       "      <td>0.486225</td>\n",
       "      <td>9116229</td>\n",
       "      <td>ENSG00000175899</td>\n",
       "    </tr>\n",
       "    <tr>\n",
       "      <th>4</th>\n",
       "      <td>chr12</td>\n",
       "      <td>9065000</td>\n",
       "      <td>9066000</td>\n",
       "      <td>392961</td>\n",
       "      <td>-0.086734</td>\n",
       "      <td>9065163</td>\n",
       "      <td>ENSG00000245105</td>\n",
       "    </tr>\n",
       "  </tbody>\n",
       "</table>\n",
       "</div>"
      ],
      "text/plain": [
       "   chrom     start       end  build_region_index     label       tss  \\\n",
       "0  chr19  58353000  58354000              917950  0.522949  58353492   \n",
       "1  chr19  58347000  58348000              917944  0.962833  58347718   \n",
       "2  chr10  50885000  50886000              221904  0.000000  50885675   \n",
       "3  chr12   9116000   9117000              393001  0.486225   9116229   \n",
       "4  chr12   9065000   9066000              392961 -0.086734   9065163   \n",
       "\n",
       "           gene_id  \n",
       "0  ENSG00000121410  \n",
       "1  ENSG00000268895  \n",
       "2  ENSG00000148584  \n",
       "3  ENSG00000175899  \n",
       "4  ENSG00000245105  "
      ]
     },
     "execution_count": 3,
     "metadata": {},
     "output_type": "execute_result"
    }
   ],
   "source": [
    "from chrombert.scripts.chrombert_make_dataset import get_regions\n",
    "merge_exp = pd.merge(fibroblast_exp,myoblast_exp,left_on=['chrom','tss','gene_id'],right_on=['chrom','tss','gene_id'],suffixes=['_fibroblast','_myoblast'])\n",
    "merge_exp['fold_change']= np.log1p(merge_exp['tpm_myoblast']) - np.log1p(merge_exp['tpm_fibroblast'])\n",
    "merge_exp['start'] = merge_exp['tss']//1000 * 1000\n",
    "merge_exp['end'] = (merge_exp['tss']//1000 + 1) * 1000\n",
    "foldchange_exp = merge_exp [['chrom','start','end','tss','gene_id','fold_change']]\n",
    "\n",
    "chrom_regions = get_regions('~/.cache/chrombert/data',genome='hg38',high_resolution=False) # 1kb\n",
    "chrom_regions\n",
    "chrom_regions_df = pd.read_csv(chrom_regions,sep='\\t',names=['chrom','start','end','build_region_index'])\n",
    "chrom_regions_df\n",
    "merge_region = pd.merge(foldchange_exp,chrom_regions_df,left_on=['chrom','start','end'],right_on=['chrom','start','end'],how='inner')[['chrom','start','end','build_region_index','fold_change','tss','gene_id']]\n",
    "gep_df = merge_region.rename(columns={'fold_change':'label'})\n",
    "gep_df.to_csv(f'{gep_dir}/fibroblast_to_myoblast_expression_changes.csv',index=False)\n",
    "gep_df.head()"
   ]
  },
  {
   "cell_type": "markdown",
   "metadata": {},
   "source": [
    "#### Preprocessing the fine-tuning data of transcriptome \n",
    "splitting it into training, testing, and validation sets with an 8:1:1 ratio and Downsample the data to test the fine-tuning process"
   ]
  },
  {
   "cell_type": "code",
   "execution_count": 4,
   "metadata": {},
   "outputs": [
    {
     "data": {
      "text/html": [
       "<div>\n",
       "<style scoped>\n",
       "    .dataframe tbody tr th:only-of-type {\n",
       "        vertical-align: middle;\n",
       "    }\n",
       "\n",
       "    .dataframe tbody tr th {\n",
       "        vertical-align: top;\n",
       "    }\n",
       "\n",
       "    .dataframe thead th {\n",
       "        text-align: right;\n",
       "    }\n",
       "</style>\n",
       "<table border=\"1\" class=\"dataframe\">\n",
       "  <thead>\n",
       "    <tr style=\"text-align: right;\">\n",
       "      <th></th>\n",
       "      <th>chrom</th>\n",
       "      <th>start</th>\n",
       "      <th>end</th>\n",
       "      <th>build_region_index</th>\n",
       "      <th>label</th>\n",
       "      <th>tss</th>\n",
       "      <th>gene_id</th>\n",
       "    </tr>\n",
       "  </thead>\n",
       "  <tbody>\n",
       "    <tr>\n",
       "      <th>4496</th>\n",
       "      <td>chr6</td>\n",
       "      <td>138795000</td>\n",
       "      <td>138796000</td>\n",
       "      <td>1719247</td>\n",
       "      <td>0.000000</td>\n",
       "      <td>138795911</td>\n",
       "      <td>ENSG00000203734</td>\n",
       "    </tr>\n",
       "    <tr>\n",
       "      <th>13237</th>\n",
       "      <td>chr8</td>\n",
       "      <td>96261000</td>\n",
       "      <td>96262000</td>\n",
       "      <td>1933979</td>\n",
       "      <td>-0.351699</td>\n",
       "      <td>96261902</td>\n",
       "      <td>ENSG00000156471</td>\n",
       "    </tr>\n",
       "    <tr>\n",
       "      <th>17079</th>\n",
       "      <td>chr22</td>\n",
       "      <td>29555000</td>\n",
       "      <td>29556000</td>\n",
       "      <td>1186796</td>\n",
       "      <td>-0.565257</td>\n",
       "      <td>29555216</td>\n",
       "      <td>ENSG00000100296</td>\n",
       "    </tr>\n",
       "    <tr>\n",
       "      <th>4118</th>\n",
       "      <td>chr8</td>\n",
       "      <td>1622000</td>\n",
       "      <td>1623000</td>\n",
       "      <td>1866390</td>\n",
       "      <td>0.000000</td>\n",
       "      <td>1622417</td>\n",
       "      <td>ENSG00000253267</td>\n",
       "    </tr>\n",
       "    <tr>\n",
       "      <th>13482</th>\n",
       "      <td>chr7</td>\n",
       "      <td>66682000</td>\n",
       "      <td>66683000</td>\n",
       "      <td>1792879</td>\n",
       "      <td>0.402664</td>\n",
       "      <td>66682164</td>\n",
       "      <td>ENSG00000154710</td>\n",
       "    </tr>\n",
       "  </tbody>\n",
       "</table>\n",
       "</div>"
      ],
      "text/plain": [
       "       chrom      start        end  build_region_index     label        tss  \\\n",
       "4496    chr6  138795000  138796000             1719247  0.000000  138795911   \n",
       "13237   chr8   96261000   96262000             1933979 -0.351699   96261902   \n",
       "17079  chr22   29555000   29556000             1186796 -0.565257   29555216   \n",
       "4118    chr8    1622000    1623000             1866390  0.000000    1622417   \n",
       "13482   chr7   66682000   66683000             1792879  0.402664   66682164   \n",
       "\n",
       "               gene_id  \n",
       "4496   ENSG00000203734  \n",
       "13237  ENSG00000156471  \n",
       "17079  ENSG00000100296  \n",
       "4118   ENSG00000253267  \n",
       "13482  ENSG00000154710  "
      ]
     },
     "execution_count": 4,
     "metadata": {},
     "output_type": "execute_result"
    }
   ],
   "source": [
    "train_data = gep_df.sample(frac=0.8,random_state=55)\n",
    "test_data = gep_df.drop(train_data.index).sample(frac=0.5,random_state=55)\n",
    "valid_data = gep_df.drop(train_data.index).drop(test_data.index)\n",
    "train_data_sample = train_data.sample(n=80,random_state=55)\n",
    "test_data_sample = test_data.sample(n=20,random_state=55)\n",
    "valid_data_sample = valid_data.sample(n=20,random_state=55)\n",
    "train_data_sample.to_csv(f'{gep_dir}/train_sample.csv',index=False)\n",
    "test_data_sample.to_csv(f'{gep_dir}/test_sample.csv',index=False)\n",
    "valid_data_sample.to_csv(f'{gep_dir}/valid_sample.csv',index=False)\n",
    "train_data_sample.head()"
   ]
  },
  {
   "cell_type": "markdown",
   "metadata": {},
   "source": [
    "#### Prepare the upregulated genes and unchanged genes for downstream analysis."
   ]
  },
  {
   "cell_type": "code",
   "execution_count": 5,
   "metadata": {},
   "outputs": [],
   "source": [
    "up_data = gep_df[gep_df['label']>1]\n",
    "nochange_data = gep_df[(gep_df['label']>-0.5) & (gep_df['label']<0.5)]\n",
    "\n",
    "up_data_sample = up_data.sample(n=100,random_state=55)\n",
    "nochange_data_sample = nochange_data.sample(n=100,random_state=55)\n",
    "\n",
    "\n",
    "up_data_sample.to_csv(f'{gep_dir}/up_data_sample.csv',index=False)\n",
    "nochange_data_sample.to_csv(f'{gep_dir}/nochange_data_sample.csv',index=False)"
   ]
  },
  {
   "cell_type": "code",
   "execution_count": null,
   "metadata": {},
   "outputs": [],
   "source": []
  },
  {
   "cell_type": "markdown",
   "metadata": {},
   "source": [
    "### Preprocessing chromatin accessibility dataset\n",
    "\n",
    "Consider the total peak regions and gene promoter regions (extending 10 kb from the transcription start site) as background.Overlap these regions with 1 kb regions used in ChromBERT.\n",
    "Extract the chromatin accessibility signals from BigWig files for each of these 1 kb regions. Calculate log2-transformed chromatin accessibility changes. "
   ]
  },
  {
   "cell_type": "code",
   "execution_count": 6,
   "metadata": {},
   "outputs": [],
   "source": [
    "\n",
    "chromatin_accessibility_dir = f'{base_dir}/demo/transdifferentiation/chrom_accessibility'\n"
   ]
  },
  {
   "cell_type": "code",
   "execution_count": 7,
   "metadata": {},
   "outputs": [
    {
     "data": {
      "text/plain": [
       "'/home/chenqianqian/.cache/chrombert/data/demo/transdifferentiation/chrom_accessibility'"
      ]
     },
     "execution_count": 7,
     "metadata": {},
     "output_type": "execute_result"
    }
   ],
   "source": [
    "chromatin_accessibility_dir"
   ]
  },
  {
   "cell_type": "code",
   "execution_count": 8,
   "metadata": {},
   "outputs": [],
   "source": [
    "if not os.path.exists(f'{chromatin_accessibility_dir}/fibroblast_ENCFF184KAM_peak.bed'):\n",
    "     cmd = f'wget https://www.encodeproject.org/files/ENCFF184KAM/@@download/ENCFF184KAM.bed.gz -O {chromatin_accessibility_dir}/fibroblast_ENCFF184KAM_peak.bed'\n",
    "     subprocess.run(cmd, shell=True)\n",
    "if not os.path.exists(f'{chromatin_accessibility_dir}/fibroblast_ENCFF361BTT_signal.bigwig'):\n",
    "     cmd = f'wget https://www.encodeproject.org/files/ENCFF361BTT/@@download/ENCFF361BTT.bigWig -O {chromatin_accessibility_dir}/fibroblast_ENCFF361BTT_signal.bigwig'\n",
    "     subprocess.run(cmd, shell=True)\n",
    "if not os.path.exists(f'{chromatin_accessibility_dir}/myoblast_ENCFF647RNC_peak.bed'):\n",
    "     cmd = f'wget https://www.encodeproject.org/files/ENCFF647RNC/@@download/ENCFF647RNC.bed.gz -O {chromatin_accessibility_dir}/myoblast_ENCFF647RNC_peak.bed'\n",
    "     subprocess.run(cmd, shell=True)\n",
    "if not os.path.exists(f'{chromatin_accessibility_dir}/myoblast_ENCFF149ERN_signal.bigwig'):\n",
    "     cmd = f'wget https://www.encodeproject.org/files/ENCFF149ERN/@@download/ENCFF149ERN.bigWig -O {chromatin_accessibility_dir}/myoblast_ENCFF149ERN_signal.bigwig'\n",
    "     subprocess.run(cmd, shell=True)     "
   ]
  },
  {
   "cell_type": "markdown",
   "metadata": {},
   "source": [
    "#### Merge peak during transdifferentiation\n",
    "merge peak for the cell type involved in transdifferentiation to generate total peak file and Overlap total peak file with chromBERT 1kb bins"
   ]
  },
  {
   "cell_type": "code",
   "execution_count": 9,
   "metadata": {},
   "outputs": [
    {
     "name": "stderr",
     "output_type": "stream",
     "text": [
      "Error: Sorted input specified, but the file /home/chenqianqian/.cache/chrombert/data/demo/transdifferentiation/chrom_accessibility/tmp_peak.bed has the following out of order record\n",
      "chr1\t180791\t180871\t.\t0\t.\t0.0397844\t-1\t-1\t75\n"
     ]
    },
    {
     "data": {
      "text/plain": [
       "CompletedProcess(args='bedtools merge -i /home/chenqianqian/.cache/chrombert/data/demo/transdifferentiation/chrom_accessibility/tmp_peak.bed > /home/chenqianqian/.cache/chrombert/data/demo/transdifferentiation/chrom_accessibility/total_peak.bed', returncode=1)"
      ]
     },
     "execution_count": 9,
     "metadata": {},
     "output_type": "execute_result"
    }
   ],
   "source": [
    "cmd = f\"cat {chromatin_accessibility_dir}/fibroblast_ENCFF184KAM_peak.bed {chromatin_accessibility_dir}/myoblast_ENCFF647RNC_peak.bed > {chromatin_accessibility_dir}/tmp_peak.bed\"\n",
    "subprocess.run(cmd, shell=True)\n",
    "cmd = f\"bedtools merge -i {chromatin_accessibility_dir}/tmp_peak.bed > {chromatin_accessibility_dir}/total_peak.bed\"\n",
    "subprocess.run(cmd, shell=True)"
   ]
  },
  {
   "cell_type": "code",
   "execution_count": 10,
   "metadata": {},
   "outputs": [
    {
     "data": {
      "text/plain": [
       "(249604,\n",
       "   chrom   start     end  build_region_index\n",
       " 0  chr1  181000  182000                  39\n",
       " 1  chr1  191000  192000                  46\n",
       " 2  chr1  268000  269000                  54\n",
       " 3  chr1  729000  730000                  93\n",
       " 4  chr1  778000  779000                 102)"
      ]
     },
     "execution_count": 10,
     "metadata": {},
     "output_type": "execute_result"
    }
   ],
   "source": [
    "from chrombert.scripts.chrombert_make_dataset import get_regions,process\n",
    "chrom_regions = get_regions(base_dir,genome='hg38',high_resolution=False) # 1kb\n",
    "total_peak_process = process(f'{chromatin_accessibility_dir}/total_peak.bed',chrom_regions,mode='region')[['chrom','start','end','build_region_index']]\n",
    "len(total_peak_process),total_peak_process.head()"
   ]
  },
  {
   "cell_type": "markdown",
   "metadata": {},
   "source": [
    "#### Generate background regions\n",
    "To add some background regions, you need to include regions near the promoter TSS (within 10kb) as background samples and overlap these background regions with ChromBERT 1kb bins."
   ]
  },
  {
   "cell_type": "code",
   "execution_count": 11,
   "metadata": {},
   "outputs": [
    {
     "data": {
      "text/html": [
       "<div>\n",
       "<style scoped>\n",
       "    .dataframe tbody tr th:only-of-type {\n",
       "        vertical-align: middle;\n",
       "    }\n",
       "\n",
       "    .dataframe tbody tr th {\n",
       "        vertical-align: top;\n",
       "    }\n",
       "\n",
       "    .dataframe thead th {\n",
       "        text-align: right;\n",
       "    }\n",
       "</style>\n",
       "<table border=\"1\" class=\"dataframe\">\n",
       "  <thead>\n",
       "    <tr style=\"text-align: right;\">\n",
       "      <th></th>\n",
       "      <th>chrom</th>\n",
       "      <th>start</th>\n",
       "      <th>end</th>\n",
       "    </tr>\n",
       "  </thead>\n",
       "  <tbody>\n",
       "    <tr>\n",
       "      <th>0</th>\n",
       "      <td>chr19</td>\n",
       "      <td>58343492</td>\n",
       "      <td>58363492</td>\n",
       "    </tr>\n",
       "    <tr>\n",
       "      <th>1</th>\n",
       "      <td>chr19</td>\n",
       "      <td>58337718</td>\n",
       "      <td>58357718</td>\n",
       "    </tr>\n",
       "    <tr>\n",
       "      <th>2</th>\n",
       "      <td>chr10</td>\n",
       "      <td>50875675</td>\n",
       "      <td>50895675</td>\n",
       "    </tr>\n",
       "    <tr>\n",
       "      <th>3</th>\n",
       "      <td>chr12</td>\n",
       "      <td>9106229</td>\n",
       "      <td>9126229</td>\n",
       "    </tr>\n",
       "    <tr>\n",
       "      <th>4</th>\n",
       "      <td>chr12</td>\n",
       "      <td>9055163</td>\n",
       "      <td>9075163</td>\n",
       "    </tr>\n",
       "  </tbody>\n",
       "</table>\n",
       "</div>"
      ],
      "text/plain": [
       "   chrom     start       end\n",
       "0  chr19  58343492  58363492\n",
       "1  chr19  58337718  58357718\n",
       "2  chr10  50875675  50895675\n",
       "3  chr12   9106229   9126229\n",
       "4  chr12   9055163   9075163"
      ]
     },
     "execution_count": 11,
     "metadata": {},
     "output_type": "execute_result"
    }
   ],
   "source": [
    "gep_df = pd.read_csv(f'{gep_dir}/fibroblast_to_myoblast_expression_changes.csv')\n",
    "gep_df_tss_10kb = pd.DataFrame({'chrom':gep_df['chrom'],'start':gep_df['tss']-10000,'end':gep_df['tss']+10000})\n",
    "gep_df_tss_10kb\n",
    "gep_df_tss_10kb.to_csv(f'{chromatin_accessibility_dir}/gep_df_tss_10kb.bed',sep='\\t',index=False,header=None)\n",
    "gep_df_tss_10kb.head()"
   ]
  },
  {
   "cell_type": "code",
   "execution_count": 12,
   "metadata": {},
   "outputs": [
    {
     "data": {
      "text/plain": [
       "(295682,\n",
       "   chrom   start     end  build_region_index\n",
       " 0  chr1  815000  816000                 126\n",
       " 1  chr1  816000  817000                 127\n",
       " 2  chr1  817000  818000                 128\n",
       " 3  chr1  818000  819000                 129\n",
       " 4  chr1  819000  820000                 130)"
      ]
     },
     "execution_count": 12,
     "metadata": {},
     "output_type": "execute_result"
    }
   ],
   "source": [
    "gep_df_tss_10kb_process = process(f'{chromatin_accessibility_dir}/gep_df_tss_10kb.bed',chrom_regions,mode='region').drop_duplicates(subset='build_region_index')[['chrom','start','end','build_region_index']]\n",
    "len(gep_df_tss_10kb_process),gep_df_tss_10kb_process.head()"
   ]
  },
  {
   "cell_type": "markdown",
   "metadata": {},
   "source": [
    "#### Merge peak and background region to generate total region\n",
    "Generate the total region by concatenating the total peak and negative regions."
   ]
  },
  {
   "cell_type": "code",
   "execution_count": 13,
   "metadata": {},
   "outputs": [
    {
     "data": {
      "text/plain": [
       "(491615,\n",
       "   chrom   start     end  build_region_index\n",
       " 0  chr1  181000  182000                  39\n",
       " 1  chr1  191000  192000                  46\n",
       " 2  chr1  268000  269000                  54\n",
       " 3  chr1  729000  730000                  93\n",
       " 4  chr1  778000  779000                 102)"
      ]
     },
     "execution_count": 13,
     "metadata": {},
     "output_type": "execute_result"
    }
   ],
   "source": [
    "total_region_processed = pd.concat([total_peak_process,gep_df_tss_10kb_process],axis=0).drop_duplicates().reset_index(drop=True)\n",
    "total_region_processed.to_csv(f'{chromatin_accessibility_dir}/total_region_processed.csv',index=False)\n",
    "len(total_region_processed),total_region_processed.head()"
   ]
  },
  {
   "cell_type": "markdown",
   "metadata": {},
   "source": [
    "#### Extract the chromatin accessibility signals"
   ]
  },
  {
   "cell_type": "code",
   "execution_count": 14,
   "metadata": {},
   "outputs": [],
   "source": [
    "import bbi  # pip install pybbi\n",
    "def bw_getSignal_bins(\n",
    "    bw, regions:pd.DataFrame,name\n",
    "    ):\n",
    "    regions = regions.copy()\n",
    "    with bbi.open(str(bw)) as bwf:\n",
    "        mtx = bwf.stackup(regions[\"chrom\"],regions[\"start\"],regions[\"end\"], bins=1, missing=0)\n",
    "        mean= bwf.info[\"summary\"][\"mean\"]\n",
    "        mtx = mtx/mean\n",
    "    df_signal = pd.DataFrame(data = mtx, columns = [f'{name}_signal'])\n",
    "    return df_signal"
   ]
  },
  {
   "cell_type": "code",
   "execution_count": 15,
   "metadata": {},
   "outputs": [],
   "source": [
    "fibroblast_signal = bw_getSignal_bins(bw=f'{chromatin_accessibility_dir}/fibroblast_ENCFF361BTT_signal.bigwig',regions=total_region_processed,name='fibroblast')\n"
   ]
  },
  {
   "cell_type": "code",
   "execution_count": 16,
   "metadata": {},
   "outputs": [],
   "source": [
    "myoblast_signal = bw_getSignal_bins(bw=f'{chromatin_accessibility_dir}/myoblast_ENCFF149ERN_signal.bigwig',regions=total_region_processed,name='myoblast')"
   ]
  },
  {
   "cell_type": "markdown",
   "metadata": {},
   "source": [
    "#### Calculate the log2-transformed fold change"
   ]
  },
  {
   "cell_type": "code",
   "execution_count": 17,
   "metadata": {},
   "outputs": [
    {
     "data": {
      "text/html": [
       "<div>\n",
       "<style scoped>\n",
       "    .dataframe tbody tr th:only-of-type {\n",
       "        vertical-align: middle;\n",
       "    }\n",
       "\n",
       "    .dataframe tbody tr th {\n",
       "        vertical-align: top;\n",
       "    }\n",
       "\n",
       "    .dataframe thead th {\n",
       "        text-align: right;\n",
       "    }\n",
       "</style>\n",
       "<table border=\"1\" class=\"dataframe\">\n",
       "  <thead>\n",
       "    <tr style=\"text-align: right;\">\n",
       "      <th></th>\n",
       "      <th>chrom</th>\n",
       "      <th>start</th>\n",
       "      <th>end</th>\n",
       "      <th>build_region_index</th>\n",
       "      <th>label</th>\n",
       "      <th>fibroblast_signal</th>\n",
       "      <th>myoblast_signal</th>\n",
       "    </tr>\n",
       "  </thead>\n",
       "  <tbody>\n",
       "    <tr>\n",
       "      <th>0</th>\n",
       "      <td>chr1</td>\n",
       "      <td>181000</td>\n",
       "      <td>182000</td>\n",
       "      <td>39</td>\n",
       "      <td>0.001996</td>\n",
       "      <td>2.543848</td>\n",
       "      <td>2.548754</td>\n",
       "    </tr>\n",
       "    <tr>\n",
       "      <th>1</th>\n",
       "      <td>chr1</td>\n",
       "      <td>191000</td>\n",
       "      <td>192000</td>\n",
       "      <td>46</td>\n",
       "      <td>-0.678009</td>\n",
       "      <td>1.386900</td>\n",
       "      <td>0.491877</td>\n",
       "    </tr>\n",
       "    <tr>\n",
       "      <th>2</th>\n",
       "      <td>chr1</td>\n",
       "      <td>268000</td>\n",
       "      <td>269000</td>\n",
       "      <td>54</td>\n",
       "      <td>-0.329329</td>\n",
       "      <td>1.324022</td>\n",
       "      <td>0.849704</td>\n",
       "    </tr>\n",
       "    <tr>\n",
       "      <th>3</th>\n",
       "      <td>chr1</td>\n",
       "      <td>729000</td>\n",
       "      <td>730000</td>\n",
       "      <td>93</td>\n",
       "      <td>-0.491940</td>\n",
       "      <td>0.470683</td>\n",
       "      <td>0.045756</td>\n",
       "    </tr>\n",
       "    <tr>\n",
       "      <th>4</th>\n",
       "      <td>chr1</td>\n",
       "      <td>778000</td>\n",
       "      <td>779000</td>\n",
       "      <td>102</td>\n",
       "      <td>0.098767</td>\n",
       "      <td>37.696015</td>\n",
       "      <td>40.437941</td>\n",
       "    </tr>\n",
       "  </tbody>\n",
       "</table>\n",
       "</div>"
      ],
      "text/plain": [
       "  chrom   start     end  build_region_index     label  fibroblast_signal  \\\n",
       "0  chr1  181000  182000                  39  0.001996           2.543848   \n",
       "1  chr1  191000  192000                  46 -0.678009           1.386900   \n",
       "2  chr1  268000  269000                  54 -0.329329           1.324022   \n",
       "3  chr1  729000  730000                  93 -0.491940           0.470683   \n",
       "4  chr1  778000  779000                 102  0.098767          37.696015   \n",
       "\n",
       "   myoblast_signal  \n",
       "0         2.548754  \n",
       "1         0.491877  \n",
       "2         0.849704  \n",
       "3         0.045756  \n",
       "4        40.437941  "
      ]
     },
     "execution_count": 17,
     "metadata": {},
     "output_type": "execute_result"
    }
   ],
   "source": [
    "total_region_signal_processed = pd.concat([total_region_processed,fibroblast_signal,myoblast_signal],axis=1)\n",
    "total_region_signal_processed['fold_change'] = np.log2(1+total_region_signal_processed['myoblast_signal']) - np.log2(1+total_region_signal_processed['fibroblast_signal'])\n",
    "total_region_signal_processed\n",
    "chrom_accessibility_df = total_region_signal_processed[['chrom','start','end','build_region_index','fold_change','fibroblast_signal','myoblast_signal']].rename(columns={'fold_change':'label'})\n",
    "chrom_accessibility_df.to_csv(f'{chromatin_accessibility_dir}/fibroblast_to_myoblast_chrom_accessibility_changes.csv',index=False)\n",
    "chrom_accessibility_df.head()"
   ]
  },
  {
   "cell_type": "markdown",
   "metadata": {},
   "source": [
    "#### Preprocessing the fine-tuning data of chromatin accessibility \n",
    "Splitting it into training, testing, and validation sets with an 8:1:1 ratio and Downsample the data to test the fine-tuning process\n"
   ]
  },
  {
   "cell_type": "code",
   "execution_count": 18,
   "metadata": {},
   "outputs": [
    {
     "data": {
      "text/html": [
       "<div>\n",
       "<style scoped>\n",
       "    .dataframe tbody tr th:only-of-type {\n",
       "        vertical-align: middle;\n",
       "    }\n",
       "\n",
       "    .dataframe tbody tr th {\n",
       "        vertical-align: top;\n",
       "    }\n",
       "\n",
       "    .dataframe thead th {\n",
       "        text-align: right;\n",
       "    }\n",
       "</style>\n",
       "<table border=\"1\" class=\"dataframe\">\n",
       "  <thead>\n",
       "    <tr style=\"text-align: right;\">\n",
       "      <th></th>\n",
       "      <th>chrom</th>\n",
       "      <th>start</th>\n",
       "      <th>end</th>\n",
       "      <th>build_region_index</th>\n",
       "      <th>label</th>\n",
       "      <th>fibroblast_signal</th>\n",
       "      <th>myoblast_signal</th>\n",
       "    </tr>\n",
       "  </thead>\n",
       "  <tbody>\n",
       "    <tr>\n",
       "      <th>267005</th>\n",
       "      <td>chr1</td>\n",
       "      <td>160963000</td>\n",
       "      <td>160964000</td>\n",
       "      <td>111173</td>\n",
       "      <td>0.253080</td>\n",
       "      <td>0.235342</td>\n",
       "      <td>0.472217</td>\n",
       "    </tr>\n",
       "    <tr>\n",
       "      <th>458923</th>\n",
       "      <td>chr7</td>\n",
       "      <td>73835000</td>\n",
       "      <td>73836000</td>\n",
       "      <td>1798466</td>\n",
       "      <td>0.044447</td>\n",
       "      <td>0.034134</td>\n",
       "      <td>0.066489</td>\n",
       "    </tr>\n",
       "    <tr>\n",
       "      <th>50428</th>\n",
       "      <td>chr12</td>\n",
       "      <td>41932000</td>\n",
       "      <td>41933000</td>\n",
       "      <td>415524</td>\n",
       "      <td>-0.245291</td>\n",
       "      <td>1.433608</td>\n",
       "      <td>1.053103</td>\n",
       "    </tr>\n",
       "    <tr>\n",
       "      <th>250859</th>\n",
       "      <td>chr1</td>\n",
       "      <td>8210000</td>\n",
       "      <td>8211000</td>\n",
       "      <td>6478</td>\n",
       "      <td>0.191804</td>\n",
       "      <td>0.302711</td>\n",
       "      <td>0.487945</td>\n",
       "    </tr>\n",
       "    <tr>\n",
       "      <th>370974</th>\n",
       "      <td>chr19</td>\n",
       "      <td>50858000</td>\n",
       "      <td>50859000</td>\n",
       "      <td>912107</td>\n",
       "      <td>0.274903</td>\n",
       "      <td>0.195819</td>\n",
       "      <td>0.446836</td>\n",
       "    </tr>\n",
       "  </tbody>\n",
       "</table>\n",
       "</div>"
      ],
      "text/plain": [
       "        chrom      start        end  build_region_index     label  \\\n",
       "267005   chr1  160963000  160964000              111173  0.253080   \n",
       "458923   chr7   73835000   73836000             1798466  0.044447   \n",
       "50428   chr12   41932000   41933000              415524 -0.245291   \n",
       "250859   chr1    8210000    8211000                6478  0.191804   \n",
       "370974  chr19   50858000   50859000              912107  0.274903   \n",
       "\n",
       "        fibroblast_signal  myoblast_signal  \n",
       "267005           0.235342         0.472217  \n",
       "458923           0.034134         0.066489  \n",
       "50428            1.433608         1.053103  \n",
       "250859           0.302711         0.487945  \n",
       "370974           0.195819         0.446836  "
      ]
     },
     "execution_count": 18,
     "metadata": {},
     "output_type": "execute_result"
    }
   ],
   "source": [
    "train_data = chrom_accessibility_df.sample(frac=0.8,random_state=55)\n",
    "test_data = chrom_accessibility_df.drop(train_data.index).sample(frac=0.5,random_state=55)\n",
    "valid_data = chrom_accessibility_df.drop(train_data.index).drop(test_data.index)\n",
    "\n",
    "train_data_sample = train_data.sample(n=80,random_state=55)\n",
    "test_data_sample = test_data.sample(n=20,random_state=55)\n",
    "valid_data_sample = valid_data.sample(n=20,random_state=55)\n",
    "\n",
    "\n",
    "train_data_sample.to_csv(f'{chromatin_accessibility_dir}/train_sample.csv',index=False)\n",
    "test_data_sample.to_csv(f'{chromatin_accessibility_dir}/test_sample.csv',index=False)\n",
    "valid_data_sample.to_csv(f'{chromatin_accessibility_dir}/valid_sample.csv',index=False)\n",
    "train_data_sample.head()"
   ]
  },
  {
   "cell_type": "markdown",
   "metadata": {},
   "source": [
    "#### Prepare the upregulated regions and unchanged regions for downstream analysis. \n",
    "\n",
    "Regions showing a log2-transformed chrom accessibility difference greater than 2 were marked as having increased chromatin accessibility, Uncovered regions were excluded, with the top 40,000 regions showing the absolute fold changes selected as those with unchanged accessibility."
   ]
  },
  {
   "cell_type": "code",
   "execution_count": 19,
   "metadata": {},
   "outputs": [
    {
     "name": "stderr",
     "output_type": "stream",
     "text": [
      "/tmp/ipykernel_1234/1160250605.py:5: SettingWithCopyWarning: \n",
      "A value is trying to be set on a copy of a slice from a DataFrame.\n",
      "Try using .loc[row_indexer,col_indexer] = value instead\n",
      "\n",
      "See the caveats in the documentation: https://pandas.pydata.org/pandas-docs/stable/user_guide/indexing.html#returning-a-view-versus-a-copy\n",
      "  covered_region['label_abs'] = np.abs(covered_region['label'])\n"
     ]
    }
   ],
   "source": [
    "chrom_accessibility_df = pd.read_csv(f'{chromatin_accessibility_dir}/fibroblast_to_myoblast_chrom_accessibility_changes.csv')\n",
    "up_data = chrom_accessibility_df[chrom_accessibility_df['label']>2]\n",
    "\n",
    "covered_region = chrom_accessibility_df[(chrom_accessibility_df['fibroblast_signal']>0) & (chrom_accessibility_df['myoblast_signal']>0)]\n",
    "covered_region['label_abs'] = np.abs(covered_region['label'])\n",
    "nochange_data = covered_region.sort_values('label_abs').reset_index(drop=True).iloc[0:40000]\n",
    "\n",
    "\n",
    "up_data_sample = up_data.sample(n=100,random_state=55)\n",
    "nochange_data_sample = nochange_data.sample(n=100,random_state=55)\n",
    "\n",
    "\n",
    "up_data_sample.to_csv(f'{chromatin_accessibility_dir}/up_data_sample.csv',index=False)\n",
    "nochange_data_sample.to_csv(f'{chromatin_accessibility_dir}/nochange_data_sample.csv',index=False)"
   ]
  },
  {
   "cell_type": "markdown",
   "metadata": {},
   "source": [
    "## Fine-tune\n",
    "\n",
    "In this section, we provide a tutorial for fine-tuning ChromBERTs to predict genome-wide changes in transcriptome and chromatin accessibility. \n",
    "The fine-tuning process for chromatin accessibility is general. However, the objectives for transcriptome changes differed due to the potential uncertainty in the influence of regions adjacent to transcription start sites (TSSs) on gene expression,  with a few key modifications:\n",
    "- Dataset config Preparation: We use the `multi_flank_window` preset dataset config and set four `flank_window` parameter\n",
    "- Model Instantiation: We use the `gep` preset model config and set four `gep_flank_window` parameter\n",
    "Let's get started!"
   ]
  },
  {
   "cell_type": "code",
   "execution_count": 1,
   "metadata": {},
   "outputs": [],
   "source": [
    "import numpy as np\n",
    "import os\n",
    "os.environ[\"CUDA_VISIBLE_DEVICES\"]='0'\n",
    "import torch\n",
    "import chrombert\n",
    "import pandas as pd\n",
    "from torchinfo import summary\n",
    "import lightning.pytorch as pl \n"
   ]
  },
  {
   "cell_type": "code",
   "execution_count": 2,
   "metadata": {},
   "outputs": [],
   "source": [
    "base_dir = '/home/chenqianqian/.cache/chrombert/data'"
   ]
  },
  {
   "cell_type": "markdown",
   "metadata": {},
   "source": [
    "### Fine-tuning ChromBERTs to predict genome-wide changes in transcriptome "
   ]
  },
  {
   "cell_type": "markdown",
   "metadata": {},
   "source": [
    "#### Set dataset config and data_module\n",
    "\n",
    "We use the `multi_flank_window` preset dataset config and set four `flank_window` parameter"
   ]
  },
  {
   "cell_type": "code",
   "execution_count": 3,
   "metadata": {},
   "outputs": [
    {
     "name": "stdout",
     "output_type": "stream",
     "text": [
      "update path: hdf5_file = hg38_6k_1kb.hdf5\n",
      "update path: meta_file = config/hg38_6k_meta.json\n"
     ]
    },
    {
     "data": {
      "text/plain": [
       "DatasetConfig({'hdf5_file': '/home/chenqianqian/.cache/chrombert/data/hg38_6k_1kb.hdf5', 'supervised_file': None, 'kind': 'MultiFlankwindowDataset', 'meta_file': '/home/chenqianqian/.cache/chrombert/data/config/hg38_6k_meta.json', 'ignore': False, 'ignore_object': None, 'batch_size': 4, 'num_workers': 4, 'shuffle': False, 'perturbation': False, 'perturbation_object': None, 'perturbation_value': 0, 'prompt_kind': None, 'prompt_regulator': None, 'prompt_regulator_cache_file': None, 'prompt_celltype': None, 'prompt_celltype_cache_file': None, 'fasta_file': None, 'flank_window': 4})"
      ]
     },
     "execution_count": 3,
     "metadata": {},
     "output_type": "execute_result"
    }
   ],
   "source": [
    "dataset_config = chrombert.get_preset_dataset_config(\"multi_flank_window\",supervised_file = None, batch_size = 4, num_workers = 4,flank_window=4)\n",
    "dataset_config"
   ]
  },
  {
   "cell_type": "code",
   "execution_count": 4,
   "metadata": {},
   "outputs": [],
   "source": [
    "gep_dir = f'{base_dir}/demo/transdifferentiation/transcriptome'"
   ]
  },
  {
   "cell_type": "code",
   "execution_count": 5,
   "metadata": {},
   "outputs": [],
   "source": [
    "data_module = chrombert.LitChromBERTFTDataModule(\n",
    "    config = dataset_config, \n",
    "    train_params = {'supervised_file': f'{gep_dir}/train_sample.csv'}, \n",
    "    val_params = {'supervised_file':f'{gep_dir}/valid_sample.csv'}, \n",
    "    test_params = {'supervised_file':f'{gep_dir}/test_sample.csv'}\n",
    ")\n",
    "data_module.setup()"
   ]
  },
  {
   "cell_type": "markdown",
   "metadata": {},
   "source": [
    "#### Set model config and model loading\n",
    "We use the `gep` preset model config and set four `gep_flank_window` parameter"
   ]
  },
  {
   "cell_type": "code",
   "execution_count": 6,
   "metadata": {},
   "outputs": [
    {
     "name": "stdout",
     "output_type": "stream",
     "text": [
      "update path: mtx_mask = config/hg38_6k_mask_matrix.tsv\n",
      "update path: pretrain_ckpt = checkpoint/hg38_6k_1kb_pretrain.ckpt\n"
     ]
    },
    {
     "data": {
      "text/plain": [
       "ChromBERTFTConfig(genome='hg38', task='gep', dim_output=1, mtx_mask='/home/chenqianqian/.cache/chrombert/data/config/hg38_6k_mask_matrix.tsv', dropout=0.1, pretrain_ckpt='/home/chenqianqian/.cache/chrombert/data/checkpoint/hg38_6k_1kb_pretrain.ckpt', finetune_ckpt=None, ignore=False, ignore_index=(None, None), gep_flank_window=4, gep_parallel_embedding=False, gep_gradient_checkpoint=False, gep_zero_inflation=True, prompt_kind='cistrome', prompt_dim_external=512, dnabert2_ckpt=None)"
      ]
     },
     "execution_count": 6,
     "metadata": {},
     "output_type": "execute_result"
    }
   ],
   "source": [
    "model_config = chrombert.get_preset_model_config(\"gep\",gep_flank_window=4)\n",
    "model_config"
   ]
  },
  {
   "cell_type": "code",
   "execution_count": 7,
   "metadata": {},
   "outputs": [
    {
     "name": "stdout",
     "output_type": "stream",
     "text": [
      "use organisim hg38; max sequence length including cls is 6392\n"
     ]
    },
    {
     "data": {
      "text/plain": [
       "=====================================================================================\n",
       "Layer (type:depth-idx)                                       Param #\n",
       "=====================================================================================\n",
       "ChromBERTGEP                                                 --\n",
       "├─PoolFlankWindow: 1-1                                       --\n",
       "│    └─ChromBERT: 2-1                                        --\n",
       "│    │    └─BERTEmbedding: 3-1                               (4,916,736)\n",
       "│    │    └─ModuleList: 3-2                                  51,978,240\n",
       "├─GepHeader: 1-2                                             --\n",
       "│    └─CistromeEmbeddingManager: 2-2                         --\n",
       "│    └─Conv2d: 2-3                                           769\n",
       "│    └─ReLU: 2-4                                             --\n",
       "│    └─ResidualBlock: 2-5                                    --\n",
       "│    │    └─Linear: 3-3                                      1,090,560\n",
       "│    │    └─Linear: 3-4                                      1,049,600\n",
       "│    │    └─LayerNorm: 3-5                                   2,048\n",
       "│    │    └─Linear: 3-6                                      1,090,560\n",
       "│    │    └─Dropout: 3-7                                     --\n",
       "│    └─ResidualBlock: 2-6                                    --\n",
       "│    │    └─Linear: 3-8                                      787,200\n",
       "│    │    └─Linear: 3-9                                      590,592\n",
       "│    │    └─LayerNorm: 3-10                                  1,536\n",
       "│    │    └─Linear: 3-11                                     787,200\n",
       "│    │    └─Dropout: 3-12                                    --\n",
       "│    └─ResidualBlock: 2-7                                    --\n",
       "│    │    └─Linear: 3-13                                     196,864\n",
       "│    │    └─Linear: 3-14                                     65,792\n",
       "│    │    └─LayerNorm: 3-15                                  512\n",
       "│    │    └─Linear: 3-16                                     196,864\n",
       "│    │    └─Dropout: 3-17                                    --\n",
       "│    └─Sequential: 2-8                                       --\n",
       "│    │    └─Linear: 3-18                                     257\n",
       "│    └─Linear: 2-9                                           257\n",
       "=====================================================================================\n",
       "Total params: 62,755,587\n",
       "Trainable params: 18,855,171\n",
       "Non-trainable params: 43,900,416\n",
       "====================================================================================="
      ]
     },
     "execution_count": 7,
     "metadata": {},
     "output_type": "execute_result"
    }
   ],
   "source": [
    "model = model_config.init_model()\n",
    "model.freeze_pretrain(2) ### freeze chrombert 6 transformer blocks\n",
    "summary(model)"
   ]
  },
  {
   "cell_type": "markdown",
   "metadata": {},
   "source": [
    "#### Set train config and finetune\n",
    "\n",
    "We fine-tune the model using PyTorch Lightning. A simple configuration is created to process parameters, and tuning is performed on a limited dataset to save time.\n",
    "Note: The tuning process is random, so results may vary. To achieve the best results, consider increasing the number of epochs and the size of the dataset used\n"
   ]
  },
  {
   "cell_type": "code",
   "execution_count": 8,
   "metadata": {},
   "outputs": [
    {
     "name": "stderr",
     "output_type": "stream",
     "text": [
      "/home/chenqianqian/.conda/envs/demo/lib/python3.9/site-packages/torchmetrics/utilities/prints.py:43: UserWarning: Metric `SpearmanCorrcoef` will save all targets and predictions in the buffer. For large datasets, this may lead to large memory footprint.\n",
      "  warnings.warn(*args, **kwargs)  # noqa: B028\n"
     ]
    },
    {
     "data": {
      "text/plain": [
       "chrombert.finetune.train.pl_module.ZeroInflationPLModule"
      ]
     },
     "execution_count": 8,
     "metadata": {},
     "output_type": "execute_result"
    }
   ],
   "source": [
    "train_config = chrombert.finetune.TrainConfig(kind='zero_inflation',        \n",
    "loss='zero_inflation',\n",
    "max_epochs=2,\n",
    "accumulate_grad_batches=2,\n",
    "val_check_interval=2,\n",
    "limit_val_batches=10,\n",
    "tag='gep')\n",
    "pl_module = train_config.init_pl_module(model) # wrap model with PyTorch Lightning module\n",
    "type(pl_module)"
   ]
  },
  {
   "cell_type": "markdown",
   "metadata": {},
   "source": [
    "Then we start tuning!   \n",
    "The trainer will save logs in a format compatible with TensorBoard, and the checkpoint with the lowest validation loss will be saved during the process.\n",
    "\n"
   ]
  },
  {
   "cell_type": "code",
   "execution_count": 9,
   "metadata": {},
   "outputs": [
    {
     "name": "stderr",
     "output_type": "stream",
     "text": [
      "Using bfloat16 Automatic Mixed Precision (AMP)\n",
      "GPU available: True (cuda), used: True\n",
      "TPU available: False, using: 0 TPU cores\n",
      "HPU available: False, using: 0 HPUs\n",
      "You are using a CUDA device ('NVIDIA A100-PCIE-40GB') that has Tensor Cores. To properly utilize them, you should set `torch.set_float32_matmul_precision('medium' | 'high')` which will trade-off precision for performance. For more details, read https://pytorch.org/docs/stable/generated/torch.set_float32_matmul_precision.html#torch.set_float32_matmul_precision\n",
      "Missing logger folder: lightning_logs/gep\n",
      "LOCAL_RANK: 0 - CUDA_VISIBLE_DEVICES: [0]\n",
      "Loading `train_dataloader` to estimate number of stepping batches.\n",
      "\n",
      "  | Name  | Type         | Params | Mode \n",
      "-----------------------------------------------\n",
      "0 | model | ChromBERTGEP | 62.8 M | train\n",
      "-----------------------------------------------\n",
      "18.9 M    Trainable params\n",
      "43.9 M    Non-trainable params\n",
      "62.8 M    Total params\n",
      "251.022   Total estimated model params size (MB)\n"
     ]
    },
    {
     "data": {
      "application/vnd.jupyter.widget-view+json": {
       "model_id": "8d87902929934fd9873ad6fb82004463",
       "version_major": 2,
       "version_minor": 0
      },
      "text/plain": [
       "Sanity Checking: |          | 0/? [00:00<?, ?it/s]"
      ]
     },
     "metadata": {},
     "output_type": "display_data"
    },
    {
     "name": "stderr",
     "output_type": "stream",
     "text": [
      "/home/chenqianqian/.conda/envs/demo/lib/python3.9/site-packages/lightning/pytorch/trainer/connectors/data_connector.py:475: Your `val_dataloader`'s sampler has shuffling enabled, it is strongly recommended that you turn shuffling off for val/test dataloaders.\n"
     ]
    },
    {
     "data": {
      "application/vnd.jupyter.widget-view+json": {
       "model_id": "9cfb291a57014622b996c9788ee7d4de",
       "version_major": 2,
       "version_minor": 0
      },
      "text/plain": [
       "Training: |          | 0/? [00:00<?, ?it/s]"
      ]
     },
     "metadata": {},
     "output_type": "display_data"
    },
    {
     "data": {
      "application/vnd.jupyter.widget-view+json": {
       "model_id": "e74bb23f83ce4660b789d7a673b90476",
       "version_major": 2,
       "version_minor": 0
      },
      "text/plain": [
       "Validation: |          | 0/? [00:00<?, ?it/s]"
      ]
     },
     "metadata": {},
     "output_type": "display_data"
    },
    {
     "data": {
      "application/vnd.jupyter.widget-view+json": {
       "model_id": "9741c5ac7c954d16800a359c969e27ad",
       "version_major": 2,
       "version_minor": 0
      },
      "text/plain": [
       "Validation: |          | 0/? [00:00<?, ?it/s]"
      ]
     },
     "metadata": {},
     "output_type": "display_data"
    },
    {
     "data": {
      "application/vnd.jupyter.widget-view+json": {
       "model_id": "f0225c8cc3b24069be55c988ac5e7f84",
       "version_major": 2,
       "version_minor": 0
      },
      "text/plain": [
       "Validation: |          | 0/? [00:00<?, ?it/s]"
      ]
     },
     "metadata": {},
     "output_type": "display_data"
    },
    {
     "data": {
      "application/vnd.jupyter.widget-view+json": {
       "model_id": "ef04af78499d42b2a60742366ca99b7d",
       "version_major": 2,
       "version_minor": 0
      },
      "text/plain": [
       "Validation: |          | 0/? [00:00<?, ?it/s]"
      ]
     },
     "metadata": {},
     "output_type": "display_data"
    },
    {
     "data": {
      "application/vnd.jupyter.widget-view+json": {
       "model_id": "96935c165f904d8fbb7ee4caeb60b57a",
       "version_major": 2,
       "version_minor": 0
      },
      "text/plain": [
       "Validation: |          | 0/? [00:00<?, ?it/s]"
      ]
     },
     "metadata": {},
     "output_type": "display_data"
    },
    {
     "data": {
      "application/vnd.jupyter.widget-view+json": {
       "model_id": "9aa6e42238a24ea7921fd6e8ecb0d4a7",
       "version_major": 2,
       "version_minor": 0
      },
      "text/plain": [
       "Validation: |          | 0/? [00:00<?, ?it/s]"
      ]
     },
     "metadata": {},
     "output_type": "display_data"
    },
    {
     "data": {
      "application/vnd.jupyter.widget-view+json": {
       "model_id": "1f376b8ffdd2444b9fd399de4dd83a70",
       "version_major": 2,
       "version_minor": 0
      },
      "text/plain": [
       "Validation: |          | 0/? [00:00<?, ?it/s]"
      ]
     },
     "metadata": {},
     "output_type": "display_data"
    },
    {
     "data": {
      "application/vnd.jupyter.widget-view+json": {
       "model_id": "0ff4f95eae9147b195f4067cea4c1288",
       "version_major": 2,
       "version_minor": 0
      },
      "text/plain": [
       "Validation: |          | 0/? [00:00<?, ?it/s]"
      ]
     },
     "metadata": {},
     "output_type": "display_data"
    },
    {
     "name": "stderr",
     "output_type": "stream",
     "text": [
      "/home/chenqianqian/.conda/envs/demo/lib/python3.9/site-packages/torchmetrics/utilities/prints.py:43: UserWarning: The variance of predictions or target is close to zero. This can cause instability in Pearson correlationcoefficient, leading to wrong results. Consider re-scaling the input if possible or computing using alarger dtype (currently using torch.float32).\n",
      "  warnings.warn(*args, **kwargs)  # noqa: B028\n"
     ]
    },
    {
     "data": {
      "application/vnd.jupyter.widget-view+json": {
       "model_id": "50da152dc2974f42912bc45dc0346de3",
       "version_major": 2,
       "version_minor": 0
      },
      "text/plain": [
       "Validation: |          | 0/? [00:00<?, ?it/s]"
      ]
     },
     "metadata": {},
     "output_type": "display_data"
    },
    {
     "data": {
      "application/vnd.jupyter.widget-view+json": {
       "model_id": "486c060ac78d476f8b84e09939c32909",
       "version_major": 2,
       "version_minor": 0
      },
      "text/plain": [
       "Validation: |          | 0/? [00:00<?, ?it/s]"
      ]
     },
     "metadata": {},
     "output_type": "display_data"
    },
    {
     "data": {
      "application/vnd.jupyter.widget-view+json": {
       "model_id": "dfc00559d8b74b68b902a4f7220615ff",
       "version_major": 2,
       "version_minor": 0
      },
      "text/plain": [
       "Validation: |          | 0/? [00:00<?, ?it/s]"
      ]
     },
     "metadata": {},
     "output_type": "display_data"
    },
    {
     "data": {
      "application/vnd.jupyter.widget-view+json": {
       "model_id": "cacc104116fe4d76b6a5e3c7e52418d5",
       "version_major": 2,
       "version_minor": 0
      },
      "text/plain": [
       "Validation: |          | 0/? [00:00<?, ?it/s]"
      ]
     },
     "metadata": {},
     "output_type": "display_data"
    },
    {
     "data": {
      "application/vnd.jupyter.widget-view+json": {
       "model_id": "7144f54e84984fc1b8f2b9612ac1317a",
       "version_major": 2,
       "version_minor": 0
      },
      "text/plain": [
       "Validation: |          | 0/? [00:00<?, ?it/s]"
      ]
     },
     "metadata": {},
     "output_type": "display_data"
    },
    {
     "data": {
      "application/vnd.jupyter.widget-view+json": {
       "model_id": "74b8c3a6327941c391aab940e46f8ad9",
       "version_major": 2,
       "version_minor": 0
      },
      "text/plain": [
       "Validation: |          | 0/? [00:00<?, ?it/s]"
      ]
     },
     "metadata": {},
     "output_type": "display_data"
    },
    {
     "data": {
      "application/vnd.jupyter.widget-view+json": {
       "model_id": "94d8088639b24e889c7ac3b8e2447ce8",
       "version_major": 2,
       "version_minor": 0
      },
      "text/plain": [
       "Validation: |          | 0/? [00:00<?, ?it/s]"
      ]
     },
     "metadata": {},
     "output_type": "display_data"
    },
    {
     "data": {
      "application/vnd.jupyter.widget-view+json": {
       "model_id": "f324143d2159431c982d1954565da59c",
       "version_major": 2,
       "version_minor": 0
      },
      "text/plain": [
       "Validation: |          | 0/? [00:00<?, ?it/s]"
      ]
     },
     "metadata": {},
     "output_type": "display_data"
    },
    {
     "data": {
      "application/vnd.jupyter.widget-view+json": {
       "model_id": "42f1ca98d8ac4c58b055e77f2005d7eb",
       "version_major": 2,
       "version_minor": 0
      },
      "text/plain": [
       "Validation: |          | 0/? [00:00<?, ?it/s]"
      ]
     },
     "metadata": {},
     "output_type": "display_data"
    },
    {
     "data": {
      "application/vnd.jupyter.widget-view+json": {
       "model_id": "1d7823a44fba455b94d4d15b496b4997",
       "version_major": 2,
       "version_minor": 0
      },
      "text/plain": [
       "Validation: |          | 0/? [00:00<?, ?it/s]"
      ]
     },
     "metadata": {},
     "output_type": "display_data"
    },
    {
     "data": {
      "application/vnd.jupyter.widget-view+json": {
       "model_id": "fb885873403e4725ae6d59c2f0c15005",
       "version_major": 2,
       "version_minor": 0
      },
      "text/plain": [
       "Validation: |          | 0/? [00:00<?, ?it/s]"
      ]
     },
     "metadata": {},
     "output_type": "display_data"
    },
    {
     "data": {
      "application/vnd.jupyter.widget-view+json": {
       "model_id": "daa27f44a4554b3a99879163b46a8fe2",
       "version_major": 2,
       "version_minor": 0
      },
      "text/plain": [
       "Validation: |          | 0/? [00:00<?, ?it/s]"
      ]
     },
     "metadata": {},
     "output_type": "display_data"
    },
    {
     "name": "stderr",
     "output_type": "stream",
     "text": [
      "`Trainer.fit` stopped: `max_epochs=2` reached.\n"
     ]
    }
   ],
   "source": [
    "os.environ[\"PROTOCOL_BUFFERS_PYTHON_IMPLEMENTATION\"] = \"python\" # for tensorboard compatibility\n",
    "os.environ[\"CUDA_VISIBLE_DEVICES\"]='0'\n",
    "callback_ckpt = pl.callbacks.ModelCheckpoint(monitor = f\"{train_config.tag}_validation/{train_config.loss}\", mode = \"min\")\n",
    "trainer = pl.Trainer(\n",
    "    max_epochs=train_config.max_epochs,\n",
    "    log_every_n_steps=1, \n",
    "    limit_val_batches = train_config.limit_val_batches,\n",
    "    val_check_interval = train_config.val_check_interval,\n",
    "    accelerator=\"gpu\", \n",
    "    accumulate_grad_batches= train_config.accumulate_grad_batches, \n",
    "    fast_dev_run=False, \n",
    "    precision=\"bf16-mixed\",\n",
    "    strategy=\"auto\",\n",
    "    callbacks=[\n",
    "        pl.callbacks.LearningRateMonitor(),\n",
    "        callback_ckpt,   \n",
    "    ],\n",
    "    logger=pl.loggers.TensorBoardLogger(\"lightning_logs\", name='gep'))\n",
    "trainer.fit(pl_module,data_module)"
   ]
  },
  {
   "cell_type": "markdown",
   "metadata": {},
   "source": [
    "### Fine-tuning ChromBERTs to predict genome-wide changes in chromatin accessibility "
   ]
  },
  {
   "cell_type": "markdown",
   "metadata": {},
   "source": [
    "#### Set data config and data module\n",
    "We use the `general` preset dataset config"
   ]
  },
  {
   "cell_type": "code",
   "execution_count": 10,
   "metadata": {},
   "outputs": [
    {
     "name": "stdout",
     "output_type": "stream",
     "text": [
      "update path: hdf5_file = hg38_6k_1kb.hdf5\n",
      "update path: meta_file = config/hg38_6k_meta.json\n"
     ]
    },
    {
     "data": {
      "text/plain": [
       "DatasetConfig({'hdf5_file': '/home/chenqianqian/.cache/chrombert/data/hg38_6k_1kb.hdf5', 'supervised_file': None, 'kind': 'GeneralDataset', 'meta_file': '/home/chenqianqian/.cache/chrombert/data/config/hg38_6k_meta.json', 'ignore': False, 'ignore_object': None, 'batch_size': 4, 'num_workers': 4, 'shuffle': False, 'perturbation': False, 'perturbation_object': None, 'perturbation_value': 0, 'prompt_kind': None, 'prompt_regulator': None, 'prompt_regulator_cache_file': None, 'prompt_celltype': None, 'prompt_celltype_cache_file': None, 'fasta_file': None, 'flank_window': 0})"
      ]
     },
     "execution_count": 10,
     "metadata": {},
     "output_type": "execute_result"
    }
   ],
   "source": [
    "dataset_config = chrombert.get_preset_dataset_config(\"general\",supervised_file = None, batch_size = 4, num_workers = 4)\n",
    "dataset_config"
   ]
  },
  {
   "cell_type": "code",
   "execution_count": 13,
   "metadata": {},
   "outputs": [],
   "source": [
    "chrom_accessibility_dir = f'{base_dir}/demo/transdifferentiation/chrom_accessibility'"
   ]
  },
  {
   "cell_type": "code",
   "execution_count": 14,
   "metadata": {},
   "outputs": [],
   "source": [
    "data_module = chrombert.LitChromBERTFTDataModule(\n",
    "    config = dataset_config, \n",
    "    train_params = {'supervised_file': f'{chrom_accessibility_dir}/train_sample.csv'}, \n",
    "    val_params = {'supervised_file':f'{chrom_accessibility_dir}/valid_sample.csv'}, \n",
    "    test_params = {'supervised_file':f'{chrom_accessibility_dir}/test_sample.csv'}\n",
    ")\n",
    "data_module.setup()"
   ]
  },
  {
   "cell_type": "markdown",
   "metadata": {},
   "source": [
    "#### Set model config and model loading\n",
    "\n",
    "we use `general` preset model config"
   ]
  },
  {
   "cell_type": "code",
   "execution_count": 15,
   "metadata": {},
   "outputs": [
    {
     "name": "stdout",
     "output_type": "stream",
     "text": [
      "update path: mtx_mask = config/hg38_6k_mask_matrix.tsv\n",
      "update path: pretrain_ckpt = checkpoint/hg38_6k_1kb_pretrain.ckpt\n"
     ]
    },
    {
     "data": {
      "text/plain": [
       "ChromBERTFTConfig(genome='hg38', task='general', dim_output=1, mtx_mask='/home/chenqianqian/.cache/chrombert/data/config/hg38_6k_mask_matrix.tsv', dropout=0.1, pretrain_ckpt='/home/chenqianqian/.cache/chrombert/data/checkpoint/hg38_6k_1kb_pretrain.ckpt', finetune_ckpt=None, ignore=False, ignore_index=(None, None), gep_flank_window=4, gep_parallel_embedding=False, gep_gradient_checkpoint=False, gep_zero_inflation=True, prompt_kind='cistrome', prompt_dim_external=512, dnabert2_ckpt=None)"
      ]
     },
     "execution_count": 15,
     "metadata": {},
     "output_type": "execute_result"
    }
   ],
   "source": [
    "model_config = chrombert.get_preset_model_config(\"general\")\n",
    "model_config"
   ]
  },
  {
   "cell_type": "code",
   "execution_count": 16,
   "metadata": {},
   "outputs": [
    {
     "name": "stdout",
     "output_type": "stream",
     "text": [
      "use organisim hg38; max sequence length including cls is 6392\n"
     ]
    },
    {
     "data": {
      "text/plain": [
       "================================================================================\n",
       "Layer (type:depth-idx)                                  Param #\n",
       "================================================================================\n",
       "ChromBERTGeneral                                        --\n",
       "├─ChromBERT: 1-1                                        --\n",
       "│    └─BERTEmbedding: 2-1                               --\n",
       "│    │    └─TokenEmbedding: 3-1                         (7,680)\n",
       "│    │    └─PositionalEmbedding: 3-2                    (4,909,056)\n",
       "│    │    └─Dropout: 3-3                                --\n",
       "│    └─ModuleList: 2-2                                  --\n",
       "│    │    └─EncoderTransformerBlock: 3-4                (6,497,280)\n",
       "│    │    └─EncoderTransformerBlock: 3-5                (6,497,280)\n",
       "│    │    └─EncoderTransformerBlock: 3-6                (6,497,280)\n",
       "│    │    └─EncoderTransformerBlock: 3-7                (6,497,280)\n",
       "│    │    └─EncoderTransformerBlock: 3-8                (6,497,280)\n",
       "│    │    └─EncoderTransformerBlock: 3-9                (6,497,280)\n",
       "│    │    └─EncoderTransformerBlock: 3-10               6,497,280\n",
       "│    │    └─EncoderTransformerBlock: 3-11               6,497,280\n",
       "├─GeneralHeader: 1-2                                    --\n",
       "│    └─CistromeEmbeddingManager: 2-3                    --\n",
       "│    └─Conv2d: 2-4                                      769\n",
       "│    └─ReLU: 2-5                                        --\n",
       "│    └─ResidualBlock: 2-6                               --\n",
       "│    │    └─Linear: 3-12                                1,090,560\n",
       "│    │    └─Linear: 3-13                                1,049,600\n",
       "│    │    └─LayerNorm: 3-14                             2,048\n",
       "│    │    └─Linear: 3-15                                1,090,560\n",
       "│    │    └─Dropout: 3-16                               --\n",
       "│    └─ResidualBlock: 2-7                               --\n",
       "│    │    └─Linear: 3-17                                787,200\n",
       "│    │    └─Linear: 3-18                                590,592\n",
       "│    │    └─LayerNorm: 3-19                             1,536\n",
       "│    │    └─Linear: 3-20                                787,200\n",
       "│    │    └─Dropout: 3-21                               --\n",
       "│    └─ResidualBlock: 2-8                               --\n",
       "│    │    └─Linear: 3-22                                196,864\n",
       "│    │    └─Linear: 3-23                                65,792\n",
       "│    │    └─LayerNorm: 3-24                             512\n",
       "│    │    └─Linear: 3-25                                196,864\n",
       "│    │    └─Dropout: 3-26                               --\n",
       "│    └─Linear: 2-9                                      257\n",
       "================================================================================\n",
       "Total params: 62,755,330\n",
       "Trainable params: 18,854,914\n",
       "Non-trainable params: 43,900,416\n",
       "================================================================================"
      ]
     },
     "execution_count": 16,
     "metadata": {},
     "output_type": "execute_result"
    }
   ],
   "source": [
    "model = model_config.init_model()\n",
    "model.freeze_pretrain(2) ### freeze chrombert 6 transformer blocks\n",
    "summary(model)"
   ]
  },
  {
   "cell_type": "markdown",
   "metadata": {},
   "source": [
    "#### Set train config and finetune\n",
    "\n",
    "We fine-tune the model using PyTorch Lightning. A simple configuration is created to process parameters, and tuning is performed on a limited dataset to save time.\n",
    "Note: The tuning process is random, so results may vary. To achieve the best results, consider increasing the number of epochs and the size of the dataset used"
   ]
  },
  {
   "cell_type": "code",
   "execution_count": 17,
   "metadata": {},
   "outputs": [
    {
     "name": "stderr",
     "output_type": "stream",
     "text": [
      "/home/chenqianqian/.conda/envs/demo/lib/python3.9/site-packages/torchmetrics/utilities/prints.py:43: UserWarning: Metric `SpearmanCorrcoef` will save all targets and predictions in the buffer. For large datasets, this may lead to large memory footprint.\n",
      "  warnings.warn(*args, **kwargs)  # noqa: B028\n"
     ]
    }
   ],
   "source": [
    "train_config = chrombert.finetune.TrainConfig(kind='regression',        \n",
    "                                              loss='rmse',\n",
    "                                              max_epochs=2,\n",
    "                                              accumulate_grad_batches=2,\n",
    "                                              val_check_interval=2,\n",
    "                                              limit_val_batches=10,\n",
    "                                              tag='chrom_accessibility')\n",
    "train_config\n",
    "train_module = train_config.init_pl_module(model)"
   ]
  },
  {
   "cell_type": "code",
   "execution_count": 18,
   "metadata": {},
   "outputs": [
    {
     "name": "stderr",
     "output_type": "stream",
     "text": [
      "Using bfloat16 Automatic Mixed Precision (AMP)\n",
      "GPU available: True (cuda), used: True\n",
      "TPU available: False, using: 0 TPU cores\n",
      "HPU available: False, using: 0 HPUs\n",
      "Missing logger folder: lightning_logs/chrom_accessibility\n",
      "LOCAL_RANK: 0 - CUDA_VISIBLE_DEVICES: [0]\n",
      "Loading `train_dataloader` to estimate number of stepping batches.\n",
      "\n",
      "  | Name  | Type             | Params | Mode \n",
      "---------------------------------------------------\n",
      "0 | model | ChromBERTGeneral | 62.8 M | train\n",
      "---------------------------------------------------\n",
      "18.9 M    Trainable params\n",
      "43.9 M    Non-trainable params\n",
      "62.8 M    Total params\n",
      "251.021   Total estimated model params size (MB)\n"
     ]
    },
    {
     "data": {
      "application/vnd.jupyter.widget-view+json": {
       "model_id": "5ea1d3d8f0a94a168fd0d3fcd89110a3",
       "version_major": 2,
       "version_minor": 0
      },
      "text/plain": [
       "Sanity Checking: |          | 0/? [00:00<?, ?it/s]"
      ]
     },
     "metadata": {},
     "output_type": "display_data"
    },
    {
     "name": "stderr",
     "output_type": "stream",
     "text": [
      "/home/chenqianqian/.conda/envs/demo/lib/python3.9/site-packages/lightning/pytorch/trainer/connectors/data_connector.py:475: Your `val_dataloader`'s sampler has shuffling enabled, it is strongly recommended that you turn shuffling off for val/test dataloaders.\n"
     ]
    },
    {
     "data": {
      "application/vnd.jupyter.widget-view+json": {
       "model_id": "95a2b8d9dce0496d97165e9a0ce00a23",
       "version_major": 2,
       "version_minor": 0
      },
      "text/plain": [
       "Training: |          | 0/? [00:00<?, ?it/s]"
      ]
     },
     "metadata": {},
     "output_type": "display_data"
    },
    {
     "data": {
      "application/vnd.jupyter.widget-view+json": {
       "model_id": "0391400116f146cf86be9812e3d868f0",
       "version_major": 2,
       "version_minor": 0
      },
      "text/plain": [
       "Validation: |          | 0/? [00:00<?, ?it/s]"
      ]
     },
     "metadata": {},
     "output_type": "display_data"
    },
    {
     "data": {
      "application/vnd.jupyter.widget-view+json": {
       "model_id": "b870349ba8db4a9c9a0a36bc174d32a2",
       "version_major": 2,
       "version_minor": 0
      },
      "text/plain": [
       "Validation: |          | 0/? [00:00<?, ?it/s]"
      ]
     },
     "metadata": {},
     "output_type": "display_data"
    },
    {
     "data": {
      "application/vnd.jupyter.widget-view+json": {
       "model_id": "eee39ce61fb34436b125d54d176c1fec",
       "version_major": 2,
       "version_minor": 0
      },
      "text/plain": [
       "Validation: |          | 0/? [00:00<?, ?it/s]"
      ]
     },
     "metadata": {},
     "output_type": "display_data"
    },
    {
     "data": {
      "application/vnd.jupyter.widget-view+json": {
       "model_id": "71235f2f979c48a1a351c0ae676f67e8",
       "version_major": 2,
       "version_minor": 0
      },
      "text/plain": [
       "Validation: |          | 0/? [00:00<?, ?it/s]"
      ]
     },
     "metadata": {},
     "output_type": "display_data"
    },
    {
     "data": {
      "application/vnd.jupyter.widget-view+json": {
       "model_id": "5ff2c8c18f044d9d823584d56b323cdf",
       "version_major": 2,
       "version_minor": 0
      },
      "text/plain": [
       "Validation: |          | 0/? [00:00<?, ?it/s]"
      ]
     },
     "metadata": {},
     "output_type": "display_data"
    },
    {
     "data": {
      "application/vnd.jupyter.widget-view+json": {
       "model_id": "2666babe1a254d2e99c752152fa05376",
       "version_major": 2,
       "version_minor": 0
      },
      "text/plain": [
       "Validation: |          | 0/? [00:00<?, ?it/s]"
      ]
     },
     "metadata": {},
     "output_type": "display_data"
    },
    {
     "data": {
      "application/vnd.jupyter.widget-view+json": {
       "model_id": "09333f2fefab458da57b974e8a0e3cc2",
       "version_major": 2,
       "version_minor": 0
      },
      "text/plain": [
       "Validation: |          | 0/? [00:00<?, ?it/s]"
      ]
     },
     "metadata": {},
     "output_type": "display_data"
    },
    {
     "data": {
      "application/vnd.jupyter.widget-view+json": {
       "model_id": "b681ce7f0381410db4c96526afd4551a",
       "version_major": 2,
       "version_minor": 0
      },
      "text/plain": [
       "Validation: |          | 0/? [00:00<?, ?it/s]"
      ]
     },
     "metadata": {},
     "output_type": "display_data"
    },
    {
     "data": {
      "application/vnd.jupyter.widget-view+json": {
       "model_id": "d78bf1634bd94c3eb6fbcbf75b099740",
       "version_major": 2,
       "version_minor": 0
      },
      "text/plain": [
       "Validation: |          | 0/? [00:00<?, ?it/s]"
      ]
     },
     "metadata": {},
     "output_type": "display_data"
    },
    {
     "data": {
      "application/vnd.jupyter.widget-view+json": {
       "model_id": "bd86d8caee0542cbaa97b84bd4287737",
       "version_major": 2,
       "version_minor": 0
      },
      "text/plain": [
       "Validation: |          | 0/? [00:00<?, ?it/s]"
      ]
     },
     "metadata": {},
     "output_type": "display_data"
    },
    {
     "data": {
      "application/vnd.jupyter.widget-view+json": {
       "model_id": "f964755910804050b25ab8b51487f970",
       "version_major": 2,
       "version_minor": 0
      },
      "text/plain": [
       "Validation: |          | 0/? [00:00<?, ?it/s]"
      ]
     },
     "metadata": {},
     "output_type": "display_data"
    },
    {
     "data": {
      "application/vnd.jupyter.widget-view+json": {
       "model_id": "695baeb463d84f26bee3c616085b9ca2",
       "version_major": 2,
       "version_minor": 0
      },
      "text/plain": [
       "Validation: |          | 0/? [00:00<?, ?it/s]"
      ]
     },
     "metadata": {},
     "output_type": "display_data"
    },
    {
     "data": {
      "application/vnd.jupyter.widget-view+json": {
       "model_id": "0da5ca61aa804d1ab79b148076f10f52",
       "version_major": 2,
       "version_minor": 0
      },
      "text/plain": [
       "Validation: |          | 0/? [00:00<?, ?it/s]"
      ]
     },
     "metadata": {},
     "output_type": "display_data"
    },
    {
     "data": {
      "application/vnd.jupyter.widget-view+json": {
       "model_id": "a017fc47147c4c9ebd5b9a26020f4838",
       "version_major": 2,
       "version_minor": 0
      },
      "text/plain": [
       "Validation: |          | 0/? [00:00<?, ?it/s]"
      ]
     },
     "metadata": {},
     "output_type": "display_data"
    },
    {
     "data": {
      "application/vnd.jupyter.widget-view+json": {
       "model_id": "48e2b8d03f2941cd89f6fba7f289b9bd",
       "version_major": 2,
       "version_minor": 0
      },
      "text/plain": [
       "Validation: |          | 0/? [00:00<?, ?it/s]"
      ]
     },
     "metadata": {},
     "output_type": "display_data"
    },
    {
     "data": {
      "application/vnd.jupyter.widget-view+json": {
       "model_id": "9618241a49ab485c91d3df78954054d2",
       "version_major": 2,
       "version_minor": 0
      },
      "text/plain": [
       "Validation: |          | 0/? [00:00<?, ?it/s]"
      ]
     },
     "metadata": {},
     "output_type": "display_data"
    },
    {
     "data": {
      "application/vnd.jupyter.widget-view+json": {
       "model_id": "14d051b2eac8491cad96c5b82212aecc",
       "version_major": 2,
       "version_minor": 0
      },
      "text/plain": [
       "Validation: |          | 0/? [00:00<?, ?it/s]"
      ]
     },
     "metadata": {},
     "output_type": "display_data"
    },
    {
     "data": {
      "application/vnd.jupyter.widget-view+json": {
       "model_id": "7a89b926580f453fac6b7873744d1ebb",
       "version_major": 2,
       "version_minor": 0
      },
      "text/plain": [
       "Validation: |          | 0/? [00:00<?, ?it/s]"
      ]
     },
     "metadata": {},
     "output_type": "display_data"
    },
    {
     "data": {
      "application/vnd.jupyter.widget-view+json": {
       "model_id": "ce9051e559b14f5798698acb7163ebb3",
       "version_major": 2,
       "version_minor": 0
      },
      "text/plain": [
       "Validation: |          | 0/? [00:00<?, ?it/s]"
      ]
     },
     "metadata": {},
     "output_type": "display_data"
    },
    {
     "data": {
      "application/vnd.jupyter.widget-view+json": {
       "model_id": "3e7a58e4af344ef1a6ad0f87c45463d3",
       "version_major": 2,
       "version_minor": 0
      },
      "text/plain": [
       "Validation: |          | 0/? [00:00<?, ?it/s]"
      ]
     },
     "metadata": {},
     "output_type": "display_data"
    },
    {
     "name": "stderr",
     "output_type": "stream",
     "text": [
      "`Trainer.fit` stopped: `max_epochs=2` reached.\n"
     ]
    }
   ],
   "source": [
    "callback_ckpt = pl.callbacks.ModelCheckpoint(monitor = f\"{train_config.tag}_validation/{train_config.loss}\", mode = \"min\")\n",
    "trainer = pl.Trainer(\n",
    "    max_epochs=train_config.max_epochs,\n",
    "    log_every_n_steps=1, \n",
    "    limit_val_batches = train_config.limit_val_batches,\n",
    "    val_check_interval = train_config.val_check_interval,\n",
    "    accelerator=\"gpu\", \n",
    "    accumulate_grad_batches= train_config.accumulate_grad_batches, \n",
    "    fast_dev_run=False, \n",
    "    precision=\"bf16-mixed\",\n",
    "    strategy=\"auto\",\n",
    "    callbacks=[\n",
    "        pl.callbacks.LearningRateMonitor(),\n",
    "        callback_ckpt,   \n",
    "    ],\n",
    "    logger=pl.loggers.TensorBoardLogger(\"lightning_logs\", name='chrom_accessibility'),\n",
    "    )\n",
    "trainer.fit(train_module,data_module)"
   ]
  },
  {
   "cell_type": "code",
   "execution_count": null,
   "metadata": {},
   "outputs": [],
   "source": []
  },
  {
   "cell_type": "markdown",
   "metadata": {},
   "source": [
    "## Load fine-tuned checkpoint and evaluation\n",
    "ChromBERT is now fine-tuned! You can access the tuned model directly using `pl_module.model`. However, please note that due to specific settings in flash-attention, you cannot change the dropout probability, which may introduce some randomness in the output.\n",
    "\n",
    "For consistent results, we recommend saving the checkpoint and loading it with the original model to ensure you have the tuned model."
   ]
  },
  {
   "cell_type": "markdown",
   "metadata": {},
   "source": [
    "### Predicting genome-wide changes in transcriptome "
   ]
  },
  {
   "cell_type": "markdown",
   "metadata": {},
   "source": [
    "#### Load limited fine-tuned checkpoint of predicting genome-wide changes in transcriptome \n",
    "Due to time constraints in tutorial, we only use downsampled test data for evaluation."
   ]
  },
  {
   "cell_type": "code",
   "execution_count": 19,
   "metadata": {},
   "outputs": [],
   "source": [
    "import numpy as np\n",
    "import os\n",
    "os.environ[\"CUDA_VISIBLE_DEVICES\"]='0'\n",
    "import torch\n",
    "import chrombert\n",
    "import pandas as pd\n",
    "from torchinfo import summary\n",
    "import lightning.pytorch as pl "
   ]
  },
  {
   "cell_type": "code",
   "execution_count": 24,
   "metadata": {},
   "outputs": [
    {
     "data": {
      "text/plain": [
       "'/shared/chenqianqian/data_copy1/chenqianqian/finetune/test_model/ChromBERT_public/examples/tutorials/lightning_logs/gep/version_0/checkpoints/epoch=1-step=20.ckpt'"
      ]
     },
     "execution_count": 24,
     "metadata": {},
     "output_type": "execute_result"
    }
   ],
   "source": [
    "import glob\n",
    "gep_ft_ckpt = os.path.abspath(glob.glob('./lightning_logs/gep/version_0/checkpoints/*.ckpt')[0])\n",
    "gep_ft_ckpt"
   ]
  },
  {
   "cell_type": "code",
   "execution_count": 25,
   "metadata": {},
   "outputs": [
    {
     "name": "stdout",
     "output_type": "stream",
     "text": [
      "update path: mtx_mask = config/hg38_6k_mask_matrix.tsv\n",
      "update path: pretrain_ckpt = checkpoint/hg38_6k_1kb_pretrain.ckpt\n",
      "use organisim hg38; max sequence length including cls is 6392\n",
      "Loading checkpoint from /shared/chenqianqian/data_copy1/chenqianqian/finetune/test_model/ChromBERT_public/examples/tutorials/lightning_logs/gep/version_0/checkpoints/epoch=1-step=20.ckpt\n",
      "Loading from pl module, remove prefix 'model.'\n",
      "Loaded 112/112 parameters\n"
     ]
    },
    {
     "data": {
      "text/plain": [
       "=====================================================================================\n",
       "Layer (type:depth-idx)                                       Param #\n",
       "=====================================================================================\n",
       "ChromBERTGEP                                                 --\n",
       "├─PoolFlankWindow: 1-1                                       --\n",
       "│    └─ChromBERT: 2-1                                        --\n",
       "│    │    └─BERTEmbedding: 3-1                               4,916,736\n",
       "│    │    └─ModuleList: 3-2                                  51,978,240\n",
       "├─GepHeader: 1-2                                             --\n",
       "│    └─CistromeEmbeddingManager: 2-2                         --\n",
       "│    └─Conv2d: 2-3                                           769\n",
       "│    └─ReLU: 2-4                                             --\n",
       "│    └─ResidualBlock: 2-5                                    --\n",
       "│    │    └─Linear: 3-3                                      1,090,560\n",
       "│    │    └─Linear: 3-4                                      1,049,600\n",
       "│    │    └─LayerNorm: 3-5                                   2,048\n",
       "│    │    └─Linear: 3-6                                      1,090,560\n",
       "│    │    └─Dropout: 3-7                                     --\n",
       "│    └─ResidualBlock: 2-6                                    --\n",
       "│    │    └─Linear: 3-8                                      787,200\n",
       "│    │    └─Linear: 3-9                                      590,592\n",
       "│    │    └─LayerNorm: 3-10                                  1,536\n",
       "│    │    └─Linear: 3-11                                     787,200\n",
       "│    │    └─Dropout: 3-12                                    --\n",
       "│    └─ResidualBlock: 2-7                                    --\n",
       "│    │    └─Linear: 3-13                                     196,864\n",
       "│    │    └─Linear: 3-14                                     65,792\n",
       "│    │    └─LayerNorm: 3-15                                  512\n",
       "│    │    └─Linear: 3-16                                     196,864\n",
       "│    │    └─Dropout: 3-17                                    --\n",
       "│    └─Sequential: 2-8                                       --\n",
       "│    │    └─Linear: 3-18                                     257\n",
       "│    └─Linear: 2-9                                           257\n",
       "=====================================================================================\n",
       "Total params: 62,755,587\n",
       "Trainable params: 62,755,587\n",
       "Non-trainable params: 0\n",
       "====================================================================================="
      ]
     },
     "execution_count": 25,
     "metadata": {},
     "output_type": "execute_result"
    }
   ],
   "source": [
    "\n",
    "model_config = chrombert.get_preset_model_config(\"gep\",gep_flank_window=4, dropout=0)\n",
    "ft_model = model_config.init_model(finetune_ckpt = gep_ft_ckpt)\n",
    "summary(ft_model)"
   ]
  },
  {
   "cell_type": "markdown",
   "metadata": {},
   "source": [
    "Evaluation"
   ]
  },
  {
   "cell_type": "code",
   "execution_count": 26,
   "metadata": {},
   "outputs": [
    {
     "name": "stdout",
     "output_type": "stream",
     "text": [
      "update path: hdf5_file = hg38_6k_1kb.hdf5\n",
      "update path: meta_file = config/hg38_6k_meta.json\n"
     ]
    },
    {
     "data": {
      "text/plain": [
       "DatasetConfig({'hdf5_file': '/home/chenqianqian/.cache/chrombert/data/hg38_6k_1kb.hdf5', 'supervised_file': '/home/chenqianqian/.cache/chrombert/data/demo/transdifferentiation/transcriptome/test_sample.csv', 'kind': 'MultiFlankwindowDataset', 'meta_file': '/home/chenqianqian/.cache/chrombert/data/config/hg38_6k_meta.json', 'ignore': False, 'ignore_object': None, 'batch_size': 4, 'num_workers': 4, 'shuffle': False, 'perturbation': False, 'perturbation_object': None, 'perturbation_value': 0, 'prompt_kind': None, 'prompt_regulator': None, 'prompt_regulator_cache_file': None, 'prompt_celltype': None, 'prompt_celltype_cache_file': None, 'fasta_file': None, 'flank_window': 4})"
      ]
     },
     "execution_count": 26,
     "metadata": {},
     "output_type": "execute_result"
    }
   ],
   "source": [
    "dataset_config = chrombert.get_preset_dataset_config(\"multi_flank_window\",supervised_file = f'{gep_dir}/test_sample.csv', batch_size = 4, num_workers = 4)\n",
    "dataset_config"
   ]
  },
  {
   "cell_type": "code",
   "execution_count": 28,
   "metadata": {},
   "outputs": [
    {
     "name": "stderr",
     "output_type": "stream",
     "text": [
      "100%|██████████| 5/5 [00:08<00:00,  1.78s/it]"
     ]
    },
    {
     "name": "stdout",
     "output_type": "stream",
     "text": [
      "{'pearsonr': tensor(nan), 'spearmanr': tensor(0.), 'mse': tensor(0.3469), 'mae': tensor(0.4576), 'r2': tensor(-0.8482)}\n"
     ]
    },
    {
     "name": "stderr",
     "output_type": "stream",
     "text": [
      "\n",
      "/home/chenqianqian/.conda/envs/demo/lib/python3.9/site-packages/torchmetrics/utilities/prints.py:43: UserWarning: Metric `SpearmanCorrcoef` will save all targets and predictions in the buffer. For large datasets, this may lead to large memory footprint.\n",
      "  warnings.warn(*args, **kwargs)  # noqa: B028\n",
      "/home/chenqianqian/.conda/envs/demo/lib/python3.9/site-packages/torchmetrics/utilities/prints.py:43: UserWarning: The variance of predictions or target is close to zero. This can cause instability in Pearson correlationcoefficient, leading to wrong results. Consider re-scaling the input if possible or computing using alarger dtype (currently using torch.float32).\n",
      "  warnings.warn(*args, **kwargs)  # noqa: B028\n"
     ]
    }
   ],
   "source": [
    "from tqdm import tqdm\n",
    "import torchmetrics as tm\n",
    "dl = dataset_config.init_dataloader()\n",
    "ft_model.cuda()\n",
    "with torch.no_grad():\n",
    "    y_preds = []\n",
    "    y_labels = []\n",
    "    for idx, batch in enumerate(tqdm(dl, total=len(dl))):\n",
    "        for k in batch:\n",
    "            if isinstance(batch[k], torch.Tensor):\n",
    "                batch[k] = batch[k].cuda()\n",
    "        y_pred = ft_model(batch)[1].cpu()\n",
    "        y_label = batch['label'].cpu()\n",
    "        y_preds.append(y_pred)\n",
    "        y_labels.append(y_label)\n",
    "    y_preds = torch.cat(y_preds)\n",
    "    y_labels = torch.cat(y_labels)\n",
    "predicts = y_preds.view(-1)\n",
    "labels = y_labels.view(-1)\n",
    "metrics_pearsonr = tm.PearsonCorrCoef()\n",
    "metrics_spearmanr = tm.SpearmanCorrCoef()\n",
    "metrics_mse = tm.MeanSquaredError()\n",
    "metrics_mae = tm.MeanAbsoluteError()\n",
    "metrics_r2 = tm.R2Score()\n",
    "score_pearsonr = metrics_pearsonr(predicts, labels)\n",
    "score_spearmanr = metrics_spearmanr(predicts, labels)\n",
    "score_mse = metrics_mse(predicts, labels)\n",
    "score_mae = metrics_mae(predicts, labels)\n",
    "score_r2 = metrics_r2(predicts, labels)\n",
    "scores = {\n",
    "    \"pearsonr\": score_pearsonr,\n",
    "    \"spearmanr\": score_spearmanr,\n",
    "    \"mse\": score_mse,\n",
    "    \"mae\": score_mae,\n",
    "    \"r2\": score_r2,\n",
    "    }\n",
    "print(scores)"
   ]
  },
  {
   "cell_type": "markdown",
   "metadata": {},
   "source": [
    "#### Load the total dataset to fine-tune the checkpoint for predicting genome-wide changes in the transcriptome\n",
    "\n",
    "Using a limited fine-tuned checkpoint results in poor evaluation performance; therefore, we load the entire dataset to fine-tune the checkpoint for predicting genome-wide changes in the transcriptome.\n",
    "Due to time constraints in tutorial, we only use downsampled test data for evaluation."
   ]
  },
  {
   "cell_type": "code",
   "execution_count": 30,
   "metadata": {},
   "outputs": [
    {
     "name": "stdout",
     "output_type": "stream",
     "text": [
      "update path: mtx_mask = config/hg38_6k_mask_matrix.tsv\n",
      "update path: pretrain_ckpt = checkpoint/hg38_6k_1kb_pretrain.ckpt\n",
      "use organisim hg38; max sequence length including cls is 6392\n",
      "Loading checkpoint from /home/chenqianqian/.cache/chrombert/data/demo/transdifferentiation/transcriptome/gep_fibroblast_to_myoblast.ckpt\n",
      "Loaded 112/112 parameters\n",
      "update path: hdf5_file = hg38_6k_1kb.hdf5\n",
      "update path: meta_file = config/hg38_6k_meta.json\n"
     ]
    },
    {
     "name": "stderr",
     "output_type": "stream",
     "text": [
      "100%|██████████| 5/5 [00:08<00:00,  1.78s/it]"
     ]
    },
    {
     "name": "stdout",
     "output_type": "stream",
     "text": [
      "{'pearsonr': tensor(0.4961), 'spearmanr': tensor(0.4652), 'mse': tensor(0.1490), 'mae': tensor(0.3108), 'r2': tensor(0.2062)}\n"
     ]
    },
    {
     "name": "stderr",
     "output_type": "stream",
     "text": [
      "\n",
      "/home/chenqianqian/.conda/envs/demo/lib/python3.9/site-packages/torchmetrics/utilities/prints.py:43: UserWarning: Metric `SpearmanCorrcoef` will save all targets and predictions in the buffer. For large datasets, this may lead to large memory footprint.\n",
      "  warnings.warn(*args, **kwargs)  # noqa: B028\n"
     ]
    }
   ],
   "source": [
    "gep_ft_ckpt = f'{gep_dir}/gep_fibroblast_to_myoblast.ckpt'\n",
    "\n",
    "model_config = chrombert.get_preset_model_config(\"gep\",gep_flank_window=4, dropout=0)\n",
    "ft_model = model_config.init_model(finetune_ckpt = gep_ft_ckpt)\n",
    "summary(ft_model)\n",
    "\n",
    "dataset_config = chrombert.get_preset_dataset_config(\"multi_flank_window\",supervised_file = f'{gep_dir}/test_sample.csv', batch_size = 4, num_workers = 4)\n",
    "\n",
    "\n",
    "from tqdm import tqdm\n",
    "import torchmetrics as tm\n",
    "dl = dataset_config.init_dataloader()\n",
    "ft_model.cuda()\n",
    "with torch.no_grad():\n",
    "    y_preds = []\n",
    "    y_labels = []\n",
    "    for batch in tqdm(dl,total=len(dl)):\n",
    "        for k in batch:\n",
    "            if isinstance(batch[k], torch.Tensor):\n",
    "                batch[k] = batch[k].cuda()\n",
    "        y_pred = ft_model(batch)[1].cpu()\n",
    "        y_label = batch['label'].cpu()\n",
    "        y_preds.append(y_pred)\n",
    "        y_labels.append(y_label)\n",
    "    y_preds = torch.cat(y_preds)\n",
    "    y_labels = torch.cat(y_labels)\n",
    "predicts = y_preds.view(-1)\n",
    "labels = y_labels.view(-1)\n",
    "metrics_pearsonr = tm.PearsonCorrCoef()\n",
    "metrics_spearmanr = tm.SpearmanCorrCoef()\n",
    "metrics_mse = tm.MeanSquaredError()\n",
    "metrics_mae = tm.MeanAbsoluteError()\n",
    "metrics_r2 = tm.R2Score()\n",
    "score_pearsonr = metrics_pearsonr(predicts, labels)\n",
    "score_spearmanr = metrics_spearmanr(predicts, labels)\n",
    "score_mse = metrics_mse(predicts, labels)\n",
    "score_mae = metrics_mae(predicts, labels)\n",
    "score_r2 = metrics_r2(predicts, labels)\n",
    "scores = {\n",
    "    \"pearsonr\": score_pearsonr,\n",
    "    \"spearmanr\": score_spearmanr,\n",
    "    \"mse\": score_mse,\n",
    "    \"mae\": score_mae,\n",
    "    \"r2\": score_r2,\n",
    "    }\n",
    "print(scores)"
   ]
  },
  {
   "cell_type": "code",
   "execution_count": null,
   "metadata": {},
   "outputs": [],
   "source": []
  },
  {
   "cell_type": "markdown",
   "metadata": {},
   "source": [
    "### Predicting genome-wide changes in chromatin accessibility "
   ]
  },
  {
   "cell_type": "markdown",
   "metadata": {},
   "source": [
    "#### Load limited fine-tuned checkpoint of predicting genome-wide changes in chromatin accessibility\n",
    "Due to time constraints in tutorial, we only use downsampled test data for evaluation."
   ]
  },
  {
   "cell_type": "code",
   "execution_count": 31,
   "metadata": {},
   "outputs": [],
   "source": [
    "import numpy as np\n",
    "import os\n",
    "os.environ[\"CUDA_VISIBLE_DEVICES\"]='0'\n",
    "import torch\n",
    "import chrombert\n",
    "import pandas as pd\n",
    "from torchinfo import summary\n",
    "import lightning.pytorch as pl "
   ]
  },
  {
   "cell_type": "code",
   "execution_count": 32,
   "metadata": {},
   "outputs": [
    {
     "data": {
      "text/plain": [
       "'/shared/chenqianqian/data_copy1/chenqianqian/finetune/test_model/ChromBERT_public/examples/tutorials/lightning_logs/chrom_accessibility/version_0/checkpoints/epoch=0-step=2.ckpt'"
      ]
     },
     "execution_count": 32,
     "metadata": {},
     "output_type": "execute_result"
    }
   ],
   "source": [
    "import glob\n",
    "chrom_accessibility_ft_ckpt = os.path.abspath(glob.glob('./lightning_logs/chrom_accessibility/version_0/checkpoints/*.ckpt')[0])\n",
    "chrom_accessibility_ft_ckpt"
   ]
  },
  {
   "cell_type": "code",
   "execution_count": 33,
   "metadata": {},
   "outputs": [
    {
     "name": "stdout",
     "output_type": "stream",
     "text": [
      "update path: mtx_mask = config/hg38_6k_mask_matrix.tsv\n",
      "update path: pretrain_ckpt = checkpoint/hg38_6k_1kb_pretrain.ckpt\n",
      "use organisim hg38; max sequence length including cls is 6392\n",
      "Loading checkpoint from /shared/chenqianqian/data_copy1/chenqianqian/finetune/test_model/ChromBERT_public/examples/tutorials/lightning_logs/chrom_accessibility/version_0/checkpoints/epoch=0-step=2.ckpt\n",
      "Loading from pl module, remove prefix 'model.'\n",
      "Loaded 110/110 parameters\n"
     ]
    }
   ],
   "source": [
    "model_config = chrombert.get_preset_model_config(\"general\")\n",
    "ft_model = model_config.init_model(finetune_ckpt = chrom_accessibility_ft_ckpt,dropout=0)"
   ]
  },
  {
   "cell_type": "code",
   "execution_count": 34,
   "metadata": {},
   "outputs": [
    {
     "name": "stdout",
     "output_type": "stream",
     "text": [
      "update path: hdf5_file = hg38_6k_1kb.hdf5\n",
      "update path: meta_file = config/hg38_6k_meta.json\n"
     ]
    },
    {
     "name": "stderr",
     "output_type": "stream",
     "text": [
      "100%|██████████| 1/1 [00:01<00:00,  1.44s/it]"
     ]
    },
    {
     "name": "stdout",
     "output_type": "stream",
     "text": [
      "{'pearsonr': tensor(-0.1836), 'spearmanr': tensor(-0.0692), 'mse': tensor(0.6062), 'mae': tensor(0.4786), 'r2': tensor(-0.5403)}\n"
     ]
    },
    {
     "name": "stderr",
     "output_type": "stream",
     "text": [
      "\n",
      "/home/chenqianqian/.conda/envs/demo/lib/python3.9/site-packages/torchmetrics/utilities/prints.py:43: UserWarning: Metric `SpearmanCorrcoef` will save all targets and predictions in the buffer. For large datasets, this may lead to large memory footprint.\n",
      "  warnings.warn(*args, **kwargs)  # noqa: B028\n"
     ]
    }
   ],
   "source": [
    "dataset_config = chrombert.get_preset_dataset_config(\"general\",supervised_file = f'{chrom_accessibility_dir}/test_sample.csv', batch_size = 32, num_workers = 4)\n",
    "\n",
    "\n",
    "from tqdm import tqdm\n",
    "import torchmetrics as tm\n",
    "dl = dataset_config.init_dataloader()\n",
    "ft_model = ft_model.cuda().eval()\n",
    "with torch.no_grad():\n",
    "    y_preds = []\n",
    "    y_labels = []\n",
    "    for batch in tqdm(dl,total=len(dl)):\n",
    "        for k in batch:\n",
    "            if isinstance(batch[k], torch.Tensor):\n",
    "                batch[k] = batch[k].cuda()\n",
    "        y_pred = ft_model(batch).cpu()\n",
    "        y_label = batch['label'].cpu()\n",
    "        y_preds.append(y_pred)\n",
    "        y_labels.append(y_label)\n",
    "    y_preds = torch.cat(y_preds)\n",
    "    y_labels = torch.cat(y_labels)\n",
    "predicts = y_preds.view(-1)\n",
    "labels = y_labels.view(-1)\n",
    "metrics_pearsonr = tm.PearsonCorrCoef()\n",
    "metrics_spearmanr = tm.SpearmanCorrCoef()\n",
    "metrics_mse = tm.MeanSquaredError()\n",
    "metrics_mae = tm.MeanAbsoluteError()\n",
    "metrics_r2 = tm.R2Score()\n",
    "score_pearsonr = metrics_pearsonr(predicts, labels)\n",
    "score_spearmanr = metrics_spearmanr(predicts, labels)\n",
    "score_mse = metrics_mse(predicts, labels)\n",
    "score_mae = metrics_mae(predicts, labels)\n",
    "score_r2 = metrics_r2(predicts, labels)\n",
    "scores = {\n",
    "    \"pearsonr\": score_pearsonr,\n",
    "    \"spearmanr\": score_spearmanr,\n",
    "    \"mse\": score_mse,\n",
    "    \"mae\": score_mae,\n",
    "    \"r2\": score_r2,\n",
    "    }\n",
    "print(scores)"
   ]
  },
  {
   "cell_type": "markdown",
   "metadata": {},
   "source": [
    "#### Load the total dataset to fine-tune the checkpoint for predicting genome-wide changes in the chromatin accessibility\n",
    "\n",
    "Using a limited fine-tuned checkpoint results in poor evaluation performance; therefore, we load the entire dataset to fine-tune the checkpoint for predicting genome-wide changes in the chromatin accessibility.\n",
    "Due to time constraints in tutorial, we only use downsampled test data for evaluation."
   ]
  },
  {
   "cell_type": "code",
   "execution_count": 35,
   "metadata": {},
   "outputs": [
    {
     "name": "stdout",
     "output_type": "stream",
     "text": [
      "update path: mtx_mask = config/hg38_6k_mask_matrix.tsv\n",
      "update path: pretrain_ckpt = checkpoint/hg38_6k_1kb_pretrain.ckpt\n",
      "use organisim hg38; max sequence length including cls is 6392\n",
      "Loading checkpoint from /home/chenqianqian/.cache/chrombert/data/demo/transdifferentiation/chrom_accessibility/chrom_accessibility_fibroblast_to_myoblast.ckpt\n",
      "Loaded 110/110 parameters\n"
     ]
    }
   ],
   "source": [
    "chrom_accessibility_ft_ckpt = f'{chrom_accessibility_dir}/chrom_accessibility_fibroblast_to_myoblast.ckpt'\n",
    "model_config = chrombert.get_preset_model_config(\"general\")\n",
    "ft_model = model_config.init_model(finetune_ckpt = chrom_accessibility_ft_ckpt,dropout=0)"
   ]
  },
  {
   "cell_type": "code",
   "execution_count": 36,
   "metadata": {},
   "outputs": [
    {
     "name": "stdout",
     "output_type": "stream",
     "text": [
      "update path: hdf5_file = hg38_6k_1kb.hdf5\n",
      "update path: meta_file = config/hg38_6k_meta.json\n"
     ]
    },
    {
     "name": "stderr",
     "output_type": "stream",
     "text": [
      "100%|██████████| 1/1 [00:01<00:00,  1.32s/it]"
     ]
    },
    {
     "name": "stdout",
     "output_type": "stream",
     "text": [
      "{'pearsonr': tensor(0.8971), 'spearmanr': tensor(0.8857), 'mse': tensor(0.0807), 'mae': tensor(0.1940), 'r2': tensor(0.7950)}\n"
     ]
    },
    {
     "name": "stderr",
     "output_type": "stream",
     "text": [
      "\n",
      "/home/chenqianqian/.conda/envs/demo/lib/python3.9/site-packages/torchmetrics/utilities/prints.py:43: UserWarning: Metric `SpearmanCorrcoef` will save all targets and predictions in the buffer. For large datasets, this may lead to large memory footprint.\n",
      "  warnings.warn(*args, **kwargs)  # noqa: B028\n"
     ]
    }
   ],
   "source": [
    "dataset_config = chrombert.get_preset_dataset_config(\"general\",supervised_file = f'{chrom_accessibility_data_dir}/test_sample.csv', batch_size = 32, num_workers = 4)\n",
    "\n",
    "\n",
    "from tqdm import tqdm\n",
    "import torchmetrics as tm\n",
    "dl = dataset_config.init_dataloader()\n",
    "ft_model = ft_model.cuda().eval()\n",
    "with torch.no_grad():\n",
    "    y_preds = []\n",
    "    y_labels = []\n",
    "    for batch in tqdm(dl,total=len(dl)):\n",
    "        for k in batch:\n",
    "            if isinstance(batch[k], torch.Tensor):\n",
    "                batch[k] = batch[k].cuda()\n",
    "        y_pred = ft_model(batch).cpu()\n",
    "        y_label = batch['label'].cpu()\n",
    "        y_preds.append(y_pred)\n",
    "        y_labels.append(y_label)\n",
    "    y_preds = torch.cat(y_preds)\n",
    "    y_labels = torch.cat(y_labels)\n",
    "predicts = y_preds.view(-1)\n",
    "labels = y_labels.view(-1)\n",
    "metrics_pearsonr = tm.PearsonCorrCoef()\n",
    "metrics_spearmanr = tm.SpearmanCorrCoef()\n",
    "metrics_mse = tm.MeanSquaredError()\n",
    "metrics_mae = tm.MeanAbsoluteError()\n",
    "metrics_r2 = tm.R2Score()\n",
    "score_pearsonr = metrics_pearsonr(predicts, labels)\n",
    "score_spearmanr = metrics_spearmanr(predicts, labels)\n",
    "score_mse = metrics_mse(predicts, labels)\n",
    "score_mae = metrics_mae(predicts, labels)\n",
    "score_r2 = metrics_r2(predicts, labels)\n",
    "scores = {\n",
    "    \"pearsonr\": score_pearsonr,\n",
    "    \"spearmanr\": score_spearmanr,\n",
    "    \"mse\": score_mse,\n",
    "    \"mae\": score_mae,\n",
    "    \"r2\": score_r2,\n",
    "    }\n",
    "print(scores)"
   ]
  },
  {
   "cell_type": "markdown",
   "metadata": {},
   "source": [
    "## Use tuned to get regulator embedding and identified key regulator in cell state transition\n",
    "\n",
    "Using a limited fine-tuned checkpoint results in poor evaluation performance; therefore, we load the entire dataset to fine-tune the checkpoint to get regulator embedding.\n",
    "Due to time constraints in tutorial, we only use downsampled data.\n"
   ]
  },
  {
   "cell_type": "markdown",
   "metadata": {},
   "source": [
    "### Get regulator embedding and regulator rank in transcriptome"
   ]
  },
  {
   "cell_type": "code",
   "execution_count": 37,
   "metadata": {},
   "outputs": [
    {
     "name": "stdout",
     "output_type": "stream",
     "text": [
      "update path: mtx_mask = config/hg38_6k_mask_matrix.tsv\n",
      "update path: pretrain_ckpt = checkpoint/hg38_6k_1kb_pretrain.ckpt\n",
      "update path: finetune_ckpt = /home/chenqianqian/.cache/chrombert/data/demo/transdifferentiation/transcriptome/gep_fibroblast_to_myoblast.ckpt\n",
      "use organisim hg38; max sequence length including cls is 6392\n",
      "Loading checkpoint from /home/chenqianqian/.cache/chrombert/data/demo/transdifferentiation/transcriptome/gep_fibroblast_to_myoblast.ckpt\n",
      "Loaded 112/112 parameters\n"
     ]
    }
   ],
   "source": [
    "model_tuned = chrombert.get_preset_model_config(\n",
    "    \"gep\", \n",
    "    gep_flank_window = 4,\n",
    "    dropout = 0,\n",
    "    finetune_ckpt = f'{gep_dir}/gep_fibroblast_to_myoblast.ckpt').init_model() # use absolute path here, to avoid mixing of preset"
   ]
  },
  {
   "cell_type": "code",
   "execution_count": 38,
   "metadata": {},
   "outputs": [
    {
     "data": {
      "text/plain": [
       "=====================================================================================\n",
       "Layer (type:depth-idx)                                       Param #\n",
       "=====================================================================================\n",
       "ChromBERTEmbedding                                           --\n",
       "├─PoolFlankWindow: 1-1                                       --\n",
       "│    └─ChromBERT: 2-1                                        --\n",
       "│    │    └─BERTEmbedding: 3-1                               4,916,736\n",
       "│    │    └─ModuleList: 3-2                                  51,978,240\n",
       "├─CistromeEmbeddingManager: 1-2                              --\n",
       "=====================================================================================\n",
       "Total params: 56,894,976\n",
       "Trainable params: 56,894,976\n",
       "Non-trainable params: 0\n",
       "====================================================================================="
      ]
     },
     "execution_count": 38,
     "metadata": {},
     "output_type": "execute_result"
    }
   ],
   "source": [
    "model_emb = model_tuned.get_embedding_manager().cuda()\n",
    "summary(model_emb)"
   ]
  },
  {
   "cell_type": "code",
   "execution_count": 39,
   "metadata": {},
   "outputs": [
    {
     "name": "stdout",
     "output_type": "stream",
     "text": [
      "update path: hdf5_file = hg38_6k_1kb.hdf5\n",
      "update path: meta_file = config/hg38_6k_meta.json\n"
     ]
    },
    {
     "name": "stderr",
     "output_type": "stream",
     "text": [
      "100%|██████████| 4/4 [00:43<00:00, 10.80s/it]\n"
     ]
    },
    {
     "data": {
      "text/plain": [
       "torch.Size([100, 1064, 768])"
      ]
     },
     "execution_count": 39,
     "metadata": {},
     "output_type": "execute_result"
    }
   ],
   "source": [
    "dataset_config = chrombert.get_preset_dataset_config(\"multi_flank_window\",supervised_file = f'{gep_dir}/up_data_sample.csv', batch_size = 32, num_workers = 4)\n",
    "dl = dataset_config.init_dataloader()\n",
    "up_gep_embs = []\n",
    "for batch in tqdm(dl):\n",
    "    with torch.no_grad():\n",
    "        for k, v in batch.items():\n",
    "            if isinstance(v, torch.Tensor):\n",
    "                batch[k] = v.cuda()\n",
    "        emb = model_emb(batch).cpu()\n",
    "        up_gep_embs.append(emb)\n",
    "up_gep_embs = torch.cat(up_gep_embs)\n",
    "up_gep_embs.shape"
   ]
  },
  {
   "cell_type": "code",
   "execution_count": 40,
   "metadata": {},
   "outputs": [
    {
     "name": "stdout",
     "output_type": "stream",
     "text": [
      "update path: hdf5_file = hg38_6k_1kb.hdf5\n",
      "update path: meta_file = config/hg38_6k_meta.json\n"
     ]
    },
    {
     "name": "stderr",
     "output_type": "stream",
     "text": [
      "100%|██████████| 4/4 [00:43<00:00, 10.95s/it]\n"
     ]
    },
    {
     "data": {
      "text/plain": [
       "torch.Size([100, 1064, 768])"
      ]
     },
     "execution_count": 40,
     "metadata": {},
     "output_type": "execute_result"
    }
   ],
   "source": [
    "dataset_config = chrombert.get_preset_dataset_config(\"multi_flank_window\",supervised_file = f'{gep_dir}/nochange_data_sample.csv', batch_size = 32, num_workers = 4)\n",
    "dl = dataset_config.init_dataloader()\n",
    "nochange_gep_embs = []\n",
    "for batch in tqdm(dl):\n",
    "    with torch.no_grad():\n",
    "        for k, v in batch.items():\n",
    "            if isinstance(v, torch.Tensor):\n",
    "                batch[k] = v.cuda()\n",
    "        emb = model_emb(batch).cpu()\n",
    "        nochange_gep_embs.append(emb)\n",
    "nochange_gep_embs = torch.cat(nochange_gep_embs)\n",
    "nochange_gep_embs.shape"
   ]
  },
  {
   "cell_type": "markdown",
   "metadata": {},
   "source": [
    "We consider only factors below, remove histone modifications and chromatin accessibility. Then we can get similarity between factors, which represent the potential interactions between factors. "
   ]
  },
  {
   "cell_type": "code",
   "execution_count": 41,
   "metadata": {},
   "outputs": [],
   "source": [
    "with open(os.path.join(base_dir, \"config\",\"hg38_6k_factors_list.txt\"),\"r\") as f:\n",
    "    factors = f.read().strip().split(\"\\n\")\n",
    "factors = [f.strip().lower() for f in factors]\n",
    "\n",
    "\n",
    "indices = np.in1d(model_emb.list_regulator,factors)\n",
    "names = np.array(model_emb.list_regulator)[indices]\n",
    "up_gep_embs = up_gep_embs.mean(axis=0)[indices]\n",
    "nochange_gep_embs = nochange_gep_embs.mean(axis=0)[indices]"
   ]
  },
  {
   "cell_type": "code",
   "execution_count": 42,
   "metadata": {},
   "outputs": [
    {
     "data": {
      "text/plain": [
       "(torch.Size([996, 768]), torch.Size([996, 768]))"
      ]
     },
     "execution_count": 42,
     "metadata": {},
     "output_type": "execute_result"
    }
   ],
   "source": [
    "up_gep_embs.shape, nochange_gep_embs.shape"
   ]
  },
  {
   "cell_type": "code",
   "execution_count": 43,
   "metadata": {},
   "outputs": [
    {
     "data": {
      "text/html": [
       "<div>\n",
       "<style scoped>\n",
       "    .dataframe tbody tr th:only-of-type {\n",
       "        vertical-align: middle;\n",
       "    }\n",
       "\n",
       "    .dataframe tbody tr th {\n",
       "        vertical-align: top;\n",
       "    }\n",
       "\n",
       "    .dataframe thead th {\n",
       "        text-align: right;\n",
       "    }\n",
       "</style>\n",
       "<table border=\"1\" class=\"dataframe\">\n",
       "  <thead>\n",
       "    <tr style=\"text-align: right;\">\n",
       "      <th></th>\n",
       "      <th>factors</th>\n",
       "      <th>similarity</th>\n",
       "      <th>rank</th>\n",
       "    </tr>\n",
       "  </thead>\n",
       "  <tbody>\n",
       "    <tr>\n",
       "      <th>0</th>\n",
       "      <td>rpe</td>\n",
       "      <td>0.902802</td>\n",
       "      <td>1</td>\n",
       "    </tr>\n",
       "    <tr>\n",
       "      <th>1</th>\n",
       "      <td>klf15</td>\n",
       "      <td>0.925641</td>\n",
       "      <td>2</td>\n",
       "    </tr>\n",
       "    <tr>\n",
       "      <th>2</th>\n",
       "      <td>nr3c2</td>\n",
       "      <td>0.926707</td>\n",
       "      <td>3</td>\n",
       "    </tr>\n",
       "    <tr>\n",
       "      <th>3</th>\n",
       "      <td>myf5</td>\n",
       "      <td>0.938897</td>\n",
       "      <td>4</td>\n",
       "    </tr>\n",
       "    <tr>\n",
       "      <th>4</th>\n",
       "      <td>pgr</td>\n",
       "      <td>0.950597</td>\n",
       "      <td>5</td>\n",
       "    </tr>\n",
       "    <tr>\n",
       "      <th>...</th>\n",
       "      <td>...</td>\n",
       "      <td>...</td>\n",
       "      <td>...</td>\n",
       "    </tr>\n",
       "    <tr>\n",
       "      <th>991</th>\n",
       "      <td>dbp</td>\n",
       "      <td>0.998239</td>\n",
       "      <td>992</td>\n",
       "    </tr>\n",
       "    <tr>\n",
       "      <th>992</th>\n",
       "      <td>tfcp2</td>\n",
       "      <td>0.998259</td>\n",
       "      <td>993</td>\n",
       "    </tr>\n",
       "    <tr>\n",
       "      <th>993</th>\n",
       "      <td>mafk</td>\n",
       "      <td>0.998279</td>\n",
       "      <td>994</td>\n",
       "    </tr>\n",
       "    <tr>\n",
       "      <th>994</th>\n",
       "      <td>tfam</td>\n",
       "      <td>0.998362</td>\n",
       "      <td>995</td>\n",
       "    </tr>\n",
       "    <tr>\n",
       "      <th>995</th>\n",
       "      <td>maff</td>\n",
       "      <td>0.998379</td>\n",
       "      <td>996</td>\n",
       "    </tr>\n",
       "  </tbody>\n",
       "</table>\n",
       "<p>996 rows × 3 columns</p>\n",
       "</div>"
      ],
      "text/plain": [
       "    factors  similarity  rank\n",
       "0       rpe    0.902802     1\n",
       "1     klf15    0.925641     2\n",
       "2     nr3c2    0.926707     3\n",
       "3      myf5    0.938897     4\n",
       "4       pgr    0.950597     5\n",
       "..      ...         ...   ...\n",
       "991     dbp    0.998239   992\n",
       "992   tfcp2    0.998259   993\n",
       "993    mafk    0.998279   994\n",
       "994    tfam    0.998362   995\n",
       "995    maff    0.998379   996\n",
       "\n",
       "[996 rows x 3 columns]"
      ]
     },
     "execution_count": 43,
     "metadata": {},
     "output_type": "execute_result"
    }
   ],
   "source": [
    "from sklearn.metrics.pairwise import cosine_similarity\n",
    "gep_similarity = [cosine_similarity(up_gep_embs[i].reshape(1, -1), nochange_gep_embs[i].reshape(1, -1))[0, 0] for i in range(up_gep_embs.shape[0])]\n",
    "gep_similarity_df = pd.DataFrame({'factors':names,'similarity':gep_similarity}).sort_values(by='similarity').reset_index(drop=True)\n",
    "gep_similarity_df['rank']=gep_similarity_df.index + 1\n",
    "gep_similarity_df"
   ]
  },
  {
   "cell_type": "code",
   "execution_count": 44,
   "metadata": {},
   "outputs": [
    {
     "data": {
      "text/html": [
       "<div>\n",
       "<style scoped>\n",
       "    .dataframe tbody tr th:only-of-type {\n",
       "        vertical-align: middle;\n",
       "    }\n",
       "\n",
       "    .dataframe tbody tr th {\n",
       "        vertical-align: top;\n",
       "    }\n",
       "\n",
       "    .dataframe thead th {\n",
       "        text-align: right;\n",
       "    }\n",
       "</style>\n",
       "<table border=\"1\" class=\"dataframe\">\n",
       "  <thead>\n",
       "    <tr style=\"text-align: right;\">\n",
       "      <th></th>\n",
       "      <th>factors</th>\n",
       "      <th>similarity</th>\n",
       "      <th>rank</th>\n",
       "    </tr>\n",
       "  </thead>\n",
       "  <tbody>\n",
       "    <tr>\n",
       "      <th>17</th>\n",
       "      <td>myod1</td>\n",
       "      <td>0.971539</td>\n",
       "      <td>18</td>\n",
       "    </tr>\n",
       "  </tbody>\n",
       "</table>\n",
       "</div>"
      ],
      "text/plain": [
       "   factors  similarity  rank\n",
       "17   myod1    0.971539    18"
      ]
     },
     "execution_count": 44,
     "metadata": {},
     "output_type": "execute_result"
    }
   ],
   "source": [
    "gep_similarity_df[gep_similarity_df['factors']=='myod1']"
   ]
  },
  {
   "cell_type": "markdown",
   "metadata": {},
   "source": [
    "### Get regulator embedding and regulator rank in chromatin accessibility"
   ]
  },
  {
   "cell_type": "code",
   "execution_count": 45,
   "metadata": {},
   "outputs": [
    {
     "name": "stdout",
     "output_type": "stream",
     "text": [
      "update path: mtx_mask = config/hg38_6k_mask_matrix.tsv\n",
      "update path: pretrain_ckpt = checkpoint/hg38_6k_1kb_pretrain.ckpt\n",
      "update path: finetune_ckpt = /home/chenqianqian/.cache/chrombert/data/demo/transdifferentiation/chrom_accessibility/chrom_accessibility_fibroblast_to_myoblast.ckpt\n",
      "use organisim hg38; max sequence length including cls is 6392\n",
      "Loading checkpoint from /home/chenqianqian/.cache/chrombert/data/demo/transdifferentiation/chrom_accessibility/chrom_accessibility_fibroblast_to_myoblast.ckpt\n",
      "Loaded 110/110 parameters\n"
     ]
    }
   ],
   "source": [
    "model_tuned = chrombert.get_preset_model_config(\n",
    "    \"general\", \n",
    "    dropout = 0,\n",
    "    finetune_ckpt = f'{chrom_accessibility_dir}/chrom_accessibility_fibroblast_to_myoblast.ckpt').init_model() # use absolute path here, to avoid mixing of preset"
   ]
  },
  {
   "cell_type": "code",
   "execution_count": 46,
   "metadata": {},
   "outputs": [
    {
     "data": {
      "text/plain": [
       "================================================================================\n",
       "Layer (type:depth-idx)                                  Param #\n",
       "================================================================================\n",
       "ChromBERTEmbedding                                      --\n",
       "├─ChromBERT: 1-1                                        --\n",
       "│    └─BERTEmbedding: 2-1                               --\n",
       "│    │    └─TokenEmbedding: 3-1                         7,680\n",
       "│    │    └─PositionalEmbedding: 3-2                    4,909,056\n",
       "│    │    └─Dropout: 3-3                                --\n",
       "│    └─ModuleList: 2-2                                  --\n",
       "│    │    └─EncoderTransformerBlock: 3-4                6,497,280\n",
       "│    │    └─EncoderTransformerBlock: 3-5                6,497,280\n",
       "│    │    └─EncoderTransformerBlock: 3-6                6,497,280\n",
       "│    │    └─EncoderTransformerBlock: 3-7                6,497,280\n",
       "│    │    └─EncoderTransformerBlock: 3-8                6,497,280\n",
       "│    │    └─EncoderTransformerBlock: 3-9                6,497,280\n",
       "│    │    └─EncoderTransformerBlock: 3-10               6,497,280\n",
       "│    │    └─EncoderTransformerBlock: 3-11               6,497,280\n",
       "├─CistromeEmbeddingManager: 1-2                         --\n",
       "================================================================================\n",
       "Total params: 56,894,976\n",
       "Trainable params: 56,894,976\n",
       "Non-trainable params: 0\n",
       "================================================================================"
      ]
     },
     "execution_count": 46,
     "metadata": {},
     "output_type": "execute_result"
    }
   ],
   "source": [
    "model_emb = model_tuned.get_embedding_manager().cuda()\n",
    "summary(model_emb)"
   ]
  },
  {
   "cell_type": "code",
   "execution_count": 47,
   "metadata": {},
   "outputs": [
    {
     "name": "stdout",
     "output_type": "stream",
     "text": [
      "update path: hdf5_file = hg38_6k_1kb.hdf5\n",
      "update path: meta_file = config/hg38_6k_meta.json\n"
     ]
    },
    {
     "name": "stderr",
     "output_type": "stream",
     "text": [
      "  0%|          | 0/4 [00:00<?, ?it/s]"
     ]
    },
    {
     "name": "stderr",
     "output_type": "stream",
     "text": [
      "100%|██████████| 4/4 [00:05<00:00,  1.36s/it]\n"
     ]
    },
    {
     "data": {
      "text/plain": [
       "torch.Size([100, 1064, 768])"
      ]
     },
     "execution_count": 47,
     "metadata": {},
     "output_type": "execute_result"
    }
   ],
   "source": [
    "dataset_config = chrombert.get_preset_dataset_config(\"general\",supervised_file = f'{chrom_accessibility_dir}/up_data_sample.csv', batch_size = 32, num_workers = 4)\n",
    "up_chrom_acc_embs=[]\n",
    "dl = dataset_config.init_dataloader()\n",
    "for batch in tqdm(dl):\n",
    "    with torch.no_grad():\n",
    "        for k, v in batch.items():\n",
    "            if isinstance(v, torch.Tensor):\n",
    "                batch[k] = v.cuda()\n",
    "        emb = model_emb(batch).cpu()\n",
    "        up_chrom_acc_embs.append(emb)\n",
    "up_chrom_acc_embs = torch.cat(up_chrom_acc_embs,dim=0)\n",
    "up_chrom_acc_embs.shape"
   ]
  },
  {
   "cell_type": "code",
   "execution_count": 48,
   "metadata": {},
   "outputs": [
    {
     "name": "stdout",
     "output_type": "stream",
     "text": [
      "update path: hdf5_file = hg38_6k_1kb.hdf5\n",
      "update path: meta_file = config/hg38_6k_meta.json\n"
     ]
    },
    {
     "name": "stderr",
     "output_type": "stream",
     "text": [
      "100%|██████████| 4/4 [00:05<00:00,  1.39s/it]\n"
     ]
    },
    {
     "data": {
      "text/plain": [
       "torch.Size([100, 1064, 768])"
      ]
     },
     "execution_count": 48,
     "metadata": {},
     "output_type": "execute_result"
    }
   ],
   "source": [
    "dataset_config = chrombert.get_preset_dataset_config(\"general\",supervised_file = f'{chrom_accessibility_dir}/nochange_data_sample.csv', batch_size = 32, num_workers = 4)\n",
    "nochange_chrom_acc_embs=[]\n",
    "dl = dataset_config.init_dataloader()\n",
    "for batch in tqdm(dl):\n",
    "    with torch.no_grad():\n",
    "        for k, v in batch.items():\n",
    "            if isinstance(v, torch.Tensor):\n",
    "                batch[k] = v.cuda()\n",
    "        emb = model_emb(batch).cpu()\n",
    "        nochange_chrom_acc_embs.append(emb)\n",
    "nochange_chrom_acc_embs = torch.cat(nochange_chrom_acc_embs,dim=0)\n",
    "nochange_chrom_acc_embs.shape"
   ]
  },
  {
   "cell_type": "code",
   "execution_count": 49,
   "metadata": {},
   "outputs": [],
   "source": [
    "with open(os.path.join(base_dir, \"config\",\"hg38_6k_factors_list.txt\"),\"r\") as f:\n",
    "    factors = f.read().strip().split(\"\\n\")\n",
    "factors = [f.strip().lower() for f in factors]\n",
    "\n",
    "\n",
    "indices = np.in1d(model_emb.list_regulator,factors)\n",
    "names = np.array(model_emb.list_regulator)[indices]\n",
    "up_chrom_acc_embs = up_chrom_acc_embs.mean(axis=0)[indices]\n",
    "nochange_chrom_acc_embs = nochange_chrom_acc_embs.mean(axis=0)[indices]"
   ]
  },
  {
   "cell_type": "code",
   "execution_count": 50,
   "metadata": {},
   "outputs": [
    {
     "data": {
      "text/plain": [
       "(torch.Size([996, 768]), torch.Size([996, 768]))"
      ]
     },
     "execution_count": 50,
     "metadata": {},
     "output_type": "execute_result"
    }
   ],
   "source": [
    "up_chrom_acc_embs.shape, nochange_chrom_acc_embs.shape"
   ]
  },
  {
   "cell_type": "code",
   "execution_count": 51,
   "metadata": {},
   "outputs": [
    {
     "data": {
      "text/html": [
       "<div>\n",
       "<style scoped>\n",
       "    .dataframe tbody tr th:only-of-type {\n",
       "        vertical-align: middle;\n",
       "    }\n",
       "\n",
       "    .dataframe tbody tr th {\n",
       "        vertical-align: top;\n",
       "    }\n",
       "\n",
       "    .dataframe thead th {\n",
       "        text-align: right;\n",
       "    }\n",
       "</style>\n",
       "<table border=\"1\" class=\"dataframe\">\n",
       "  <thead>\n",
       "    <tr style=\"text-align: right;\">\n",
       "      <th></th>\n",
       "      <th>factors</th>\n",
       "      <th>similarity</th>\n",
       "      <th>rank</th>\n",
       "    </tr>\n",
       "  </thead>\n",
       "  <tbody>\n",
       "    <tr>\n",
       "      <th>0</th>\n",
       "      <td>myod1</td>\n",
       "      <td>0.038196</td>\n",
       "      <td>1</td>\n",
       "    </tr>\n",
       "    <tr>\n",
       "      <th>1</th>\n",
       "      <td>myf5</td>\n",
       "      <td>0.139169</td>\n",
       "      <td>2</td>\n",
       "    </tr>\n",
       "    <tr>\n",
       "      <th>2</th>\n",
       "      <td>myog</td>\n",
       "      <td>0.158149</td>\n",
       "      <td>3</td>\n",
       "    </tr>\n",
       "    <tr>\n",
       "      <th>3</th>\n",
       "      <td>pax3</td>\n",
       "      <td>0.169502</td>\n",
       "      <td>4</td>\n",
       "    </tr>\n",
       "    <tr>\n",
       "      <th>4</th>\n",
       "      <td>tead1</td>\n",
       "      <td>0.264310</td>\n",
       "      <td>5</td>\n",
       "    </tr>\n",
       "    <tr>\n",
       "      <th>...</th>\n",
       "      <td>...</td>\n",
       "      <td>...</td>\n",
       "      <td>...</td>\n",
       "    </tr>\n",
       "    <tr>\n",
       "      <th>991</th>\n",
       "      <td>zbtb10</td>\n",
       "      <td>0.979514</td>\n",
       "      <td>992</td>\n",
       "    </tr>\n",
       "    <tr>\n",
       "      <th>992</th>\n",
       "      <td>znf250</td>\n",
       "      <td>0.979778</td>\n",
       "      <td>993</td>\n",
       "    </tr>\n",
       "    <tr>\n",
       "      <th>993</th>\n",
       "      <td>dr1</td>\n",
       "      <td>0.980107</td>\n",
       "      <td>994</td>\n",
       "    </tr>\n",
       "    <tr>\n",
       "      <th>994</th>\n",
       "      <td>hoxa1</td>\n",
       "      <td>0.980110</td>\n",
       "      <td>995</td>\n",
       "    </tr>\n",
       "    <tr>\n",
       "      <th>995</th>\n",
       "      <td>barhl1</td>\n",
       "      <td>0.981534</td>\n",
       "      <td>996</td>\n",
       "    </tr>\n",
       "  </tbody>\n",
       "</table>\n",
       "<p>996 rows × 3 columns</p>\n",
       "</div>"
      ],
      "text/plain": [
       "    factors  similarity  rank\n",
       "0     myod1    0.038196     1\n",
       "1      myf5    0.139169     2\n",
       "2      myog    0.158149     3\n",
       "3      pax3    0.169502     4\n",
       "4     tead1    0.264310     5\n",
       "..      ...         ...   ...\n",
       "991  zbtb10    0.979514   992\n",
       "992  znf250    0.979778   993\n",
       "993     dr1    0.980107   994\n",
       "994   hoxa1    0.980110   995\n",
       "995  barhl1    0.981534   996\n",
       "\n",
       "[996 rows x 3 columns]"
      ]
     },
     "execution_count": 51,
     "metadata": {},
     "output_type": "execute_result"
    }
   ],
   "source": [
    "from sklearn.metrics.pairwise import cosine_similarity\n",
    "chrom_acc_similarity = [cosine_similarity(up_chrom_acc_embs[i].reshape(1, -1), nochange_chrom_acc_embs[i].reshape(1, -1))[0, 0] for i in range(up_chrom_acc_embs.shape[0])]\n",
    "chrom_acc_similarity_df = pd.DataFrame({'factors':names,'similarity':chrom_acc_similarity}).sort_values(by='similarity').reset_index(drop=True)\n",
    "chrom_acc_similarity_df['rank']=chrom_acc_similarity_df.index + 1\n",
    "chrom_acc_similarity_df"
   ]
  },
  {
   "cell_type": "code",
   "execution_count": 52,
   "metadata": {},
   "outputs": [
    {
     "data": {
      "text/html": [
       "<div>\n",
       "<style scoped>\n",
       "    .dataframe tbody tr th:only-of-type {\n",
       "        vertical-align: middle;\n",
       "    }\n",
       "\n",
       "    .dataframe tbody tr th {\n",
       "        vertical-align: top;\n",
       "    }\n",
       "\n",
       "    .dataframe thead th {\n",
       "        text-align: right;\n",
       "    }\n",
       "</style>\n",
       "<table border=\"1\" class=\"dataframe\">\n",
       "  <thead>\n",
       "    <tr style=\"text-align: right;\">\n",
       "      <th></th>\n",
       "      <th>factors</th>\n",
       "      <th>similarity</th>\n",
       "      <th>rank</th>\n",
       "    </tr>\n",
       "  </thead>\n",
       "  <tbody>\n",
       "    <tr>\n",
       "      <th>0</th>\n",
       "      <td>myod1</td>\n",
       "      <td>0.038196</td>\n",
       "      <td>1</td>\n",
       "    </tr>\n",
       "  </tbody>\n",
       "</table>\n",
       "</div>"
      ],
      "text/plain": [
       "  factors  similarity  rank\n",
       "0   myod1    0.038196     1"
      ]
     },
     "execution_count": 52,
     "metadata": {},
     "output_type": "execute_result"
    }
   ],
   "source": [
    "chrom_acc_similarity_df[chrom_acc_similarity_df['factors']=='myod1']"
   ]
  },
  {
   "cell_type": "markdown",
   "metadata": {},
   "source": [
    "### Average ranking from these two modalities"
   ]
  },
  {
   "cell_type": "code",
   "execution_count": 53,
   "metadata": {},
   "outputs": [
    {
     "data": {
      "text/html": [
       "<div>\n",
       "<style scoped>\n",
       "    .dataframe tbody tr th:only-of-type {\n",
       "        vertical-align: middle;\n",
       "    }\n",
       "\n",
       "    .dataframe tbody tr th {\n",
       "        vertical-align: top;\n",
       "    }\n",
       "\n",
       "    .dataframe thead th {\n",
       "        text-align: right;\n",
       "    }\n",
       "</style>\n",
       "<table border=\"1\" class=\"dataframe\">\n",
       "  <thead>\n",
       "    <tr style=\"text-align: right;\">\n",
       "      <th></th>\n",
       "      <th>factors</th>\n",
       "      <th>similarity_gep</th>\n",
       "      <th>rank_gep</th>\n",
       "      <th>similarity_chrom_acc</th>\n",
       "      <th>rank_chrom_acc</th>\n",
       "      <th>averge_rank</th>\n",
       "    </tr>\n",
       "  </thead>\n",
       "  <tbody>\n",
       "    <tr>\n",
       "      <th>3</th>\n",
       "      <td>myf5</td>\n",
       "      <td>0.938897</td>\n",
       "      <td>4</td>\n",
       "      <td>0.139169</td>\n",
       "      <td>2</td>\n",
       "      <td>1</td>\n",
       "    </tr>\n",
       "    <tr>\n",
       "      <th>6</th>\n",
       "      <td>dux4</td>\n",
       "      <td>0.954232</td>\n",
       "      <td>7</td>\n",
       "      <td>0.462057</td>\n",
       "      <td>6</td>\n",
       "      <td>2</td>\n",
       "    </tr>\n",
       "    <tr>\n",
       "      <th>2</th>\n",
       "      <td>nr3c2</td>\n",
       "      <td>0.926707</td>\n",
       "      <td>3</td>\n",
       "      <td>0.712065</td>\n",
       "      <td>12</td>\n",
       "      <td>3</td>\n",
       "    </tr>\n",
       "    <tr>\n",
       "      <th>11</th>\n",
       "      <td>tead1</td>\n",
       "      <td>0.962442</td>\n",
       "      <td>12</td>\n",
       "      <td>0.264310</td>\n",
       "      <td>5</td>\n",
       "      <td>4</td>\n",
       "    </tr>\n",
       "    <tr>\n",
       "      <th>17</th>\n",
       "      <td>myod1</td>\n",
       "      <td>0.971539</td>\n",
       "      <td>18</td>\n",
       "      <td>0.038196</td>\n",
       "      <td>1</td>\n",
       "      <td>5</td>\n",
       "    </tr>\n",
       "    <tr>\n",
       "      <th>...</th>\n",
       "      <td>...</td>\n",
       "      <td>...</td>\n",
       "      <td>...</td>\n",
       "      <td>...</td>\n",
       "      <td>...</td>\n",
       "      <td>...</td>\n",
       "    </tr>\n",
       "    <tr>\n",
       "      <th>992</th>\n",
       "      <td>tfcp2</td>\n",
       "      <td>0.998259</td>\n",
       "      <td>993</td>\n",
       "      <td>0.975744</td>\n",
       "      <td>966</td>\n",
       "      <td>992</td>\n",
       "    </tr>\n",
       "    <tr>\n",
       "      <th>987</th>\n",
       "      <td>mafg</td>\n",
       "      <td>0.998105</td>\n",
       "      <td>988</td>\n",
       "      <td>0.977242</td>\n",
       "      <td>977</td>\n",
       "      <td>993</td>\n",
       "    </tr>\n",
       "    <tr>\n",
       "      <th>973</th>\n",
       "      <td>pitx1</td>\n",
       "      <td>0.997836</td>\n",
       "      <td>974</td>\n",
       "      <td>0.979403</td>\n",
       "      <td>991</td>\n",
       "      <td>993</td>\n",
       "    </tr>\n",
       "    <tr>\n",
       "      <th>983</th>\n",
       "      <td>znf250</td>\n",
       "      <td>0.997955</td>\n",
       "      <td>984</td>\n",
       "      <td>0.979778</td>\n",
       "      <td>993</td>\n",
       "      <td>995</td>\n",
       "    </tr>\n",
       "    <tr>\n",
       "      <th>995</th>\n",
       "      <td>maff</td>\n",
       "      <td>0.998379</td>\n",
       "      <td>996</td>\n",
       "      <td>0.979376</td>\n",
       "      <td>990</td>\n",
       "      <td>996</td>\n",
       "    </tr>\n",
       "  </tbody>\n",
       "</table>\n",
       "<p>996 rows × 6 columns</p>\n",
       "</div>"
      ],
      "text/plain": [
       "    factors  similarity_gep  rank_gep  similarity_chrom_acc  rank_chrom_acc  \\\n",
       "3      myf5        0.938897         4              0.139169               2   \n",
       "6      dux4        0.954232         7              0.462057               6   \n",
       "2     nr3c2        0.926707         3              0.712065              12   \n",
       "11    tead1        0.962442        12              0.264310               5   \n",
       "17    myod1        0.971539        18              0.038196               1   \n",
       "..      ...             ...       ...                   ...             ...   \n",
       "992   tfcp2        0.998259       993              0.975744             966   \n",
       "987    mafg        0.998105       988              0.977242             977   \n",
       "973   pitx1        0.997836       974              0.979403             991   \n",
       "983  znf250        0.997955       984              0.979778             993   \n",
       "995    maff        0.998379       996              0.979376             990   \n",
       "\n",
       "     averge_rank  \n",
       "3              1  \n",
       "6              2  \n",
       "2              3  \n",
       "11             4  \n",
       "17             5  \n",
       "..           ...  \n",
       "992          992  \n",
       "987          993  \n",
       "973          993  \n",
       "983          995  \n",
       "995          996  \n",
       "\n",
       "[996 rows x 6 columns]"
      ]
     },
     "execution_count": 53,
     "metadata": {},
     "output_type": "execute_result"
    }
   ],
   "source": [
    "average_rank_df = pd.merge(gep_similarity_df, chrom_acc_similarity_df, on='factors', how='inner', suffixes=('_gep', '_chrom_acc'))\n",
    "average_rank_df['averge_rank'] = ((average_rank_df['rank_gep']+average_rank_df['rank_chrom_acc'])/2).rank().astype(int)\n",
    "average_rank_df=average_rank_df.sort_values(by='averge_rank')\n",
    "average_rank_df"
   ]
  },
  {
   "cell_type": "code",
   "execution_count": 54,
   "metadata": {},
   "outputs": [
    {
     "data": {
      "text/html": [
       "<div>\n",
       "<style scoped>\n",
       "    .dataframe tbody tr th:only-of-type {\n",
       "        vertical-align: middle;\n",
       "    }\n",
       "\n",
       "    .dataframe tbody tr th {\n",
       "        vertical-align: top;\n",
       "    }\n",
       "\n",
       "    .dataframe thead th {\n",
       "        text-align: right;\n",
       "    }\n",
       "</style>\n",
       "<table border=\"1\" class=\"dataframe\">\n",
       "  <thead>\n",
       "    <tr style=\"text-align: right;\">\n",
       "      <th></th>\n",
       "      <th>factors</th>\n",
       "      <th>similarity_gep</th>\n",
       "      <th>rank_gep</th>\n",
       "      <th>similarity_chrom_acc</th>\n",
       "      <th>rank_chrom_acc</th>\n",
       "      <th>averge_rank</th>\n",
       "    </tr>\n",
       "  </thead>\n",
       "  <tbody>\n",
       "    <tr>\n",
       "      <th>17</th>\n",
       "      <td>myod1</td>\n",
       "      <td>0.971539</td>\n",
       "      <td>18</td>\n",
       "      <td>0.038196</td>\n",
       "      <td>1</td>\n",
       "      <td>5</td>\n",
       "    </tr>\n",
       "  </tbody>\n",
       "</table>\n",
       "</div>"
      ],
      "text/plain": [
       "   factors  similarity_gep  rank_gep  similarity_chrom_acc  rank_chrom_acc  \\\n",
       "17   myod1        0.971539        18              0.038196               1   \n",
       "\n",
       "    averge_rank  \n",
       "17            5  "
      ]
     },
     "execution_count": 54,
     "metadata": {},
     "output_type": "execute_result"
    }
   ],
   "source": [
    "average_rank_df[average_rank_df['factors']=='myod1']"
   ]
  },
  {
   "cell_type": "code",
   "execution_count": null,
   "metadata": {},
   "outputs": [],
   "source": []
  }
 ],
 "metadata": {
  "kernelspec": {
   "display_name": "demo",
   "language": "python",
   "name": "python3"
  },
  "language_info": {
   "codemirror_mode": {
    "name": "ipython",
    "version": 3
   },
   "file_extension": ".py",
   "mimetype": "text/x-python",
   "name": "python",
   "nbconvert_exporter": "python",
   "pygments_lexer": "ipython3",
   "version": "3.9.19"
  }
 },
 "nbformat": 4,
 "nbformat_minor": 2
}
