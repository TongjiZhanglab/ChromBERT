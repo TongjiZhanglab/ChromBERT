{
 "cells": [
  {
   "cell_type": "markdown",
   "metadata": {},
   "source": [
    "# Example for context-specific TRN: perturbation of STARR-seq\n",
    "Inference of transcriptional regulatory networks (TRNs) at specific loci is a complex and dynamic process. In this tutorial, we will guide you through context-specific TRN analysis using ChromBERTs, using the example of modelling perturbation effect of STARR-seq.  \n",
    "\n",
    "**Attention: You should go through this [ tutorial ](https://chrombert.readthedocs.io/en/latest/tutorial_finetuning_ChromBERT.html) at first to get familiar with the basic usage of ChromBERT.**"
   ]
  },
  {
   "cell_type": "code",
   "execution_count": 11,
   "metadata": {},
   "outputs": [],
   "source": [
    "import  os \n",
    "os.environ[\"CUDA_VISIBLE_DEVICES\"] = \"0\" # to selected gpu used \n",
    "\n",
    "import sys \n",
    "import torch \n",
    "import numpy as np \n",
    "import pandas as pd \n",
    "from tqdm import tqdm \n",
    "from matplotlib import pyplot as plt\n",
    "import chrombert\n",
    "from torchinfo import summary\n",
    "\n",
    "import scipy \n",
    "import h5py \n",
    "from sklearn.metrics.pairwise import cosine_similarity\n",
    "import lightning.pytorch as pl\n",
    "basedir =  os.path.expanduser(\"~/.cache/chrombert/data\")\n",
    "\n"
   ]
  },
  {
   "cell_type": "markdown",
   "metadata": {},
   "source": [
    "## Fine-tune"
   ]
  },
  {
   "cell_type": "markdown",
   "metadata": {},
   "source": [
    "### Dataset  \n",
    "\n",
    "The first step is to prepare the dataset. The dataset used for the perturbation task is similar to those used in other tasks, with the exception of the `perturbation_object` column, which specifies the perturbation target for each sample.  \n",
    "\n",
    "The `perturbation_object` can contain a list of data accessions joined by `;` or transcription regulator names joined by `;`. If no perturbation is applied to a sample, set it as `None` or the string `\"none\"`.  \n",
    "\n",
    "This parameter can be defined for each sample individually or applied universally to all samples in the dataset. For the latter, it should be set in the configuration file.  \n",
    "\n",
    "**Note:** Settings in the configuration will overwrite individual sample settings."
   ]
  },
  {
   "cell_type": "code",
   "execution_count": 12,
   "metadata": {},
   "outputs": [
    {
     "data": {
      "text/html": [
       "<div>\n",
       "<style scoped>\n",
       "    .dataframe tbody tr th:only-of-type {\n",
       "        vertical-align: middle;\n",
       "    }\n",
       "\n",
       "    .dataframe tbody tr th {\n",
       "        vertical-align: top;\n",
       "    }\n",
       "\n",
       "    .dataframe thead th {\n",
       "        text-align: right;\n",
       "    }\n",
       "</style>\n",
       "<table border=\"1\" class=\"dataframe\">\n",
       "  <thead>\n",
       "    <tr style=\"text-align: right;\">\n",
       "      <th></th>\n",
       "      <th>chrom</th>\n",
       "      <th>start</th>\n",
       "      <th>end</th>\n",
       "      <th>build_region_index</th>\n",
       "      <th>label</th>\n",
       "      <th>perturbation_object</th>\n",
       "    </tr>\n",
       "  </thead>\n",
       "  <tbody>\n",
       "    <tr>\n",
       "      <th>0</th>\n",
       "      <td>chr1</td>\n",
       "      <td>199241128</td>\n",
       "      <td>199242128</td>\n",
       "      <td>141732</td>\n",
       "      <td>1.956989</td>\n",
       "      <td>NaN</td>\n",
       "    </tr>\n",
       "    <tr>\n",
       "      <th>1</th>\n",
       "      <td>chr1</td>\n",
       "      <td>107707622</td>\n",
       "      <td>107708622</td>\n",
       "      <td>87175</td>\n",
       "      <td>2.505805</td>\n",
       "      <td>NaN</td>\n",
       "    </tr>\n",
       "    <tr>\n",
       "      <th>2</th>\n",
       "      <td>chr10</td>\n",
       "      <td>127935569</td>\n",
       "      <td>127936569</td>\n",
       "      <td>281197</td>\n",
       "      <td>2.637493</td>\n",
       "      <td>NaN</td>\n",
       "    </tr>\n",
       "    <tr>\n",
       "      <th>3</th>\n",
       "      <td>chr2</td>\n",
       "      <td>72258130</td>\n",
       "      <td>72259130</td>\n",
       "      <td>975449</td>\n",
       "      <td>1.491235</td>\n",
       "      <td>NaN</td>\n",
       "    </tr>\n",
       "    <tr>\n",
       "      <th>4</th>\n",
       "      <td>chr8</td>\n",
       "      <td>33612518</td>\n",
       "      <td>33613518</td>\n",
       "      <td>1889869</td>\n",
       "      <td>1.761900</td>\n",
       "      <td>NaN</td>\n",
       "    </tr>\n",
       "    <tr>\n",
       "      <th>...</th>\n",
       "      <td>...</td>\n",
       "      <td>...</td>\n",
       "      <td>...</td>\n",
       "      <td>...</td>\n",
       "      <td>...</td>\n",
       "      <td>...</td>\n",
       "    </tr>\n",
       "    <tr>\n",
       "      <th>34813</th>\n",
       "      <td>chr4</td>\n",
       "      <td>1388788</td>\n",
       "      <td>1389788</td>\n",
       "      <td>1355108</td>\n",
       "      <td>3.686819</td>\n",
       "      <td>GSM1121096;GSM1296385;GSM1313922</td>\n",
       "    </tr>\n",
       "    <tr>\n",
       "      <th>34814</th>\n",
       "      <td>chrX</td>\n",
       "      <td>3651041</td>\n",
       "      <td>3652041</td>\n",
       "      <td>2061995</td>\n",
       "      <td>0.914363</td>\n",
       "      <td>GSM602291;GSM449527;GSM525270;GSM525268;GSM393...</td>\n",
       "    </tr>\n",
       "    <tr>\n",
       "      <th>34815</th>\n",
       "      <td>chr5</td>\n",
       "      <td>135488689</td>\n",
       "      <td>135489689</td>\n",
       "      <td>1580262</td>\n",
       "      <td>1.735307</td>\n",
       "      <td>GSM971946;GSM1247824;GSM1328971;GSM1665999;GSM...</td>\n",
       "    </tr>\n",
       "    <tr>\n",
       "      <th>34816</th>\n",
       "      <td>chr10</td>\n",
       "      <td>87317757</td>\n",
       "      <td>87318757</td>\n",
       "      <td>247977</td>\n",
       "      <td>1.701492</td>\n",
       "      <td>GSM971946;GSM1247824;GSM1328971;GSM1665999;GSM...</td>\n",
       "    </tr>\n",
       "    <tr>\n",
       "      <th>34817</th>\n",
       "      <td>chr11</td>\n",
       "      <td>111957724</td>\n",
       "      <td>111958724</td>\n",
       "      <td>366599</td>\n",
       "      <td>2.091776</td>\n",
       "      <td>GSM602291;GSM449527;GSM525270;GSM525268;GSM393...</td>\n",
       "    </tr>\n",
       "  </tbody>\n",
       "</table>\n",
       "<p>34818 rows × 6 columns</p>\n",
       "</div>"
      ],
      "text/plain": [
       "       chrom      start        end  build_region_index     label  \\\n",
       "0       chr1  199241128  199242128              141732  1.956989   \n",
       "1       chr1  107707622  107708622               87175  2.505805   \n",
       "2      chr10  127935569  127936569              281197  2.637493   \n",
       "3       chr2   72258130   72259130              975449  1.491235   \n",
       "4       chr8   33612518   33613518             1889869  1.761900   \n",
       "...      ...        ...        ...                 ...       ...   \n",
       "34813   chr4    1388788    1389788             1355108  3.686819   \n",
       "34814   chrX    3651041    3652041             2061995  0.914363   \n",
       "34815   chr5  135488689  135489689             1580262  1.735307   \n",
       "34816  chr10   87317757   87318757              247977  1.701492   \n",
       "34817  chr11  111957724  111958724              366599  2.091776   \n",
       "\n",
       "                                     perturbation_object  \n",
       "0                                                    NaN  \n",
       "1                                                    NaN  \n",
       "2                                                    NaN  \n",
       "3                                                    NaN  \n",
       "4                                                    NaN  \n",
       "...                                                  ...  \n",
       "34813                   GSM1121096;GSM1296385;GSM1313922  \n",
       "34814  GSM602291;GSM449527;GSM525270;GSM525268;GSM393...  \n",
       "34815  GSM971946;GSM1247824;GSM1328971;GSM1665999;GSM...  \n",
       "34816  GSM971946;GSM1247824;GSM1328971;GSM1665999;GSM...  \n",
       "34817  GSM602291;GSM449527;GSM525270;GSM525268;GSM393...  \n",
       "\n",
       "[34818 rows x 6 columns]"
      ]
     },
     "execution_count": 12,
     "metadata": {},
     "output_type": "execute_result"
    }
   ],
   "source": [
    "# below is a example setting `perturbation_object` for each sample\n",
    "supervised_train = os.path.join(basedir, \"demo\", \"starr\", \"train.csv\")\n",
    "df_train = pd.read_csv(supervised_train)\n",
    "df_train"
   ]
  },
  {
   "cell_type": "code",
   "execution_count": 13,
   "metadata": {},
   "outputs": [
    {
     "name": "stdout",
     "output_type": "stream",
     "text": [
      "update path: hdf5_file = hg38_6k_1kb.hdf5\n",
      "update path: meta_file = config/hg38_6k_meta.json\n",
      "{\n",
      "    \"hdf5_file\": \"/home/yangdongxu/.cache/chrombert/data/hg38_6k_1kb.hdf5\",\n",
      "    \"supervised_file\": \"/home/yangdongxu/.cache/chrombert/data/demo/starr/train.csv\",\n",
      "    \"kind\": \"GeneralDataset\",\n",
      "    \"meta_file\": \"/home/yangdongxu/.cache/chrombert/data/config/hg38_6k_meta.json\",\n",
      "    \"ignore\": false,\n",
      "    \"ignore_object\": null,\n",
      "    \"batch_size\": 8,\n",
      "    \"num_workers\": 20,\n",
      "    \"shuffle\": false,\n",
      "    \"perturbation\": true,\n",
      "    \"perturbation_object\": null,\n",
      "    \"perturbation_value\": 0,\n",
      "    \"prompt_kind\": null,\n",
      "    \"prompt_regulator\": null,\n",
      "    \"prompt_regulator_cache_file\": null,\n",
      "    \"prompt_celltype\": null,\n",
      "    \"prompt_celltype_cache_file\": null,\n",
      "    \"fasta_file\": null,\n",
      "    \"flank_window\": 0\n",
      "}\n"
     ]
    }
   ],
   "source": [
    "dc = chrombert.get_preset_dataset_config(\n",
    "    \"general\", supervised_file = supervised_train, \n",
    "    perturbation = True, \n",
    "    perturbation_value = 0  # Perturbation value controls the signal level:\n",
    "                           # 0: Complete signal removal (similar to knock-out)\n",
    "                           # 1-3: Intermediate signal reduction\n",
    "                           # 4: Signal amplification (similar to over-expression)\n",
    "    # Optional: Override perturbation targets by setting perturbation_object\n",
    "    # Example: perturbation_object = \"EP300;CREBBP\" will perturb EP300 and CREBBP signals\n",
    "    )\n",
    "print(dc)"
   ]
  },
  {
   "cell_type": "code",
   "execution_count": 14,
   "metadata": {},
   "outputs": [
    {
     "name": "stdout",
     "output_type": "stream",
     "text": [
      "use perturbation_object in supervised_file\n"
     ]
    },
    {
     "data": {
      "text/plain": [
       "{'input_ids': tensor([5, 6, 5,  ..., 6, 6, 5], dtype=torch.int8),\n",
       " 'position_ids': tensor([   1,    2,    3,  ..., 6389, 6390, 6391]),\n",
       " 'region': tensor([        1, 107165000, 107166000], dtype=torch.int32),\n",
       " 'build_region_index': np.int64(87175),\n",
       " 'label': np.float64(2.505804511612648)}"
      ]
     },
     "execution_count": 14,
     "metadata": {},
     "output_type": "execute_result"
    }
   ],
   "source": [
    "ds = dc.init_dataset()\n",
    "# Example of perturbed dataset entry\n",
    "# input_ids contains tokenized sequence where values 5-9 represent signal levels:\n",
    "# 5: No signal (complete perturbation)\n",
    "# 6-8: Intermediate signal levels \n",
    "# 9: Maximum signal level\n",
    "ds[1] "
   ]
  },
  {
   "cell_type": "markdown",
   "metadata": {},
   "source": [
    "The dataset can be used in combination with the `ignore` functionality. In this case, we omit all other regulators and focus solely on transcription factors."
   ]
  },
  {
   "cell_type": "code",
   "execution_count": 15,
   "metadata": {},
   "outputs": [
    {
     "name": "stdout",
     "output_type": "stream",
     "text": [
      "update path: hdf5_file = hg38_6k_1kb.hdf5\n",
      "update path: meta_file = config/hg38_6k_meta.json\n",
      "use perturbation_object in supervised_file\n"
     ]
    },
    {
     "data": {
      "text/plain": [
       "{'input_ids': tensor([5, 5, 6,  ..., 6, 6, 5], dtype=torch.int8),\n",
       " 'position_ids': tensor([2997, 2999, 3000,  ..., 6389, 6390, 6391]),\n",
       " 'region': tensor([        1, 107165000, 107166000], dtype=torch.int32),\n",
       " 'build_region_index': np.int64(87175),\n",
       " 'ignore_index': (array([1146, 2432,  380, ..., 1373, 1392, 2944]),\n",
       "  array([ 25, 100, 146, 207, 271, 272, 273, 274, 275, 276, 277, 278, 279,\n",
       "         280, 281, 282, 283, 285, 284, 286, 287, 288, 289, 290, 291, 292,\n",
       "         293, 294, 295, 326, 296, 297, 298, 299, 300, 301, 302, 303, 304,\n",
       "         305, 306, 307, 308, 309, 310, 311, 312, 313, 314, 315, 316, 317,\n",
       "         318, 320, 319, 321, 322, 323, 324, 325, 327, 336, 328, 329, 330,\n",
       "         331, 332, 333, 334, 335, 384, 385])),\n",
       " 'label': np.float64(2.505804511612648)}"
      ]
     },
     "execution_count": 15,
     "metadata": {},
     "output_type": "execute_result"
    }
   ],
   "source": [
    "ignores=\"DNase;ATAC-seq;H3K4me1;H3K27me3;H3K9me3;H3K23me2;H4K20me1;H4K5ac;H2BK5ac;H2BK12ac;H3K18ac;H3K4me2;H3K79me2;H4K91ac;H3K9ac;H3K9K14ac;H3.3,H2A.Z;H3K4me3;H3K36me3;H2BK120ac;H2AK9ac;H3K14ac;H2BK15ac;H3K23ac;H2BK20ac;H3K4ac;H3K56ac;H3K79me1;H4K8ac;H3K27ac;H3K9me1;H4K16ac;Histone Lysine Acetylation;Histone Lysine Crotonylation;H3K36me2;H3T;H3ac;H2AK119ub;H2A;H4K5ac, H4K8ac, H4K12ac, H4K16ac;H3K122ac;H2AZK4ac, H2AZK7ac, H2AZK11ac;H2AX;H3.3;H2A.Bbd;H2AZac;H4K20me3;H4K12ac;H2AK5ac;H4ac;H3;CENPA;H1.2;H2Bub;H2AFY;H3R26Cit;H3K79me3;H4;H3K27me1;H3K9me2;H2AZ;H3F3A;H1.4;H1.0;H2AFY2;H3K36ac;H3K36me1;H2BK120ub;H3K18cr;H2AZ;H2AFX;H3F3B;faire\"\n",
    "\n",
    "dc = chrombert.get_preset_dataset_config(\n",
    "    \"general\", supervised_file = supervised_train, \n",
    "    perturbation = True, \n",
    "    perturbation_value = 0, # choose from [0,1,2,3,4]\n",
    "    # Optional: Override perturbation targets by setting perturbation_object\n",
    "    # Example: perturbation_object = \"EP300;CREBBP\" will perturb EP300 and CREBBP signals\n",
    "    ignore = True, \n",
    "    ignore_object = ignores,\n",
    "    batch_size = 1\n",
    "    )\n",
    "ds = dc.init_dataset()\n",
    "ignore_index = ds[1][\"ignore_index\"]\n",
    "ds[1]"
   ]
  },
  {
   "cell_type": "markdown",
   "metadata": {},
   "source": [
    "### Load model\n",
    "\n",
    "Loading the model follows the same procedure as for other tasks."
   ]
  },
  {
   "cell_type": "code",
   "execution_count": 16,
   "metadata": {},
   "outputs": [
    {
     "name": "stdout",
     "output_type": "stream",
     "text": [
      "update path: mtx_mask = config/hg38_6k_mask_matrix.tsv\n",
      "update path: pretrain_ckpt = checkpoint/hg38_6k_1kb_pretrain.ckpt\n",
      "ChromBERTFTConfig(genome='hg38', task='general', dim_output=1, mtx_mask='/home/yangdongxu/.cache/chrombert/data/config/hg38_6k_mask_matrix.tsv', dropout=0.1, pretrain_ckpt='/home/yangdongxu/.cache/chrombert/data/checkpoint/hg38_6k_1kb_pretrain.ckpt', finetune_ckpt=None, ignore=True, ignore_index=(array([1146, 2432,  380, ..., 1373, 1392, 2944]), array([ 25, 100, 146, 207, 271, 272, 273, 274, 275, 276, 277, 278, 279,\n",
      "       280, 281, 282, 283, 285, 284, 286, 287, 288, 289, 290, 291, 292,\n",
      "       293, 294, 295, 326, 296, 297, 298, 299, 300, 301, 302, 303, 304,\n",
      "       305, 306, 307, 308, 309, 310, 311, 312, 313, 314, 315, 316, 317,\n",
      "       318, 320, 319, 321, 322, 323, 324, 325, 327, 336, 328, 329, 330,\n",
      "       331, 332, 333, 334, 335, 384, 385])), gep_flank_window=4, gep_parallel_embedding=False, gep_gradient_checkpoint=False, gep_zero_inflation=True, prompt_kind='cistrome', prompt_dim_external=512, dnabert2_ckpt=None)\n"
     ]
    }
   ],
   "source": [
    "mc = chrombert.get_preset_model_config(\n",
    "    \"general\", \n",
    "    ignore = True, \n",
    "    ignore_index = ignore_index,\n",
    "    dropout = 0.1 # to fine-tune the model\n",
    ")\n",
    "print(mc)"
   ]
  },
  {
   "cell_type": "code",
   "execution_count": 17,
   "metadata": {},
   "outputs": [
    {
     "name": "stdout",
     "output_type": "stream",
     "text": [
      "use organisim hg38; max sequence length including cls is 6392\n"
     ]
    },
    {
     "name": "stderr",
     "output_type": "stream",
     "text": [
      "/home/yangdongxu/.conda/envs/demo/lib/python3.9/site-packages/chrombert/base/model.py:55: FutureWarning: You are using `torch.load` with `weights_only=False` (the current default value), which uses the default pickle module implicitly. It is possible to construct malicious pickle data which will execute arbitrary code during unpickling (See https://github.com/pytorch/pytorch/blob/main/SECURITY.md#untrusted-models for more details). In a future release, the default value for `weights_only` will be flipped to `True`. This limits the functions that could be executed during unpickling. Arbitrary objects will no longer be allowed to be loaded via this mode unless they are explicitly allowlisted by the user via `torch.serialization.add_safe_globals`. We recommend you start setting `weights_only=True` for any use case where you don't have full control of the loaded file. Please open an issue on GitHub for any issues related to this experimental feature.\n",
      "  ck = torch.load(ckpt_path, map_location=torch.device('cpu'))\n"
     ]
    },
    {
     "name": "stdout",
     "output_type": "stream",
     "text": [
      "Ignoring 3044 cistromes and 72 regulators\n"
     ]
    },
    {
     "data": {
      "text/plain": [
       "================================================================================\n",
       "Layer (type:depth-idx)                                  Param #\n",
       "================================================================================\n",
       "ChromBERTGeneral                                        --\n",
       "├─ChromBERT: 1-1                                        --\n",
       "│    └─BERTEmbedding: 2-1                               --\n",
       "│    │    └─TokenEmbedding: 3-1                         (7,680)\n",
       "│    │    └─PositionalEmbedding: 3-2                    (4,909,056)\n",
       "│    │    └─Dropout: 3-3                                --\n",
       "│    └─ModuleList: 2-2                                  --\n",
       "│    │    └─EncoderTransformerBlock: 3-4                (6,497,280)\n",
       "│    │    └─EncoderTransformerBlock: 3-5                (6,497,280)\n",
       "│    │    └─EncoderTransformerBlock: 3-6                (6,497,280)\n",
       "│    │    └─EncoderTransformerBlock: 3-7                (6,497,280)\n",
       "│    │    └─EncoderTransformerBlock: 3-8                (6,497,280)\n",
       "│    │    └─EncoderTransformerBlock: 3-9                (6,497,280)\n",
       "│    │    └─EncoderTransformerBlock: 3-10               6,497,280\n",
       "│    │    └─EncoderTransformerBlock: 3-11               6,497,280\n",
       "├─GeneralHeader: 1-2                                    --\n",
       "│    └─CistromeEmbeddingManager: 2-3                    --\n",
       "│    └─Conv2d: 2-4                                      769\n",
       "│    └─ReLU: 2-5                                        --\n",
       "│    └─ResidualBlock: 2-6                               --\n",
       "│    │    └─Linear: 3-12                                1,016,832\n",
       "│    │    └─Linear: 3-13                                1,049,600\n",
       "│    │    └─LayerNorm: 3-14                             2,048\n",
       "│    │    └─Linear: 3-15                                1,016,832\n",
       "│    │    └─Dropout: 3-16                               --\n",
       "│    └─ResidualBlock: 2-7                               --\n",
       "│    │    └─Linear: 3-17                                787,200\n",
       "│    │    └─Linear: 3-18                                590,592\n",
       "│    │    └─LayerNorm: 3-19                             1,536\n",
       "│    │    └─Linear: 3-20                                787,200\n",
       "│    │    └─Dropout: 3-21                               --\n",
       "│    └─ResidualBlock: 2-8                               --\n",
       "│    │    └─Linear: 3-22                                196,864\n",
       "│    │    └─Linear: 3-23                                65,792\n",
       "│    │    └─LayerNorm: 3-24                             512\n",
       "│    │    └─Linear: 3-25                                196,864\n",
       "│    │    └─Dropout: 3-26                               --\n",
       "│    └─Linear: 2-9                                      257\n",
       "================================================================================\n",
       "Total params: 62,607,874\n",
       "Trainable params: 18,707,458\n",
       "Non-trainable params: 43,900,416\n",
       "================================================================================"
      ]
     },
     "execution_count": 17,
     "metadata": {},
     "output_type": "execute_result"
    }
   ],
   "source": [
    "model = mc.init_model().cuda().bfloat16()\n",
    "model.freeze_pretrain(trainable=2)\n",
    "summary(model)"
   ]
  },
  {
   "cell_type": "markdown",
   "metadata": {},
   "source": [
    "### Fine-Tune  \n",
    "\n",
    "We provide a simple fine-tuning demonstration here. For practical applications, please refer to [ Compiled Scripts](https://chrombert.readthedocs.io/en/latest/finetune.html).\n"
   ]
  },
  {
   "cell_type": "code",
   "execution_count": 18,
   "metadata": {},
   "outputs": [
    {
     "data": {
      "text/plain": [
       "<chrombert.finetune.dataset.data_module.LitChromBERTFTDataModule at 0x7fedb526e4f0>"
      ]
     },
     "execution_count": 18,
     "metadata": {},
     "output_type": "execute_result"
    }
   ],
   "source": [
    "data_module = chrombert.LitChromBERTFTDataModule(\n",
    "    config = dc.clone(batch_size=8),\n",
    "    train_params = dict(supervised_file = os.path.join(basedir, \"demo\", \"starr\", \"train.csv\")),\n",
    "    val_params = dict(supervised_file = os.path.join(basedir, \"demo\", \"starr\", \"valid.csv\")),\n",
    "    test_params = dict(supervised_file = os.path.join(basedir, \"demo\", \"starr\", \"test.csv\")),\n",
    ")\n",
    "data_module"
   ]
  },
  {
   "cell_type": "code",
   "execution_count": 19,
   "metadata": {},
   "outputs": [
    {
     "name": "stderr",
     "output_type": "stream",
     "text": [
      "/home/yangdongxu/.conda/envs/demo/lib/python3.9/site-packages/torchmetrics/utilities/prints.py:43: UserWarning: Metric `SpearmanCorrcoef` will save all targets and predictions in the buffer. For large datasets, this may lead to large memory footprint.\n",
      "  warnings.warn(*args, **kwargs)  # noqa: B028\n"
     ]
    },
    {
     "data": {
      "text/plain": [
       "chrombert.finetune.train.pl_module.RegressionPLModule"
      ]
     },
     "execution_count": 19,
     "metadata": {},
     "output_type": "execute_result"
    }
   ],
   "source": [
    "# Configure training parameters for demonstration purposes\n",
    "# Note: These parameters are intentionally set for quick tutorial execution and are not optimal for production use\n",
    "# For recommended hyperparameters, please refer to our manuscript\n",
    "# Training time: ~30 minutes on NVIDIA A100 GPU\n",
    "\n",
    "tc = chrombert.finetune.train.TrainConfig(\n",
    "    kind = \"regression\",\n",
    "    loss = \"rmse\",  # RMSE loss is used since this is a regression task\n",
    "    max_epochs = 2,  # Using minimal epochs for demo, increase for real training\n",
    "    lr = 1e-4,      # Learning rate set high for demo, lower for better results\n",
    "    val_check_interval = 0.1,  # Validate every 10% of training\n",
    "    limit_val_batches = 1.0,   # Use full validation set\n",
    "    accumulate_grad_batches = 8,  # Accumulate gradients over 8 batches\n",
    ")\n",
    "\n",
    "# Initialize PyTorch Lightning module with our model\n",
    "pl_module = tc.init_pl_module(model)\n",
    "type(pl_module)"
   ]
  },
  {
   "cell_type": "code",
   "execution_count": 20,
   "metadata": {},
   "outputs": [
    {
     "name": "stderr",
     "output_type": "stream",
     "text": [
      "/home/yangdongxu/.conda/envs/demo/lib/python3.9/site-packages/lightning/fabric/connector.py:571: `precision=bf16` is supported for historical reasons but its usage is discouraged. Please set your precision to bf16-mixed instead!\n",
      "Using bfloat16 Automatic Mixed Precision (AMP)\n",
      "GPU available: True (cuda), used: True\n",
      "TPU available: False, using: 0 TPU cores\n",
      "HPU available: False, using: 0 HPUs\n",
      "`Trainer(limit_val_batches=1.0)` was configured so 100% of the batches will be used..\n",
      "LOCAL_RANK: 0 - CUDA_VISIBLE_DEVICES: [0]\n"
     ]
    },
    {
     "name": "stdout",
     "output_type": "stream",
     "text": [
      "use perturbation_object in supervised_file\n",
      "use perturbation_object in supervised_file\n",
      "use perturbation_object in supervised_file\n"
     ]
    },
    {
     "name": "stderr",
     "output_type": "stream",
     "text": [
      "Loading `train_dataloader` to estimate number of stepping batches.\n",
      "\n",
      "  | Name  | Type             | Params | Mode \n",
      "---------------------------------------------------\n",
      "0 | model | ChromBERTGeneral | 62.6 M | train\n",
      "---------------------------------------------------\n",
      "18.7 M    Trainable params\n",
      "43.9 M    Non-trainable params\n",
      "62.6 M    Total params\n",
      "250.431   Total estimated model params size (MB)\n"
     ]
    },
    {
     "data": {
      "application/vnd.jupyter.widget-view+json": {
       "model_id": "447a62035cc24699b103d2ed33a4c283",
       "version_major": 2,
       "version_minor": 0
      },
      "text/plain": [
       "Sanity Checking: |          | 0/? [00:00<?, ?it/s]"
      ]
     },
     "metadata": {},
     "output_type": "display_data"
    },
    {
     "name": "stderr",
     "output_type": "stream",
     "text": [
      "/home/yangdongxu/.conda/envs/demo/lib/python3.9/site-packages/lightning/pytorch/trainer/connectors/data_connector.py:475: Your `val_dataloader`'s sampler has shuffling enabled, it is strongly recommended that you turn shuffling off for val/test dataloaders.\n"
     ]
    },
    {
     "data": {
      "application/vnd.jupyter.widget-view+json": {
       "model_id": "88ff20dbd9f9464dbed592a51b314431",
       "version_major": 2,
       "version_minor": 0
      },
      "text/plain": [
       "Training: |          | 0/? [00:00<?, ?it/s]"
      ]
     },
     "metadata": {},
     "output_type": "display_data"
    },
    {
     "data": {
      "application/vnd.jupyter.widget-view+json": {
       "model_id": "2e0689c81d3347cf8b746a480f28ba05",
       "version_major": 2,
       "version_minor": 0
      },
      "text/plain": [
       "Validation: |          | 0/? [00:00<?, ?it/s]"
      ]
     },
     "metadata": {},
     "output_type": "display_data"
    },
    {
     "name": "stderr",
     "output_type": "stream",
     "text": [
      "Epoch 0, global step 54: 'default_validation/rmse' reached 0.85927 (best 0.85927), saving model to '/home/yangdongxu/repos/ChromBERT/examples/tutorials/lightning_logs/chrombert-ft/version_1/checkpoints/epoch=0-step=54.ckpt' as top 1\n"
     ]
    },
    {
     "data": {
      "application/vnd.jupyter.widget-view+json": {
       "model_id": "5b730ae8a98a4d369c746f1d1ab42f93",
       "version_major": 2,
       "version_minor": 0
      },
      "text/plain": [
       "Validation: |          | 0/? [00:00<?, ?it/s]"
      ]
     },
     "metadata": {},
     "output_type": "display_data"
    },
    {
     "name": "stderr",
     "output_type": "stream",
     "text": [
      "Epoch 0, global step 108: 'default_validation/rmse' reached 0.85400 (best 0.85400), saving model to '/home/yangdongxu/repos/ChromBERT/examples/tutorials/lightning_logs/chrombert-ft/version_1/checkpoints/epoch=0-step=108.ckpt' as top 1\n"
     ]
    },
    {
     "data": {
      "application/vnd.jupyter.widget-view+json": {
       "model_id": "e73c0a06a1ab47c88240a11511394e65",
       "version_major": 2,
       "version_minor": 0
      },
      "text/plain": [
       "Validation: |          | 0/? [00:00<?, ?it/s]"
      ]
     },
     "metadata": {},
     "output_type": "display_data"
    },
    {
     "name": "stderr",
     "output_type": "stream",
     "text": [
      "Epoch 0, global step 163: 'default_validation/rmse' reached 0.84246 (best 0.84246), saving model to '/home/yangdongxu/repos/ChromBERT/examples/tutorials/lightning_logs/chrombert-ft/version_1/checkpoints/epoch=0-step=163.ckpt' as top 1\n"
     ]
    },
    {
     "data": {
      "application/vnd.jupyter.widget-view+json": {
       "model_id": "8e17c43ccdf3457ea363289cd951e6b7",
       "version_major": 2,
       "version_minor": 0
      },
      "text/plain": [
       "Validation: |          | 0/? [00:00<?, ?it/s]"
      ]
     },
     "metadata": {},
     "output_type": "display_data"
    },
    {
     "name": "stderr",
     "output_type": "stream",
     "text": [
      "Epoch 0, global step 217: 'default_validation/rmse' reached 0.83560 (best 0.83560), saving model to '/home/yangdongxu/repos/ChromBERT/examples/tutorials/lightning_logs/chrombert-ft/version_1/checkpoints/epoch=0-step=217.ckpt' as top 1\n"
     ]
    },
    {
     "data": {
      "application/vnd.jupyter.widget-view+json": {
       "model_id": "c67a11d350a040798c8fa3e56b09516b",
       "version_major": 2,
       "version_minor": 0
      },
      "text/plain": [
       "Validation: |          | 0/? [00:00<?, ?it/s]"
      ]
     },
     "metadata": {},
     "output_type": "display_data"
    },
    {
     "name": "stderr",
     "output_type": "stream",
     "text": [
      "Epoch 0, global step 271: 'default_validation/rmse' reached 0.83365 (best 0.83365), saving model to '/home/yangdongxu/repos/ChromBERT/examples/tutorials/lightning_logs/chrombert-ft/version_1/checkpoints/epoch=0-step=271.ckpt' as top 1\n"
     ]
    },
    {
     "data": {
      "application/vnd.jupyter.widget-view+json": {
       "model_id": "066f4543fe304216a91883c4c98000e0",
       "version_major": 2,
       "version_minor": 0
      },
      "text/plain": [
       "Validation: |          | 0/? [00:00<?, ?it/s]"
      ]
     },
     "metadata": {},
     "output_type": "display_data"
    },
    {
     "name": "stderr",
     "output_type": "stream",
     "text": [
      "Epoch 0, global step 326: 'default_validation/rmse' reached 0.81143 (best 0.81143), saving model to '/home/yangdongxu/repos/ChromBERT/examples/tutorials/lightning_logs/chrombert-ft/version_1/checkpoints/epoch=0-step=326.ckpt' as top 1\n"
     ]
    },
    {
     "data": {
      "application/vnd.jupyter.widget-view+json": {
       "model_id": "796ed36e3c654fa9a86838f3ca961935",
       "version_major": 2,
       "version_minor": 0
      },
      "text/plain": [
       "Validation: |          | 0/? [00:00<?, ?it/s]"
      ]
     },
     "metadata": {},
     "output_type": "display_data"
    },
    {
     "name": "stderr",
     "output_type": "stream",
     "text": [
      "Epoch 0, global step 380: 'default_validation/rmse' reached 0.79347 (best 0.79347), saving model to '/home/yangdongxu/repos/ChromBERT/examples/tutorials/lightning_logs/chrombert-ft/version_1/checkpoints/epoch=0-step=380.ckpt' as top 1\n"
     ]
    },
    {
     "data": {
      "application/vnd.jupyter.widget-view+json": {
       "model_id": "8d473cfe01ed489eac78a106a470bce8",
       "version_major": 2,
       "version_minor": 0
      },
      "text/plain": [
       "Validation: |          | 0/? [00:00<?, ?it/s]"
      ]
     },
     "metadata": {},
     "output_type": "display_data"
    },
    {
     "name": "stderr",
     "output_type": "stream",
     "text": [
      "Epoch 0, global step 435: 'default_validation/rmse' reached 0.79089 (best 0.79089), saving model to '/home/yangdongxu/repos/ChromBERT/examples/tutorials/lightning_logs/chrombert-ft/version_1/checkpoints/epoch=0-step=435.ckpt' as top 1\n"
     ]
    },
    {
     "data": {
      "application/vnd.jupyter.widget-view+json": {
       "model_id": "22f7141efee044f5aedd2f01abbc0380",
       "version_major": 2,
       "version_minor": 0
      },
      "text/plain": [
       "Validation: |          | 0/? [00:00<?, ?it/s]"
      ]
     },
     "metadata": {},
     "output_type": "display_data"
    },
    {
     "name": "stderr",
     "output_type": "stream",
     "text": [
      "Epoch 0, global step 489: 'default_validation/rmse' reached 0.76751 (best 0.76751), saving model to '/home/yangdongxu/repos/ChromBERT/examples/tutorials/lightning_logs/chrombert-ft/version_1/checkpoints/epoch=0-step=489.ckpt' as top 1\n"
     ]
    },
    {
     "data": {
      "application/vnd.jupyter.widget-view+json": {
       "model_id": "1f8990aedc5a464da387990f43693b05",
       "version_major": 2,
       "version_minor": 0
      },
      "text/plain": [
       "Validation: |          | 0/? [00:00<?, ?it/s]"
      ]
     },
     "metadata": {},
     "output_type": "display_data"
    },
    {
     "name": "stderr",
     "output_type": "stream",
     "text": [
      "Epoch 0, global step 543: 'default_validation/rmse' reached 0.76482 (best 0.76482), saving model to '/home/yangdongxu/repos/ChromBERT/examples/tutorials/lightning_logs/chrombert-ft/version_1/checkpoints/epoch=0-step=543.ckpt' as top 1\n"
     ]
    },
    {
     "data": {
      "application/vnd.jupyter.widget-view+json": {
       "model_id": "50cecf1864134eab9f2d14b5594dc1e7",
       "version_major": 2,
       "version_minor": 0
      },
      "text/plain": [
       "Validation: |          | 0/? [00:00<?, ?it/s]"
      ]
     },
     "metadata": {},
     "output_type": "display_data"
    },
    {
     "name": "stderr",
     "output_type": "stream",
     "text": [
      "Epoch 1, global step 599: 'default_validation/rmse' reached 0.76231 (best 0.76231), saving model to '/home/yangdongxu/repos/ChromBERT/examples/tutorials/lightning_logs/chrombert-ft/version_1/checkpoints/epoch=1-step=599.ckpt' as top 1\n"
     ]
    },
    {
     "data": {
      "application/vnd.jupyter.widget-view+json": {
       "model_id": "083c1862cca84c9ba138fea51829f404",
       "version_major": 2,
       "version_minor": 0
      },
      "text/plain": [
       "Validation: |          | 0/? [00:00<?, ?it/s]"
      ]
     },
     "metadata": {},
     "output_type": "display_data"
    },
    {
     "name": "stderr",
     "output_type": "stream",
     "text": [
      "Epoch 1, global step 653: 'default_validation/rmse' reached 0.75945 (best 0.75945), saving model to '/home/yangdongxu/repos/ChromBERT/examples/tutorials/lightning_logs/chrombert-ft/version_1/checkpoints/epoch=1-step=653.ckpt' as top 1\n"
     ]
    },
    {
     "data": {
      "application/vnd.jupyter.widget-view+json": {
       "model_id": "6c6c31032e51439d8352bb2a999bde49",
       "version_major": 2,
       "version_minor": 0
      },
      "text/plain": [
       "Validation: |          | 0/? [00:00<?, ?it/s]"
      ]
     },
     "metadata": {},
     "output_type": "display_data"
    },
    {
     "name": "stderr",
     "output_type": "stream",
     "text": [
      "Epoch 1, global step 708: 'default_validation/rmse' reached 0.75286 (best 0.75286), saving model to '/home/yangdongxu/repos/ChromBERT/examples/tutorials/lightning_logs/chrombert-ft/version_1/checkpoints/epoch=1-step=708.ckpt' as top 1\n"
     ]
    },
    {
     "data": {
      "application/vnd.jupyter.widget-view+json": {
       "model_id": "1ca9a952a59d499fb834cd812582e59c",
       "version_major": 2,
       "version_minor": 0
      },
      "text/plain": [
       "Validation: |          | 0/? [00:00<?, ?it/s]"
      ]
     },
     "metadata": {},
     "output_type": "display_data"
    },
    {
     "name": "stderr",
     "output_type": "stream",
     "text": [
      "Epoch 1, global step 762: 'default_validation/rmse' was not in top 1\n"
     ]
    },
    {
     "data": {
      "application/vnd.jupyter.widget-view+json": {
       "model_id": "b3ea287b0232479d8c685fdb479618d1",
       "version_major": 2,
       "version_minor": 0
      },
      "text/plain": [
       "Validation: |          | 0/? [00:00<?, ?it/s]"
      ]
     },
     "metadata": {},
     "output_type": "display_data"
    },
    {
     "name": "stderr",
     "output_type": "stream",
     "text": [
      "Epoch 1, global step 816: 'default_validation/rmse' reached 0.75034 (best 0.75034), saving model to '/home/yangdongxu/repos/ChromBERT/examples/tutorials/lightning_logs/chrombert-ft/version_1/checkpoints/epoch=1-step=816.ckpt' as top 1\n"
     ]
    },
    {
     "data": {
      "application/vnd.jupyter.widget-view+json": {
       "model_id": "3e81a4cb1be741d79b592089a41ba8ed",
       "version_major": 2,
       "version_minor": 0
      },
      "text/plain": [
       "Validation: |          | 0/? [00:00<?, ?it/s]"
      ]
     },
     "metadata": {},
     "output_type": "display_data"
    },
    {
     "name": "stderr",
     "output_type": "stream",
     "text": [
      "Epoch 1, global step 871: 'default_validation/rmse' was not in top 1\n"
     ]
    },
    {
     "data": {
      "application/vnd.jupyter.widget-view+json": {
       "model_id": "5fe04182b66342a081aa54001202f6d1",
       "version_major": 2,
       "version_minor": 0
      },
      "text/plain": [
       "Validation: |          | 0/? [00:00<?, ?it/s]"
      ]
     },
     "metadata": {},
     "output_type": "display_data"
    },
    {
     "name": "stderr",
     "output_type": "stream",
     "text": [
      "Epoch 1, global step 925: 'default_validation/rmse' reached 0.74910 (best 0.74910), saving model to '/home/yangdongxu/repos/ChromBERT/examples/tutorials/lightning_logs/chrombert-ft/version_1/checkpoints/epoch=1-step=925.ckpt' as top 1\n"
     ]
    },
    {
     "data": {
      "application/vnd.jupyter.widget-view+json": {
       "model_id": "9f52e0ed32d549e9bb32f756add03053",
       "version_major": 2,
       "version_minor": 0
      },
      "text/plain": [
       "Validation: |          | 0/? [00:00<?, ?it/s]"
      ]
     },
     "metadata": {},
     "output_type": "display_data"
    },
    {
     "name": "stderr",
     "output_type": "stream",
     "text": [
      "Epoch 1, global step 980: 'default_validation/rmse' reached 0.74903 (best 0.74903), saving model to '/home/yangdongxu/repos/ChromBERT/examples/tutorials/lightning_logs/chrombert-ft/version_1/checkpoints/epoch=1-step=980.ckpt' as top 1\n"
     ]
    },
    {
     "data": {
      "application/vnd.jupyter.widget-view+json": {
       "model_id": "3b58dd0621a34c92ae50d5ecb6df4d30",
       "version_major": 2,
       "version_minor": 0
      },
      "text/plain": [
       "Validation: |          | 0/? [00:00<?, ?it/s]"
      ]
     },
     "metadata": {},
     "output_type": "display_data"
    },
    {
     "name": "stderr",
     "output_type": "stream",
     "text": [
      "Epoch 1, global step 1034: 'default_validation/rmse' was not in top 1\n"
     ]
    },
    {
     "data": {
      "application/vnd.jupyter.widget-view+json": {
       "model_id": "52fe269423414975ac4213c481784c17",
       "version_major": 2,
       "version_minor": 0
      },
      "text/plain": [
       "Validation: |          | 0/? [00:00<?, ?it/s]"
      ]
     },
     "metadata": {},
     "output_type": "display_data"
    },
    {
     "name": "stderr",
     "output_type": "stream",
     "text": [
      "Epoch 1, global step 1088: 'default_validation/rmse' was not in top 1\n",
      "`Trainer.fit` stopped: `max_epochs=2` reached.\n"
     ]
    }
   ],
   "source": [
    "trainer = tc.init_trainer(precision = \"bf16\")\n",
    "trainer.fit(pl_module, data_module)"
   ]
  },
  {
   "cell_type": "markdown",
   "metadata": {},
   "source": [
    "Checkpoints will be saved in the `lightning_logs` directory automatically, and the last checkpoint can be saved as follows:"
   ]
  },
  {
   "cell_type": "code",
   "execution_count": 21,
   "metadata": {},
   "outputs": [],
   "source": [
    "if not os.path.exists(\"tmp_starr\"):\n",
    "    os.makedirs(\"tmp_starr\")\n",
    "pl_module.save_ckpt(os.path.join(\"tmp_starr\", \"starr.ckpt\"))"
   ]
  },
  {
   "cell_type": "markdown",
   "metadata": {},
   "source": [
    "## Load fine-tuned model"
   ]
  },
  {
   "cell_type": "markdown",
   "metadata": {},
   "source": [
    "### Load model"
   ]
  },
  {
   "cell_type": "code",
   "execution_count": 22,
   "metadata": {},
   "outputs": [],
   "source": [
    "# we load the model from the last checkpoint file because of insufficient training. \n",
    "# However, it's recommend to check other checkpoints to avoid over-fitting.\n",
    "ckpt = os.path.join(\"tmp_starr\", \"starr.ckpt\")"
   ]
  },
  {
   "cell_type": "code",
   "execution_count": 23,
   "metadata": {},
   "outputs": [
    {
     "name": "stdout",
     "output_type": "stream",
     "text": [
      "update path: mtx_mask = config/hg38_6k_mask_matrix.tsv\n",
      "update path: pretrain_ckpt = checkpoint/hg38_6k_1kb_pretrain.ckpt\n",
      "update path: finetune_ckpt = /home/yangdongxu/repos/ChromBERT/examples/tutorials/tmp_starr/starr.ckpt\n",
      "use organisim hg38; max sequence length including cls is 6392\n"
     ]
    },
    {
     "name": "stderr",
     "output_type": "stream",
     "text": [
      "/home/yangdongxu/.conda/envs/demo/lib/python3.9/site-packages/chrombert/base/model.py:55: FutureWarning: You are using `torch.load` with `weights_only=False` (the current default value), which uses the default pickle module implicitly. It is possible to construct malicious pickle data which will execute arbitrary code during unpickling (See https://github.com/pytorch/pytorch/blob/main/SECURITY.md#untrusted-models for more details). In a future release, the default value for `weights_only` will be flipped to `True`. This limits the functions that could be executed during unpickling. Arbitrary objects will no longer be allowed to be loaded via this mode unless they are explicitly allowlisted by the user via `torch.serialization.add_safe_globals`. We recommend you start setting `weights_only=True` for any use case where you don't have full control of the loaded file. Please open an issue on GitHub for any issues related to this experimental feature.\n",
      "  ck = torch.load(ckpt_path, map_location=torch.device('cpu'))\n"
     ]
    },
    {
     "name": "stdout",
     "output_type": "stream",
     "text": [
      "Ignoring 3044 cistromes and 72 regulators\n",
      "Loading checkpoint from /home/yangdongxu/repos/ChromBERT/examples/tutorials/tmp_starr/starr.ckpt\n",
      "Loaded 110/110 parameters\n"
     ]
    },
    {
     "name": "stderr",
     "output_type": "stream",
     "text": [
      "/home/yangdongxu/.conda/envs/demo/lib/python3.9/site-packages/chrombert/finetune/model/basic_model.py:46: FutureWarning: You are using `torch.load` with `weights_only=False` (the current default value), which uses the default pickle module implicitly. It is possible to construct malicious pickle data which will execute arbitrary code during unpickling (See https://github.com/pytorch/pytorch/blob/main/SECURITY.md#untrusted-models for more details). In a future release, the default value for `weights_only` will be flipped to `True`. This limits the functions that could be executed during unpickling. Arbitrary objects will no longer be allowed to be loaded via this mode unless they are explicitly allowlisted by the user via `torch.serialization.add_safe_globals`. We recommend you start setting `weights_only=True` for any use case where you don't have full control of the loaded file. Please open an issue on GitHub for any issues related to this experimental feature.\n",
      "  new_state = torch.load(ckpt)\n"
     ]
    },
    {
     "data": {
      "text/plain": [
       "================================================================================\n",
       "Layer (type:depth-idx)                                  Param #\n",
       "================================================================================\n",
       "ChromBERTGeneral                                        --\n",
       "├─ChromBERT: 1-1                                        --\n",
       "│    └─BERTEmbedding: 2-1                               --\n",
       "│    │    └─TokenEmbedding: 3-1                         7,680\n",
       "│    │    └─PositionalEmbedding: 3-2                    4,909,056\n",
       "│    │    └─Dropout: 3-3                                --\n",
       "│    └─ModuleList: 2-2                                  --\n",
       "│    │    └─EncoderTransformerBlock: 3-4                6,497,280\n",
       "│    │    └─EncoderTransformerBlock: 3-5                6,497,280\n",
       "│    │    └─EncoderTransformerBlock: 3-6                6,497,280\n",
       "│    │    └─EncoderTransformerBlock: 3-7                6,497,280\n",
       "│    │    └─EncoderTransformerBlock: 3-8                6,497,280\n",
       "│    │    └─EncoderTransformerBlock: 3-9                6,497,280\n",
       "│    │    └─EncoderTransformerBlock: 3-10               6,497,280\n",
       "│    │    └─EncoderTransformerBlock: 3-11               6,497,280\n",
       "├─GeneralHeader: 1-2                                    --\n",
       "│    └─CistromeEmbeddingManager: 2-3                    --\n",
       "│    └─Conv2d: 2-4                                      769\n",
       "│    └─ReLU: 2-5                                        --\n",
       "│    └─ResidualBlock: 2-6                               --\n",
       "│    │    └─Linear: 3-12                                1,016,832\n",
       "│    │    └─Linear: 3-13                                1,049,600\n",
       "│    │    └─LayerNorm: 3-14                             2,048\n",
       "│    │    └─Linear: 3-15                                1,016,832\n",
       "│    │    └─Dropout: 3-16                               --\n",
       "│    └─ResidualBlock: 2-7                               --\n",
       "│    │    └─Linear: 3-17                                787,200\n",
       "│    │    └─Linear: 3-18                                590,592\n",
       "│    │    └─LayerNorm: 3-19                             1,536\n",
       "│    │    └─Linear: 3-20                                787,200\n",
       "│    │    └─Dropout: 3-21                               --\n",
       "│    └─ResidualBlock: 2-8                               --\n",
       "│    │    └─Linear: 3-22                                196,864\n",
       "│    │    └─Linear: 3-23                                65,792\n",
       "│    │    └─LayerNorm: 3-24                             512\n",
       "│    │    └─Linear: 3-25                                196,864\n",
       "│    │    └─Dropout: 3-26                               --\n",
       "│    └─Linear: 2-9                                      257\n",
       "================================================================================\n",
       "Total params: 62,607,874\n",
       "Trainable params: 62,607,874\n",
       "Non-trainable params: 0\n",
       "================================================================================"
      ]
     },
     "execution_count": 23,
     "metadata": {},
     "output_type": "execute_result"
    }
   ],
   "source": [
    "# Load the model from the checkpoint file\n",
    "model = chrombert.get_preset_model_config(\n",
    "    \"general\", ignore = True, ignore_index = ignore_index,\n",
    "    dropout = 0, \n",
    "    finetune_ckpt = os.path.abspath(ckpt)\n",
    ").init_model().cuda().bfloat16().eval()\n",
    "summary(model)"
   ]
  },
  {
   "cell_type": "markdown",
   "metadata": {},
   "source": [
    "### Load dataset"
   ]
  },
  {
   "cell_type": "markdown",
   "metadata": {},
   "source": [
    "In this tutorial, we use the following dataset to evaluate the model's performance. The dataset has been transformed and reshaped for convenience.  \n",
    "\n",
    "The `wt` column represents the wild-type STARR-seq data, while the `ep300` column contains the STARR-seq signal from EP300/CREBBP knockdown cells.\n"
   ]
  },
  {
   "cell_type": "code",
   "execution_count": 24,
   "metadata": {},
   "outputs": [
    {
     "name": "stdout",
     "output_type": "stream",
     "text": [
      "chrom,start,end,build_region_index,wt,ep300,diff,kind\n",
      "chr6,13307232,13308232,1627400,0.9889573548313711,1.38310498787305,0.39414763304167877,nochange\n",
      "chr1,231663746,231664746,169607,2.4807076319328907,1.9394034879228463,-0.5413041440100443,other\n",
      "chr10,1155940,1156940,184962,1.3925053029992234,0.8553238049917151,-0.5371814980075083,other\n",
      "chrX,113511225,113512225,2114528,0.9910568962803128,1.1759059510981291,0.18484905481781633,nochange\n",
      "chr1,103345556,103346556,84878,0.8908197542965414,0.0901858722270683,-0.8006338820694731,other\n",
      "chr5,92694706,92695706,1548713,2.934648243515996,1.2105942864339372,-1.7240539570820588,decrease\n",
      "chr10,115111759,115112759,270229,1.5381286882444107,1.390405495436994,-0.14772319280741675,nochange\n",
      "chr4,5665727,5666727,1358762,1.335261459502083,1.7218760458360476,0.3866145863339645,nochange\n",
      "chr3,77623151,77624151,1265465,2.313793644637294,2.2775156832307086,-0.03627796140658557,nochange\n"
     ]
    }
   ],
   "source": [
    "supervised_file = os.path.join(basedir, \"demo\", \"starr\", \"supervised.csv\")\n",
    "!head $supervised_file"
   ]
  },
  {
   "cell_type": "code",
   "execution_count": 25,
   "metadata": {},
   "outputs": [
    {
     "data": {
      "text/html": [
       "<div>\n",
       "<style scoped>\n",
       "    .dataframe tbody tr th:only-of-type {\n",
       "        vertical-align: middle;\n",
       "    }\n",
       "\n",
       "    .dataframe tbody tr th {\n",
       "        vertical-align: top;\n",
       "    }\n",
       "\n",
       "    .dataframe thead th {\n",
       "        text-align: right;\n",
       "    }\n",
       "</style>\n",
       "<table border=\"1\" class=\"dataframe\">\n",
       "  <thead>\n",
       "    <tr style=\"text-align: right;\">\n",
       "      <th></th>\n",
       "      <th>chrom</th>\n",
       "      <th>start</th>\n",
       "      <th>end</th>\n",
       "      <th>build_region_index</th>\n",
       "      <th>wt</th>\n",
       "      <th>ep300</th>\n",
       "      <th>diff</th>\n",
       "      <th>kind</th>\n",
       "    </tr>\n",
       "  </thead>\n",
       "  <tbody>\n",
       "    <tr>\n",
       "      <th>0</th>\n",
       "      <td>chr6</td>\n",
       "      <td>13307232</td>\n",
       "      <td>13308232</td>\n",
       "      <td>1627400</td>\n",
       "      <td>0.988957</td>\n",
       "      <td>1.383105</td>\n",
       "      <td>0.394148</td>\n",
       "      <td>nochange</td>\n",
       "    </tr>\n",
       "    <tr>\n",
       "      <th>1</th>\n",
       "      <td>chr1</td>\n",
       "      <td>231663746</td>\n",
       "      <td>231664746</td>\n",
       "      <td>169607</td>\n",
       "      <td>2.480708</td>\n",
       "      <td>1.939403</td>\n",
       "      <td>-0.541304</td>\n",
       "      <td>other</td>\n",
       "    </tr>\n",
       "    <tr>\n",
       "      <th>2</th>\n",
       "      <td>chr10</td>\n",
       "      <td>1155940</td>\n",
       "      <td>1156940</td>\n",
       "      <td>184962</td>\n",
       "      <td>1.392505</td>\n",
       "      <td>0.855324</td>\n",
       "      <td>-0.537181</td>\n",
       "      <td>other</td>\n",
       "    </tr>\n",
       "    <tr>\n",
       "      <th>3</th>\n",
       "      <td>chrX</td>\n",
       "      <td>113511225</td>\n",
       "      <td>113512225</td>\n",
       "      <td>2114528</td>\n",
       "      <td>0.991057</td>\n",
       "      <td>1.175906</td>\n",
       "      <td>0.184849</td>\n",
       "      <td>nochange</td>\n",
       "    </tr>\n",
       "    <tr>\n",
       "      <th>4</th>\n",
       "      <td>chr1</td>\n",
       "      <td>103345556</td>\n",
       "      <td>103346556</td>\n",
       "      <td>84878</td>\n",
       "      <td>0.890820</td>\n",
       "      <td>0.090186</td>\n",
       "      <td>-0.800634</td>\n",
       "      <td>other</td>\n",
       "    </tr>\n",
       "    <tr>\n",
       "      <th>...</th>\n",
       "      <td>...</td>\n",
       "      <td>...</td>\n",
       "      <td>...</td>\n",
       "      <td>...</td>\n",
       "      <td>...</td>\n",
       "      <td>...</td>\n",
       "      <td>...</td>\n",
       "      <td>...</td>\n",
       "    </tr>\n",
       "    <tr>\n",
       "      <th>716</th>\n",
       "      <td>chr4</td>\n",
       "      <td>189862154</td>\n",
       "      <td>189863154</td>\n",
       "      <td>1481367</td>\n",
       "      <td>1.957393</td>\n",
       "      <td>0.597990</td>\n",
       "      <td>-1.359403</td>\n",
       "      <td>decrease</td>\n",
       "    </tr>\n",
       "    <tr>\n",
       "      <th>717</th>\n",
       "      <td>chr2</td>\n",
       "      <td>194444725</td>\n",
       "      <td>194445725</td>\n",
       "      <td>1059645</td>\n",
       "      <td>0.412500</td>\n",
       "      <td>0.639412</td>\n",
       "      <td>0.226912</td>\n",
       "      <td>nochange</td>\n",
       "    </tr>\n",
       "    <tr>\n",
       "      <th>718</th>\n",
       "      <td>chr10</td>\n",
       "      <td>3509192</td>\n",
       "      <td>3510192</td>\n",
       "      <td>186897</td>\n",
       "      <td>1.316483</td>\n",
       "      <td>0.583072</td>\n",
       "      <td>-0.733411</td>\n",
       "      <td>other</td>\n",
       "    </tr>\n",
       "    <tr>\n",
       "      <th>719</th>\n",
       "      <td>chr5</td>\n",
       "      <td>173391003</td>\n",
       "      <td>173392003</td>\n",
       "      <td>1609640</td>\n",
       "      <td>1.145941</td>\n",
       "      <td>0.897721</td>\n",
       "      <td>-0.248220</td>\n",
       "      <td>nochange</td>\n",
       "    </tr>\n",
       "    <tr>\n",
       "      <th>720</th>\n",
       "      <td>chr5</td>\n",
       "      <td>78641823</td>\n",
       "      <td>78642823</td>\n",
       "      <td>1538612</td>\n",
       "      <td>3.260180</td>\n",
       "      <td>1.707335</td>\n",
       "      <td>-1.552845</td>\n",
       "      <td>decrease</td>\n",
       "    </tr>\n",
       "  </tbody>\n",
       "</table>\n",
       "<p>721 rows × 8 columns</p>\n",
       "</div>"
      ],
      "text/plain": [
       "     chrom      start        end  build_region_index        wt     ep300  \\\n",
       "0     chr6   13307232   13308232             1627400  0.988957  1.383105   \n",
       "1     chr1  231663746  231664746              169607  2.480708  1.939403   \n",
       "2    chr10    1155940    1156940              184962  1.392505  0.855324   \n",
       "3     chrX  113511225  113512225             2114528  0.991057  1.175906   \n",
       "4     chr1  103345556  103346556               84878  0.890820  0.090186   \n",
       "..     ...        ...        ...                 ...       ...       ...   \n",
       "716   chr4  189862154  189863154             1481367  1.957393  0.597990   \n",
       "717   chr2  194444725  194445725             1059645  0.412500  0.639412   \n",
       "718  chr10    3509192    3510192              186897  1.316483  0.583072   \n",
       "719   chr5  173391003  173392003             1609640  1.145941  0.897721   \n",
       "720   chr5   78641823   78642823             1538612  3.260180  1.707335   \n",
       "\n",
       "         diff      kind  \n",
       "0    0.394148  nochange  \n",
       "1   -0.541304     other  \n",
       "2   -0.537181     other  \n",
       "3    0.184849  nochange  \n",
       "4   -0.800634     other  \n",
       "..        ...       ...  \n",
       "716 -1.359403  decrease  \n",
       "717  0.226912  nochange  \n",
       "718 -0.733411     other  \n",
       "719 -0.248220  nochange  \n",
       "720 -1.552845  decrease  \n",
       "\n",
       "[721 rows x 8 columns]"
      ]
     },
     "execution_count": 25,
     "metadata": {},
     "output_type": "execute_result"
    }
   ],
   "source": [
    "df_supervised = pd.read_csv(supervised_file)\n",
    "df_supervised"
   ]
  },
  {
   "cell_type": "code",
   "execution_count": 26,
   "metadata": {},
   "outputs": [
    {
     "name": "stdout",
     "output_type": "stream",
     "text": [
      "update path: hdf5_file = hg38_6k_1kb.hdf5\n",
      "update path: meta_file = config/hg38_6k_meta.json\n",
      "{\n",
      "    \"hdf5_file\": \"/home/yangdongxu/.cache/chrombert/data/hg38_6k_1kb.hdf5\",\n",
      "    \"supervised_file\": \"/home/yangdongxu/.cache/chrombert/data/demo/starr/supervised.csv\",\n",
      "    \"kind\": \"GeneralDataset\",\n",
      "    \"meta_file\": \"/home/yangdongxu/.cache/chrombert/data/config/hg38_6k_meta.json\",\n",
      "    \"ignore\": true,\n",
      "    \"ignore_object\": \"DNase;ATAC-seq;H3K4me1;H3K27me3;H3K9me3;H3K23me2;H4K20me1;H4K5ac;H2BK5ac;H2BK12ac;H3K18ac;H3K4me2;H3K79me2;H4K91ac;H3K9ac;H3K9K14ac;H3.3,H2A.Z;H3K4me3;H3K36me3;H2BK120ac;H2AK9ac;H3K14ac;H2BK15ac;H3K23ac;H2BK20ac;H3K4ac;H3K56ac;H3K79me1;H4K8ac;H3K27ac;H3K9me1;H4K16ac;Histone Lysine Acetylation;Histone Lysine Crotonylation;H3K36me2;H3T;H3ac;H2AK119ub;H2A;H4K5ac, H4K8ac, H4K12ac, H4K16ac;H3K122ac;H2AZK4ac, H2AZK7ac, H2AZK11ac;H2AX;H3.3;H2A.Bbd;H2AZac;H4K20me3;H4K12ac;H2AK5ac;H4ac;H3;CENPA;H1.2;H2Bub;H2AFY;H3R26Cit;H3K79me3;H4;H3K27me1;H3K9me2;H2AZ;H3F3A;H1.4;H1.0;H2AFY2;H3K36ac;H3K36me1;H2BK120ub;H3K18cr;H2AZ;H2AFX;H3F3B;faire\",\n",
      "    \"batch_size\": 4,\n",
      "    \"num_workers\": 20,\n",
      "    \"shuffle\": false,\n",
      "    \"perturbation\": false,\n",
      "    \"perturbation_object\": \"none\",\n",
      "    \"perturbation_value\": 0,\n",
      "    \"prompt_kind\": null,\n",
      "    \"prompt_regulator\": null,\n",
      "    \"prompt_regulator_cache_file\": null,\n",
      "    \"prompt_celltype\": null,\n",
      "    \"prompt_celltype_cache_file\": null,\n",
      "    \"fasta_file\": null,\n",
      "    \"flank_window\": 0\n",
      "}\n",
      "{\n",
      "    \"hdf5_file\": \"/home/yangdongxu/.cache/chrombert/data/hg38_6k_1kb.hdf5\",\n",
      "    \"supervised_file\": \"/home/yangdongxu/.cache/chrombert/data/demo/starr/supervised.csv\",\n",
      "    \"kind\": \"GeneralDataset\",\n",
      "    \"meta_file\": \"/home/yangdongxu/.cache/chrombert/data/config/hg38_6k_meta.json\",\n",
      "    \"ignore\": true,\n",
      "    \"ignore_object\": \"DNase;ATAC-seq;H3K4me1;H3K27me3;H3K9me3;H3K23me2;H4K20me1;H4K5ac;H2BK5ac;H2BK12ac;H3K18ac;H3K4me2;H3K79me2;H4K91ac;H3K9ac;H3K9K14ac;H3.3,H2A.Z;H3K4me3;H3K36me3;H2BK120ac;H2AK9ac;H3K14ac;H2BK15ac;H3K23ac;H2BK20ac;H3K4ac;H3K56ac;H3K79me1;H4K8ac;H3K27ac;H3K9me1;H4K16ac;Histone Lysine Acetylation;Histone Lysine Crotonylation;H3K36me2;H3T;H3ac;H2AK119ub;H2A;H4K5ac, H4K8ac, H4K12ac, H4K16ac;H3K122ac;H2AZK4ac, H2AZK7ac, H2AZK11ac;H2AX;H3.3;H2A.Bbd;H2AZac;H4K20me3;H4K12ac;H2AK5ac;H4ac;H3;CENPA;H1.2;H2Bub;H2AFY;H3R26Cit;H3K79me3;H4;H3K27me1;H3K9me2;H2AZ;H3F3A;H1.4;H1.0;H2AFY2;H3K36ac;H3K36me1;H2BK120ub;H3K18cr;H2AZ;H2AFX;H3F3B;faire\",\n",
      "    \"batch_size\": 4,\n",
      "    \"num_workers\": 20,\n",
      "    \"shuffle\": false,\n",
      "    \"perturbation\": true,\n",
      "    \"perturbation_object\": \"crebbp;ep300\",\n",
      "    \"perturbation_value\": 0,\n",
      "    \"prompt_kind\": null,\n",
      "    \"prompt_regulator\": null,\n",
      "    \"prompt_regulator_cache_file\": null,\n",
      "    \"prompt_celltype\": null,\n",
      "    \"prompt_celltype_cache_file\": null,\n",
      "    \"fasta_file\": null,\n",
      "    \"flank_window\": 0\n",
      "}\n"
     ]
    },
    {
     "data": {
      "text/plain": [
       "(None, None)"
      ]
     },
     "execution_count": 26,
     "metadata": {},
     "output_type": "execute_result"
    }
   ],
   "source": [
    "# We configure the dataset for wild-type and perturbed states.\n",
    "# For the wild-type dataset, we set perturbation to False and perturbation_object to \"none\".\n",
    "dc_wt = chrombert.get_preset_dataset_config(\n",
    "    \"general\", \n",
    "    ignore = True, \n",
    "    ignore_object = ignores,\n",
    "    perturbation = False, # for the wild-type dataset, we set perturbation to False\n",
    "    perturbation_object = \"none\", # we set it to \"none\" to make sure the perturbation is not applied\n",
    "    perturbation_value = 0, \n",
    "    supervised_file = supervised_file,\n",
    "    shuffle = False,\n",
    "    batch_size = 4\n",
    ")\n",
    "# For the perturbed dataset, we set perturbation to True and perturbation_object to \"crebbp;ep300\" to apply the perturbation.\n",
    "dc_ep300 = dc_wt.clone(perturbation=True,perturbation_object = \"crebbp;ep300\") \n",
    "print(dc_wt), print(dc_ep300)"
   ]
  },
  {
   "cell_type": "code",
   "execution_count": 27,
   "metadata": {},
   "outputs": [
    {
     "name": "stdout",
     "output_type": "stream",
     "text": [
      "Your supervised_file does not contain the 'label' column. Please verify whether ground truth column ('label') is required. If it is not needed, you may disregard this message.\n",
      "Your supervised_file does not contain the 'label' column. Please verify whether ground truth column ('label') is required. If it is not needed, you may disregard this message.\n",
      "use perturbation_object in dataset config which high priority than supervised_file\n"
     ]
    },
    {
     "data": {
      "text/plain": [
       "({'input_ids': tensor([9, 9, 9,  ..., 6, 6, 9], dtype=torch.int8),\n",
       "  'position_ids': tensor([2997, 2999, 3000,  ..., 6389, 6390, 6391]),\n",
       "  'region': tensor([        1, 231528000, 231529000], dtype=torch.int32),\n",
       "  'build_region_index': np.int64(169607),\n",
       "  'ignore_index': (array([1146, 2432,  380, ..., 1373, 1392, 2944]),\n",
       "   array([ 25, 100, 146, 207, 271, 272, 273, 274, 275, 276, 277, 278, 279,\n",
       "          280, 281, 282, 283, 285, 284, 286, 287, 288, 289, 290, 291, 292,\n",
       "          293, 294, 295, 326, 296, 297, 298, 299, 300, 301, 302, 303, 304,\n",
       "          305, 306, 307, 308, 309, 310, 311, 312, 313, 314, 315, 316, 317,\n",
       "          318, 320, 319, 321, 322, 323, 324, 325, 327, 336, 328, 329, 330,\n",
       "          331, 332, 333, 334, 335, 384, 385]))},\n",
       " {'input_ids': tensor([9, 9, 9,  ..., 6, 6, 9], dtype=torch.int8),\n",
       "  'position_ids': tensor([2997, 2999, 3000,  ..., 6389, 6390, 6391]),\n",
       "  'region': tensor([        1, 231528000, 231529000], dtype=torch.int32),\n",
       "  'build_region_index': np.int64(169607),\n",
       "  'ignore_index': (array([1146, 2432,  380, ..., 1373, 1392, 2944]),\n",
       "   array([ 25, 100, 146, 207, 271, 272, 273, 274, 275, 276, 277, 278, 279,\n",
       "          280, 281, 282, 283, 285, 284, 286, 287, 288, 289, 290, 291, 292,\n",
       "          293, 294, 295, 326, 296, 297, 298, 299, 300, 301, 302, 303, 304,\n",
       "          305, 306, 307, 308, 309, 310, 311, 312, 313, 314, 315, 316, 317,\n",
       "          318, 320, 319, 321, 322, 323, 324, 325, 327, 336, 328, 329, 330,\n",
       "          331, 332, 333, 334, 335, 384, 385]))})"
      ]
     },
     "execution_count": 27,
     "metadata": {},
     "output_type": "execute_result"
    }
   ],
   "source": [
    "# Initialize the datasets\n",
    "ds_wt = dc_wt.init_dataset()\n",
    "ds_ep300 = dc_ep300.init_dataset()\n",
    "# Display the first sample from each dataset\n",
    "ds_wt[1], ds_ep300[1]"
   ]
  },
  {
   "cell_type": "code",
   "execution_count": 28,
   "metadata": {},
   "outputs": [
    {
     "data": {
      "text/plain": [
       "(array([   0,    0,    0,    0,    0,  113,  859,  221,  353, 1801]),\n",
       " array([   0,    0,    0,    0,    0,   63,  868,  225,  362, 1829]))"
      ]
     },
     "execution_count": 28,
     "metadata": {},
     "output_type": "execute_result"
    }
   ],
   "source": [
    "# some input signal levels are perturbed\n",
    "np.bincount(ds_ep300[1][\"input_ids\"].numpy()), np.bincount(ds_wt[1][\"input_ids\"].numpy())"
   ]
  },
  {
   "cell_type": "markdown",
   "metadata": {},
   "source": [
    "## Forward: get predictions"
   ]
  },
  {
   "cell_type": "code",
   "execution_count": 29,
   "metadata": {},
   "outputs": [
    {
     "name": "stdout",
     "output_type": "stream",
     "text": [
      "Your supervised_file does not contain the 'label' column. Please verify whether ground truth column ('label') is required. If it is not needed, you may disregard this message.\n",
      "Your supervised_file does not contain the 'label' column. Please verify whether ground truth column ('label') is required. If it is not needed, you may disregard this message.\n",
      "use perturbation_object in dataset config which high priority than supervised_file\n"
     ]
    },
    {
     "name": "stderr",
     "output_type": "stream",
     "text": [
      "181it [00:13, 13.28it/s]\n"
     ]
    }
   ],
   "source": [
    "list_wt = []\n",
    "list_ep300 = []\n",
    "for (batch_wt, batch_ep300) in tqdm(zip(dc_wt.init_dataloader(), dc_ep300.init_dataloader())):\n",
    "    for k,v in batch_wt.items():\n",
    "        if isinstance(v, torch.Tensor):\n",
    "            batch_wt[k] = v.cuda()\n",
    "            batch_ep300[k] = batch_ep300[k].cuda()\n",
    "    \n",
    "    with torch.no_grad():\n",
    "        logit_wt = model(batch_wt).float().cpu().numpy() # get the predictions of wild-type\n",
    "        logit_ep300 = model(batch_ep300).float().cpu().numpy() # get the predictions of EP300 perturbation\n",
    "    list_wt.append(logit_wt)\n",
    "    list_ep300.append(logit_ep300)\n",
    "\n",
    "logits_wt = np.concatenate(list_wt, axis=0).reshape(-1)\n",
    "logits_ep300 = np.concatenate(list_ep300, axis=0).reshape(-1)"
   ]
  },
  {
   "cell_type": "code",
   "execution_count": 30,
   "metadata": {},
   "outputs": [
    {
     "data": {
      "text/plain": [
       "((721,), (721,))"
      ]
     },
     "execution_count": 30,
     "metadata": {},
     "output_type": "execute_result"
    }
   ],
   "source": [
    "logits_wt.shape, logits_ep300.shape"
   ]
  },
  {
   "cell_type": "code",
   "execution_count": 31,
   "metadata": {},
   "outputs": [
    {
     "data": {
      "image/png": "[encoded data removed]",
      "text/plain": [
       "<Figure size 1500x500 with 3 Axes>"
      ]
     },
     "metadata": {},
     "output_type": "display_data"
    }
   ],
   "source": [
    "# We show the performance here. \n",
    "# Note: the performance is not good enough because the model is not well-trained.\n",
    "fig, axs = plt.subplots(1,3,figsize=(15,5))\n",
    "signal_wt = df_supervised[\"wt\"].values\n",
    "signal_ep300 = df_supervised[\"ep300\"].values\n",
    "\n",
    "ax = axs[0]\n",
    "ax.scatter(signal_wt, logits_wt, s=1)\n",
    "ax.set_xlabel(\"True Signal Level\")\n",
    "ax.set_ylabel(\"Predicted Signal Level\")\n",
    "ax.set_title(\"Wild-type\")\n",
    "pcc = scipy.stats.pearsonr(signal_wt, logits_wt)[0]\n",
    "ax.text(0.1, 0.9, f\"PCC: {pcc:.2f}\", transform=ax.transAxes)\n",
    "\n",
    "ax = axs[1]\n",
    "ax.scatter(signal_ep300, logits_ep300, s=1)\n",
    "ax.set_xlabel(\"True Signal Level\")\n",
    "ax.set_ylabel(\"Predicted Signal Level\")\n",
    "ax.set_title(\"EP300 Perturbation\")\n",
    "pcc = scipy.stats.pearsonr(signal_ep300, logits_ep300)[0]\n",
    "ax.text(0.1, 0.9, f\"PCC: {pcc:.2f}\", transform=ax.transAxes)\n",
    "\n",
    "\n",
    "ax = axs[2]\n",
    "logit_diff = logits_ep300 - logits_wt\n",
    "signal_diff = signal_ep300 - signal_wt\n",
    "ax.scatter(signal_diff, logit_diff, s=1)\n",
    "ax.set_xlabel(\"True Signal Level Ratio\")\n",
    "ax.set_ylabel(\"Predicted Signal Level Ratio\")\n",
    "ax.set_title(\"EP300 / Wild-type\")\n",
    "pcc = scipy.stats.pearsonr(signal_diff, logit_diff)[0]\n",
    "ax.text(0.1, 0.9, f\"PCC: {pcc:.2f}\", transform=ax.transAxes)\n",
    "\n",
    "plt.show()"
   ]
  },
  {
   "cell_type": "markdown",
   "metadata": {},
   "source": [
    "## Forward: get embeddings\n",
    "We use the regulator embedding from wild type and perturbed states to calculate distance of regulator embeddings.  \n",
    "Intuitively, the distance of regulator embeddings on enhancers sensitive to EP300/CREBBP perturbation is larger than the non-sensitive ones, and regulators associated with EP300/CREBBP should have larger distance on sensitive enhancers. \n"
   ]
  },
  {
   "cell_type": "code",
   "execution_count": 32,
   "metadata": {},
   "outputs": [
    {
     "name": "stdout",
     "output_type": "stream",
     "text": [
      "Ignoring 3044 cistromes and 72 regulators\n",
      "Your supervised_file does not contain the 'label' column. Please verify whether ground truth column ('label') is required. If it is not needed, you may disregard this message.\n",
      "Your supervised_file does not contain the 'label' column. Please verify whether ground truth column ('label') is required. If it is not needed, you may disregard this message.\n",
      "use perturbation_object in dataset config which high priority than supervised_file\n"
     ]
    },
    {
     "name": "stderr",
     "output_type": "stream",
     "text": [
      "181it [02:03,  1.47it/s]\n"
     ]
    }
   ],
   "source": [
    "from chrombert.scripts.utils import HDF5Manager # We provide a convenient class for storing embeddings\n",
    "\n",
    "if not os.path.exists(\"tmp_starr\"):\n",
    "    os.makedirs(\"tmp_starr\")\n",
    "\n",
    "model_emb = model.get_embedding_manager()\n",
    "\n",
    "dict_shapes = {\n",
    "    \"region\":((len(ds_wt), 4), int), \n",
    "    \"wt\":((len(ds_wt),len(model_emb.list_regulator), 768), np.float16), \n",
    "    \"ep300\":((len(ds_wt),len(model_emb.list_regulator), 768), np.float16)\n",
    "    } # initialize the shapes of the data to be stored in the HDF5 file\n",
    "with HDF5Manager(os.path.join(\"tmp_starr\",\"starr_emb.h5\"), **dict_shapes) as h5:\n",
    "    for (batch_wt, batch_ep300) in tqdm(zip(dc_wt.init_dataloader(), dc_ep300.init_dataloader())):\n",
    "        region = np.concatenate([\n",
    "            batch_wt[\"region\"].long().cpu().numpy(), \n",
    "            batch_wt[\"build_region_index\"].long().cpu().unsqueeze(-1).numpy()\n",
    "            ], axis = 1\n",
    "        )\n",
    "        for k,v in batch_wt.items():\n",
    "            if isinstance(v, torch.Tensor):\n",
    "                batch_wt[k] = v.cuda()\n",
    "                batch_ep300[k] = batch_ep300[k].cuda()\n",
    "        \n",
    "        with torch.no_grad():\n",
    "            emb_wt = model_emb(batch_wt).float().cpu().numpy() # get the embeddings of wild-type\n",
    "            emb_ep300 = model_emb(batch_ep300).float().cpu().numpy() # get the embeddings of EP300 perturbation\n",
    "        h5.insert(\n",
    "            **{\"region\":region, \"wt\":emb_wt, \"ep300\":emb_ep300}\n",
    "            )\n",
    "    "
   ]
  },
  {
   "cell_type": "code",
   "execution_count": 33,
   "metadata": {},
   "outputs": [
    {
     "data": {
      "text/plain": [
       "(['adnp',\n",
       "  'aebp2',\n",
       "  'aff1',\n",
       "  'aff4',\n",
       "  'ago1',\n",
       "  'ago2',\n",
       "  'ahr',\n",
       "  'ahrr',\n",
       "  'alkbh3',\n",
       "  'apobec3b'],\n",
       " 992)"
      ]
     },
     "execution_count": 33,
     "metadata": {},
     "output_type": "execute_result"
    }
   ],
   "source": [
    "list_factors = model_emb.list_regulator\n",
    "list_factors[:10],len(list_factors)"
   ]
  },
  {
   "cell_type": "code",
   "execution_count": 34,
   "metadata": {},
   "outputs": [
    {
     "data": {
      "text/html": [
       "<div>\n",
       "<style scoped>\n",
       "    .dataframe tbody tr th:only-of-type {\n",
       "        vertical-align: middle;\n",
       "    }\n",
       "\n",
       "    .dataframe tbody tr th {\n",
       "        vertical-align: top;\n",
       "    }\n",
       "\n",
       "    .dataframe thead th {\n",
       "        text-align: right;\n",
       "    }\n",
       "</style>\n",
       "<table border=\"1\" class=\"dataframe\">\n",
       "  <thead>\n",
       "    <tr style=\"text-align: right;\">\n",
       "      <th></th>\n",
       "      <th>factor</th>\n",
       "      <th>sim</th>\n",
       "      <th>source</th>\n",
       "    </tr>\n",
       "  </thead>\n",
       "  <tbody>\n",
       "    <tr>\n",
       "      <th>0</th>\n",
       "      <td>adnp</td>\n",
       "      <td>0.999220</td>\n",
       "      <td>decreased</td>\n",
       "    </tr>\n",
       "    <tr>\n",
       "      <th>1</th>\n",
       "      <td>aebp2</td>\n",
       "      <td>0.999003</td>\n",
       "      <td>decreased</td>\n",
       "    </tr>\n",
       "    <tr>\n",
       "      <th>2</th>\n",
       "      <td>aff1</td>\n",
       "      <td>0.999062</td>\n",
       "      <td>decreased</td>\n",
       "    </tr>\n",
       "    <tr>\n",
       "      <th>3</th>\n",
       "      <td>aff4</td>\n",
       "      <td>0.998584</td>\n",
       "      <td>decreased</td>\n",
       "    </tr>\n",
       "    <tr>\n",
       "      <th>4</th>\n",
       "      <td>ago1</td>\n",
       "      <td>0.999277</td>\n",
       "      <td>decreased</td>\n",
       "    </tr>\n",
       "    <tr>\n",
       "      <th>...</th>\n",
       "      <td>...</td>\n",
       "      <td>...</td>\n",
       "      <td>...</td>\n",
       "    </tr>\n",
       "    <tr>\n",
       "      <th>987</th>\n",
       "      <td>zscan5a</td>\n",
       "      <td>0.999428</td>\n",
       "      <td>decreased</td>\n",
       "    </tr>\n",
       "    <tr>\n",
       "      <th>988</th>\n",
       "      <td>zta</td>\n",
       "      <td>0.999474</td>\n",
       "      <td>decreased</td>\n",
       "    </tr>\n",
       "    <tr>\n",
       "      <th>989</th>\n",
       "      <td>zxdb</td>\n",
       "      <td>0.999342</td>\n",
       "      <td>decreased</td>\n",
       "    </tr>\n",
       "    <tr>\n",
       "      <th>990</th>\n",
       "      <td>zxdc</td>\n",
       "      <td>0.999537</td>\n",
       "      <td>decreased</td>\n",
       "    </tr>\n",
       "    <tr>\n",
       "      <th>991</th>\n",
       "      <td>zzz3</td>\n",
       "      <td>0.998224</td>\n",
       "      <td>decreased</td>\n",
       "    </tr>\n",
       "  </tbody>\n",
       "</table>\n",
       "<p>992 rows × 3 columns</p>\n",
       "</div>"
      ],
      "text/plain": [
       "      factor       sim     source\n",
       "0       adnp  0.999220  decreased\n",
       "1      aebp2  0.999003  decreased\n",
       "2       aff1  0.999062  decreased\n",
       "3       aff4  0.998584  decreased\n",
       "4       ago1  0.999277  decreased\n",
       "..       ...       ...        ...\n",
       "987  zscan5a  0.999428  decreased\n",
       "988      zta  0.999474  decreased\n",
       "989     zxdb  0.999342  decreased\n",
       "990     zxdc  0.999537  decreased\n",
       "991     zzz3  0.998224  decreased\n",
       "\n",
       "[992 rows x 3 columns]"
      ]
     },
     "execution_count": 34,
     "metadata": {},
     "output_type": "execute_result"
    }
   ],
   "source": [
    "# Distance of embeddings on sensitive enhancers\n",
    "with h5py.File(os.path.join(\"tmp_starr\",\"starr_emb.h5\"), \"r\") as f:\n",
    "    emb_decrease_wt = f[\"wt\"][df_supervised[\"kind\"] == \"decrease\",...].mean(axis = 0)\n",
    "    emb_decrease_ep300 = f[\"ep300\"][df_supervised[\"kind\"] == \"decrease\",...].mean(axis = 0)\n",
    "sims = np.diagonal(cosine_similarity(emb_decrease_wt, emb_decrease_ep300))\n",
    "df_sim_decreased = pd.DataFrame({\"factor\": list_factors, \"sim\": sims,\"source\": \"decreased\"})\n",
    "df_sim_decreased"
   ]
  },
  {
   "cell_type": "code",
   "execution_count": 35,
   "metadata": {},
   "outputs": [
    {
     "data": {
      "text/html": [
       "<div>\n",
       "<style scoped>\n",
       "    .dataframe tbody tr th:only-of-type {\n",
       "        vertical-align: middle;\n",
       "    }\n",
       "\n",
       "    .dataframe tbody tr th {\n",
       "        vertical-align: top;\n",
       "    }\n",
       "\n",
       "    .dataframe thead th {\n",
       "        text-align: right;\n",
       "    }\n",
       "</style>\n",
       "<table border=\"1\" class=\"dataframe\">\n",
       "  <thead>\n",
       "    <tr style=\"text-align: right;\">\n",
       "      <th></th>\n",
       "      <th>factor</th>\n",
       "      <th>sim</th>\n",
       "      <th>source</th>\n",
       "    </tr>\n",
       "  </thead>\n",
       "  <tbody>\n",
       "    <tr>\n",
       "      <th>0</th>\n",
       "      <td>adnp</td>\n",
       "      <td>0.999497</td>\n",
       "      <td>nochange</td>\n",
       "    </tr>\n",
       "    <tr>\n",
       "      <th>1</th>\n",
       "      <td>aebp2</td>\n",
       "      <td>0.999299</td>\n",
       "      <td>nochange</td>\n",
       "    </tr>\n",
       "    <tr>\n",
       "      <th>2</th>\n",
       "      <td>aff1</td>\n",
       "      <td>0.999402</td>\n",
       "      <td>nochange</td>\n",
       "    </tr>\n",
       "    <tr>\n",
       "      <th>3</th>\n",
       "      <td>aff4</td>\n",
       "      <td>0.999170</td>\n",
       "      <td>nochange</td>\n",
       "    </tr>\n",
       "    <tr>\n",
       "      <th>4</th>\n",
       "      <td>ago1</td>\n",
       "      <td>0.999498</td>\n",
       "      <td>nochange</td>\n",
       "    </tr>\n",
       "    <tr>\n",
       "      <th>...</th>\n",
       "      <td>...</td>\n",
       "      <td>...</td>\n",
       "      <td>...</td>\n",
       "    </tr>\n",
       "    <tr>\n",
       "      <th>987</th>\n",
       "      <td>zscan5a</td>\n",
       "      <td>0.999619</td>\n",
       "      <td>nochange</td>\n",
       "    </tr>\n",
       "    <tr>\n",
       "      <th>988</th>\n",
       "      <td>zta</td>\n",
       "      <td>0.999682</td>\n",
       "      <td>nochange</td>\n",
       "    </tr>\n",
       "    <tr>\n",
       "      <th>989</th>\n",
       "      <td>zxdb</td>\n",
       "      <td>0.999576</td>\n",
       "      <td>nochange</td>\n",
       "    </tr>\n",
       "    <tr>\n",
       "      <th>990</th>\n",
       "      <td>zxdc</td>\n",
       "      <td>0.999634</td>\n",
       "      <td>nochange</td>\n",
       "    </tr>\n",
       "    <tr>\n",
       "      <th>991</th>\n",
       "      <td>zzz3</td>\n",
       "      <td>0.999071</td>\n",
       "      <td>nochange</td>\n",
       "    </tr>\n",
       "  </tbody>\n",
       "</table>\n",
       "<p>992 rows × 3 columns</p>\n",
       "</div>"
      ],
      "text/plain": [
       "      factor       sim    source\n",
       "0       adnp  0.999497  nochange\n",
       "1      aebp2  0.999299  nochange\n",
       "2       aff1  0.999402  nochange\n",
       "3       aff4  0.999170  nochange\n",
       "4       ago1  0.999498  nochange\n",
       "..       ...       ...       ...\n",
       "987  zscan5a  0.999619  nochange\n",
       "988      zta  0.999682  nochange\n",
       "989     zxdb  0.999576  nochange\n",
       "990     zxdc  0.999634  nochange\n",
       "991     zzz3  0.999071  nochange\n",
       "\n",
       "[992 rows x 3 columns]"
      ]
     },
     "execution_count": 35,
     "metadata": {},
     "output_type": "execute_result"
    }
   ],
   "source": [
    "# Distance of embeddings on non-sensitive enhancers\n",
    "with h5py.File(os.path.join(\"tmp_starr\",\"starr_emb.h5\"), \"r\") as f:\n",
    "    emb_nochange_wt = f[\"wt\"][df_supervised[\"kind\"] == \"nochange\",...].mean(axis = 0)\n",
    "    emb_nochange_ep300 = f[\"ep300\"][df_supervised[\"kind\"] == \"nochange\",...].mean(axis = 0)\n",
    "sims = np.diagonal(cosine_similarity(emb_nochange_wt, emb_nochange_ep300))\n",
    "df_sim_nochange = pd.DataFrame({\"factor\": list_factors, \"sim\": sims,\"source\": \"nochange\"})\n",
    "df_sim_nochange"
   ]
  },
  {
   "cell_type": "code",
   "execution_count": 36,
   "metadata": {},
   "outputs": [
    {
     "data": {
      "text/html": [
       "<div>\n",
       "<style scoped>\n",
       "    .dataframe tbody tr th:only-of-type {\n",
       "        vertical-align: middle;\n",
       "    }\n",
       "\n",
       "    .dataframe tbody tr th {\n",
       "        vertical-align: top;\n",
       "    }\n",
       "\n",
       "    .dataframe thead th {\n",
       "        text-align: right;\n",
       "    }\n",
       "</style>\n",
       "<table border=\"1\" class=\"dataframe\">\n",
       "  <thead>\n",
       "    <tr style=\"text-align: right;\">\n",
       "      <th>source</th>\n",
       "      <th>decreased</th>\n",
       "      <th>nochange</th>\n",
       "    </tr>\n",
       "    <tr>\n",
       "      <th>factor</th>\n",
       "      <th></th>\n",
       "      <th></th>\n",
       "    </tr>\n",
       "  </thead>\n",
       "  <tbody>\n",
       "    <tr>\n",
       "      <th>adnp</th>\n",
       "      <td>0.000780</td>\n",
       "      <td>0.000503</td>\n",
       "    </tr>\n",
       "    <tr>\n",
       "      <th>aebp2</th>\n",
       "      <td>0.000997</td>\n",
       "      <td>0.000701</td>\n",
       "    </tr>\n",
       "    <tr>\n",
       "      <th>aff1</th>\n",
       "      <td>0.000938</td>\n",
       "      <td>0.000598</td>\n",
       "    </tr>\n",
       "    <tr>\n",
       "      <th>aff4</th>\n",
       "      <td>0.001416</td>\n",
       "      <td>0.000830</td>\n",
       "    </tr>\n",
       "    <tr>\n",
       "      <th>ago1</th>\n",
       "      <td>0.000723</td>\n",
       "      <td>0.000502</td>\n",
       "    </tr>\n",
       "    <tr>\n",
       "      <th>...</th>\n",
       "      <td>...</td>\n",
       "      <td>...</td>\n",
       "    </tr>\n",
       "    <tr>\n",
       "      <th>zscan5a</th>\n",
       "      <td>0.000572</td>\n",
       "      <td>0.000381</td>\n",
       "    </tr>\n",
       "    <tr>\n",
       "      <th>zta</th>\n",
       "      <td>0.000526</td>\n",
       "      <td>0.000318</td>\n",
       "    </tr>\n",
       "    <tr>\n",
       "      <th>zxdb</th>\n",
       "      <td>0.000658</td>\n",
       "      <td>0.000424</td>\n",
       "    </tr>\n",
       "    <tr>\n",
       "      <th>zxdc</th>\n",
       "      <td>0.000463</td>\n",
       "      <td>0.000366</td>\n",
       "    </tr>\n",
       "    <tr>\n",
       "      <th>zzz3</th>\n",
       "      <td>0.001776</td>\n",
       "      <td>0.000929</td>\n",
       "    </tr>\n",
       "  </tbody>\n",
       "</table>\n",
       "<p>992 rows × 2 columns</p>\n",
       "</div>"
      ],
      "text/plain": [
       "source   decreased  nochange\n",
       "factor                      \n",
       "adnp      0.000780  0.000503\n",
       "aebp2     0.000997  0.000701\n",
       "aff1      0.000938  0.000598\n",
       "aff4      0.001416  0.000830\n",
       "ago1      0.000723  0.000502\n",
       "...            ...       ...\n",
       "zscan5a   0.000572  0.000381\n",
       "zta       0.000526  0.000318\n",
       "zxdb      0.000658  0.000424\n",
       "zxdc      0.000463  0.000366\n",
       "zzz3      0.001776  0.000929\n",
       "\n",
       "[992 rows x 2 columns]"
      ]
     },
     "execution_count": 36,
     "metadata": {},
     "output_type": "execute_result"
    }
   ],
   "source": [
    "# Stack the results\n",
    "df_sim = pd.concat([df_sim_decreased, df_sim_nochange]).set_index([\"factor\",\"source\"])[\"sim\"].unstack()\n",
    "df_shift = 1 - df_sim\n",
    "df_shift"
   ]
  },
  {
   "cell_type": "markdown",
   "metadata": {},
   "source": [
    "We observe larger embedding shift of EP300/CREBBP sensitive enhancers here"
   ]
  },
  {
   "cell_type": "code",
   "execution_count": 37,
   "metadata": {},
   "outputs": [
    {
     "name": "stderr",
     "output_type": "stream",
     "text": [
      "/tmp/ipykernel_18221/450217171.py:1: MatplotlibDeprecationWarning: The 'labels' parameter of boxplot() has been renamed 'tick_labels' since Matplotlib 3.9; support for the old name will be dropped in 3.11.\n",
      "  plt.boxplot([df_shift[\"decreased\"], df_shift[\"nochange\"]], labels = [\"Decreased\", \"No Change\"], showfliers=False)\n"
     ]
    },
    {
     "data": {
      "image/png": "[encoded data removed]",
      "text/plain": [
       "<Figure size 640x480 with 1 Axes>"
      ]
     },
     "metadata": {},
     "output_type": "display_data"
    },
    {
     "data": {
      "text/plain": [
       "TtestResult(statistic=np.float64(0.9383171088579029), pvalue=np.float64(0.34819579674651324), df=np.float64(1982.0))"
      ]
     },
     "execution_count": 37,
     "metadata": {},
     "output_type": "execute_result"
    }
   ],
   "source": [
    "# Boxplot of embedding shifts, showing larger shift on sensitive enhancers\n",
    "plt.boxplot([df_shift[\"decreased\"], df_shift[\"nochange\"]], labels = [\"Decreased\", \"No Change\"], showfliers=False)\n",
    "plt.show()\n",
    "scipy.stats.ttest_ind(df_shift[\"decreased\"], df_shift[\"nochange\"])"
   ]
  },
  {
   "cell_type": "markdown",
   "metadata": {},
   "source": [
    "We can also observe larger embedding shift of EP300/CREBBP associated regulators on sensitive enhancers. "
   ]
  },
  {
   "cell_type": "code",
   "execution_count": 38,
   "metadata": {},
   "outputs": [
    {
     "data": {
      "text/plain": [
       "med1       0.905289\n",
       "brd4       0.890231\n",
       "smarca4    0.885910\n",
       "rxra       0.872736\n",
       "tcf12      0.872508\n",
       "myc        0.871053\n",
       "foxm1      0.867882\n",
       "nipbl      0.854444\n",
       "rela       0.847948\n",
       "nr3c1      0.847657\n",
       "stat3      0.844953\n",
       "t          0.843753\n",
       "tcf7l2     0.842494\n",
       "cdk9       0.829535\n",
       "ets1       0.827677\n",
       "runx1      0.826080\n",
       "sox2       0.824894\n",
       "stat1      0.824863\n",
       "cdk8       0.824382\n",
       "smarcc1    0.815441\n",
       "sin3a      0.814455\n",
       "junb       0.814285\n",
       "tp53       0.814057\n",
       "hdac2      0.813871\n",
       "tead4      0.813280\n",
       "sp1        0.808916\n",
       "e2f1       0.807150\n",
       "chd1       0.807117\n",
       "bcl11a     0.804768\n",
       "rbpj       0.804572\n",
       "smad3      0.804470\n",
       "tcf7l1     0.800667\n",
       "gabpa      0.797082\n",
       "tal1       0.794878\n",
       "smad1      0.788872\n",
       "erg        0.788513\n",
       "jun        0.786361\n",
       "taf1       0.785351\n",
       "tp73       0.782868\n",
       "e2f4       0.782279\n",
       "zbtb17     0.777247\n",
       "hdac1      0.777213\n",
       "zeb1       0.776094\n",
       "rnf2       0.775832\n",
       "pou5f1     0.775517\n",
       "lef1       0.775149\n",
       "vdr        0.772557\n",
       "kdm1a      0.771104\n",
       "gata3      0.770577\n",
       "hsf1       0.770509\n",
       "Name: ep300, dtype: float64"
      ]
     },
     "execution_count": 38,
     "metadata": {},
     "output_type": "execute_result"
    }
   ],
   "source": [
    "# we select top 50 factors with the highest cosine similarity with EP300 \n",
    "with h5py.File(os.path.join(\"tmp_starr\",\"starr_emb.h5\"), \"r\") as f:\n",
    "    emb_all_wt = f[\"wt\"][:,...].mean(axis = 0)\n",
    "    ser_sim_with_ep300 = pd.DataFrame(data = cosine_similarity(emb_all_wt), columns= list_factors, index = list_factors)[\"ep300\"]\n",
    "ser_sim_with_ep300 = ser_sim_with_ep300.loc[~ser_sim_with_ep300.index.isin([\"ep300\",\"crebbp\"])].sort_values(ascending = False).head(50)\n",
    "ser_sim_with_ep300"
   ]
  },
  {
   "cell_type": "code",
   "execution_count": 43,
   "metadata": {},
   "outputs": [
    {
     "name": "stderr",
     "output_type": "stream",
     "text": [
      "/tmp/ipykernel_18221/844556973.py:3: MatplotlibDeprecationWarning: The 'labels' parameter of boxplot() has been renamed 'tick_labels' since Matplotlib 3.9; support for the old name will be dropped in 3.11.\n",
      "  plt.boxplot([v1, v2], labels = [\"Related\", \"Others\"], showfliers=False)\n"
     ]
    },
    {
     "data": {
      "image/png": "[encoded data removed]",
      "text/plain": [
       "<Figure size 640x480 with 1 Axes>"
      ]
     },
     "metadata": {},
     "output_type": "display_data"
    },
    {
     "data": {
      "text/plain": [
       "MannwhitneyuResult(statistic=np.float64(40344.0), pvalue=np.float64(1.793880419442975e-17))"
      ]
     },
     "execution_count": 43,
     "metadata": {},
     "output_type": "execute_result"
    }
   ],
   "source": [
    "# Boxplot of embedding shifts, showing larger shift for EP300/CREBBP associated regulators\n",
    "v1 = df_shift.loc[ser_sim_with_ep300.index,\"decreased\"]\n",
    "v2 = df_shift.loc[~df_shift.index.isin(ser_sim_with_ep300.index),\"decreased\"]\n",
    "plt.boxplot([v1, v2], labels = [\"Related\", \"Others\"], showfliers=False)\n",
    "plt.show()\n",
    "scipy.stats.mannwhitneyu(v1, v2)"
   ]
  },
  {
   "cell_type": "code",
   "execution_count": null,
   "metadata": {},
   "outputs": [],
   "source": []
  }
 ],
 "metadata": {
  "kernelspec": {
   "display_name": "base",
   "language": "python",
   "name": "python3"
  },
  "language_info": {
   "codemirror_mode": {
    "name": "ipython",
    "version": 3
   },
   "file_extension": ".py",
   "mimetype": "text/x-python",
   "name": "python",
   "nbconvert_exporter": "python",
   "pygments_lexer": "ipython3",
   "version": "3.9.19"
  }
 },
 "nbformat": 4,
 "nbformat_minor": 2
}
