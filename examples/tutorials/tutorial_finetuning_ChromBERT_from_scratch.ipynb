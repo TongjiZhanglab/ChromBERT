{
 "cells": [
  {
   "cell_type": "markdown",
   "metadata": {},
   "source": [
    "# Tutorial for fine-Tuning ChromBERT from scratch\n",
    "\n",
    "Welcome to our tutorial on fine-tuning ChromBERT from scratch! In this guide, we will walk you through the process of predicting CTCF peaks (ENCFF664UGR).\n",
    "\n",
    "**Please note:** This tutorial serves as a simple demonstration. For comprehensive guidance and productive usage, please refer to our complete documentation: [Tutorials](https://chrombert.readthedocs.io/en/latest/finetune.html)."
   ]
  },
  {
   "cell_type": "code",
   "execution_count": 1,
   "metadata": {},
   "outputs": [
    {
     "name": "stderr",
     "output_type": "stream",
     "text": [
      "/home/yangdongxu/.local/lib/python3.10/site-packages/pandas/core/arrays/masked.py:60: UserWarning: Pandas requires version '1.3.6' or newer of 'bottleneck' (version '1.3.5' currently installed).\n",
      "  from pandas.core import (\n"
     ]
    }
   ],
   "source": [
    "import os \n",
    "os.environ[\"CUDA_VISIBLE_DEVICES\"] = \"0\" # set the GPU to use\n",
    "os.environ[\"PROTOCOL_BUFFERS_PYTHON_IMPLEMENTATION\"] = \"python\" # for compatibility of tensorboard\n",
    "\n",
    "import torch \n",
    "import pathlib \n",
    "\n",
    "import chrombert \n",
    "from tqdm import tqdm\n",
    "import numpy as np\n",
    "import pandas as pd \n",
    "from umap import UMAP\n",
    "\n",
    "import seaborn as sns\n",
    "from matplotlib import pyplot as plt\n",
    "\n",
    "from torchinfo import summary\n",
    "\n",
    "basedir = os.path.expanduser(\"~/.cache/chrombert/data\")\n"
   ]
  },
  {
   "cell_type": "markdown",
   "metadata": {},
   "source": [
    "## Dataset Preparation\n",
    "\n",
    "In this section, we will guide you through the process of preparing the dataset for fine-tuning ChromBERT. \n",
    "\n",
    "Steps to Prepare the Dataset:\n",
    "\n",
    "1. Prepare Regions and Labels: Start by identifying the genomic regions and their corresponding labels that you want to use for fine-tuning.\n",
    "\n",
    "2. Align to Human-Cistrome-6k: Align your regions to the Human-Cistrome-6k dataset using genomic coordinates to ensure consistency and accuracy.\n",
    "\n",
    "3. Create a Dataset Configuration: Develop a configuration file that specifies the details of your dataset, including paths and parameters.\n",
    "\n",
    "4. Generate the Dataset Object: Finally, use the configuration to create a dataset object that can be utilized in the fine-tuning process.\n",
    "\n",
    "By following these steps, you will have a properly prepared dataset ready for ChromBERT fine-tuning."
   ]
  },
  {
   "cell_type": "code",
   "execution_count": 2,
   "metadata": {},
   "outputs": [
    {
     "data": {
      "text/html": [
       "<div>\n",
       "<style scoped>\n",
       "    .dataframe tbody tr th:only-of-type {\n",
       "        vertical-align: middle;\n",
       "    }\n",
       "\n",
       "    .dataframe tbody tr th {\n",
       "        vertical-align: top;\n",
       "    }\n",
       "\n",
       "    .dataframe thead th {\n",
       "        text-align: right;\n",
       "    }\n",
       "</style>\n",
       "<table border=\"1\" class=\"dataframe\">\n",
       "  <thead>\n",
       "    <tr style=\"text-align: right;\">\n",
       "      <th></th>\n",
       "      <th>chrom</th>\n",
       "      <th>start</th>\n",
       "      <th>end</th>\n",
       "      <th>build_region_index</th>\n",
       "      <th>label</th>\n",
       "    </tr>\n",
       "  </thead>\n",
       "  <tbody>\n",
       "    <tr>\n",
       "      <th>0</th>\n",
       "      <td>chr1</td>\n",
       "      <td>10000</td>\n",
       "      <td>11000</td>\n",
       "      <td>0</td>\n",
       "      <td>False</td>\n",
       "    </tr>\n",
       "    <tr>\n",
       "      <th>1</th>\n",
       "      <td>chr1</td>\n",
       "      <td>16000</td>\n",
       "      <td>17000</td>\n",
       "      <td>1</td>\n",
       "      <td>False</td>\n",
       "    </tr>\n",
       "    <tr>\n",
       "      <th>2</th>\n",
       "      <td>chr1</td>\n",
       "      <td>17000</td>\n",
       "      <td>18000</td>\n",
       "      <td>2</td>\n",
       "      <td>False</td>\n",
       "    </tr>\n",
       "    <tr>\n",
       "      <th>3</th>\n",
       "      <td>chr1</td>\n",
       "      <td>29000</td>\n",
       "      <td>30000</td>\n",
       "      <td>3</td>\n",
       "      <td>False</td>\n",
       "    </tr>\n",
       "    <tr>\n",
       "      <th>4</th>\n",
       "      <td>chr1</td>\n",
       "      <td>30000</td>\n",
       "      <td>31000</td>\n",
       "      <td>4</td>\n",
       "      <td>False</td>\n",
       "    </tr>\n",
       "    <tr>\n",
       "      <th>...</th>\n",
       "      <td>...</td>\n",
       "      <td>...</td>\n",
       "      <td>...</td>\n",
       "      <td>...</td>\n",
       "      <td>...</td>\n",
       "    </tr>\n",
       "    <tr>\n",
       "      <th>2137889</th>\n",
       "      <td>chrY</td>\n",
       "      <td>26671000</td>\n",
       "      <td>26672000</td>\n",
       "      <td>2137889</td>\n",
       "      <td>False</td>\n",
       "    </tr>\n",
       "    <tr>\n",
       "      <th>2137890</th>\n",
       "      <td>chrY</td>\n",
       "      <td>56674000</td>\n",
       "      <td>56675000</td>\n",
       "      <td>2137890</td>\n",
       "      <td>False</td>\n",
       "    </tr>\n",
       "    <tr>\n",
       "      <th>2137891</th>\n",
       "      <td>chrY</td>\n",
       "      <td>56678000</td>\n",
       "      <td>56679000</td>\n",
       "      <td>2137891</td>\n",
       "      <td>False</td>\n",
       "    </tr>\n",
       "    <tr>\n",
       "      <th>2137892</th>\n",
       "      <td>chrY</td>\n",
       "      <td>56684000</td>\n",
       "      <td>56685000</td>\n",
       "      <td>2137892</td>\n",
       "      <td>False</td>\n",
       "    </tr>\n",
       "    <tr>\n",
       "      <th>2137893</th>\n",
       "      <td>chrY</td>\n",
       "      <td>56685000</td>\n",
       "      <td>56686000</td>\n",
       "      <td>2137893</td>\n",
       "      <td>False</td>\n",
       "    </tr>\n",
       "  </tbody>\n",
       "</table>\n",
       "<p>2137894 rows × 5 columns</p>\n",
       "</div>"
      ],
      "text/plain": [
       "        chrom     start       end  build_region_index  label\n",
       "0        chr1     10000     11000                   0  False\n",
       "1        chr1     16000     17000                   1  False\n",
       "2        chr1     17000     18000                   2  False\n",
       "3        chr1     29000     30000                   3  False\n",
       "4        chr1     30000     31000                   4  False\n",
       "...       ...       ...       ...                 ...    ...\n",
       "2137889  chrY  26671000  26672000             2137889  False\n",
       "2137890  chrY  56674000  56675000             2137890  False\n",
       "2137891  chrY  56678000  56679000             2137891  False\n",
       "2137892  chrY  56684000  56685000             2137892  False\n",
       "2137893  chrY  56685000  56686000             2137893  False\n",
       "\n",
       "[2137894 rows x 5 columns]"
      ]
     },
     "execution_count": 2,
     "metadata": {},
     "output_type": "execute_result"
    }
   ],
   "source": [
    "from chrombert.scripts.chrombert_make_dataset import get_overlap\n",
    "\n",
    "df_supervised = get_overlap(\n",
    "    supervised = os.path.join(basedir, \"demo\", \"embedding\",\"CTCF_ENCFF664UGR.bed\"), # a narrowPeak file\n",
    "    regions = os.path.join(basedir, \"config\", \"hg38_6k_1kb_region.bed\"),\n",
    "    no_filter = True,\n",
    ").assign(label = lambda df: df[\"label\"] > 0 )\n",
    "df_supervised"
   ]
  },
  {
   "cell_type": "markdown",
   "metadata": {},
   "source": [
    "Since this is a simple demonstration, we will use only **chr21** for training and **chr22** for evaluation. "
   ]
  },
  {
   "cell_type": "code",
   "execution_count": 3,
   "metadata": {},
   "outputs": [
    {
     "data": {
      "text/plain": [
       "(889, 223, 1922)"
      ]
     },
     "execution_count": 3,
     "metadata": {},
     "output_type": "execute_result"
    }
   ],
   "source": [
    "from sklearn.model_selection import train_test_split\n",
    "df_supervised = df_supervised.groupby(\"label\").sample(50000, random_state=42) # downsample to generate a balanced dataset. For real applications, you may want to use the full dataset. \n",
    "df_chr21 = df_supervised.query(\"chrom == 'chr21'\").reset_index(drop=True)\n",
    "df_train, df_valid = train_test_split(df_chr21, test_size=0.2, random_state=42)\n",
    "df_test = df_supervised.query(\"chrom == 'chr22'\").reset_index(drop=True)\n",
    "\n",
    "odir = pathlib.Path(\"tmp_ft\")\n",
    "odir.mkdir(exist_ok=True)\n",
    "df_train.to_csv(odir/\"train.csv\", index=False)\n",
    "df_valid.to_csv(odir/\"valid.csv\", index=False)\n",
    "df_test.to_csv(odir/\"test.csv\", index=False)\n",
    "len(df_train), len(df_valid), len(df_test)"
   ]
  },
  {
   "cell_type": "markdown",
   "metadata": {},
   "source": [
    "We offer the `chrombert.get_preset_dataset_config` interface to simplify the creation of your dataset configuration. This function provides a quick and easy way to set up your dataset for fine-tuning.\n",
    "\n",
    "For more advanced usage, you can create a custom dataset configuration using the `chrombert.DatasetConfig` class. This allows for greater flexibility and customization to meet your specific requirements."
   ]
  },
  {
   "cell_type": "code",
   "execution_count": 4,
   "metadata": {},
   "outputs": [
    {
     "name": "stdout",
     "output_type": "stream",
     "text": [
      "update path: hdf5_file = hg38_6k_1kb.hdf5\n",
      "update path: meta_file = config/hg38_6k_meta.json\n"
     ]
    },
    {
     "data": {
      "text/plain": [
       "{'input_ids': tensor([8, 6, 8,  ..., 9, 6, 6], dtype=torch.int8),\n",
       " 'position_ids': tensor([   1,    2,    3,  ..., 6389, 6390, 6391]),\n",
       " 'region': tensor([      21, 39126000, 39127000], dtype=torch.int32),\n",
       " 'build_region_index': 1169028,\n",
       " 'label': True}"
      ]
     },
     "execution_count": 4,
     "metadata": {},
     "output_type": "execute_result"
    }
   ],
   "source": [
    "dc = chrombert.get_preset_dataset_config(\n",
    "    \"general\", \n",
    "    supervised_file = str(odir/\"train.csv\"), # convert to str dtype\n",
    "    batch_size=4\n",
    "    )\n",
    "ds = dc.init_dataset() # initialize the dataset from config \n",
    "ds[1]"
   ]
  },
  {
   "cell_type": "markdown",
   "metadata": {},
   "source": [
    "We utilize PyTorch Lightning to facilitate the training of the model. As part of this process, the dataset is wrapped in a `lightning.pytorch.core.LightningDataModule`. This encapsulation provides a structured way to handle data loading and preprocessing, making it easier to manage the training workflow."
   ]
  },
  {
   "cell_type": "code",
   "execution_count": 5,
   "metadata": {},
   "outputs": [
    {
     "data": {
      "text/plain": [
       "<chrombert.finetune.dataset.data_module.LitChromBERTFTDataModule at 0x7f3af8a3aa40>"
      ]
     },
     "execution_count": 5,
     "metadata": {},
     "output_type": "execute_result"
    }
   ],
   "source": [
    "data_module = chrombert.LitChromBERTFTDataModule(\n",
    "    config = dc,\n",
    "    train_params = dict(supervised_file = str(odir/\"train.csv\")),\n",
    "    val_params = dict(supervised_file = str(odir/\"valid.csv\")),\n",
    "    test_params = dict(supervised_file = str(odir/\"test.csv\")),\n",
    ")\n",
    "data_module"
   ]
  },
  {
   "cell_type": "markdown",
   "metadata": {},
   "source": [
    "## Model Configuration\n",
    "\n",
    "To simplify the creation of your model configuration, we provide the `chrombert.get_preset_model_config` interface. This function allows you to quickly set up a model configuration for fine-tuning ChromBERT.\n",
    "\n",
    "For users seeking more advanced customization, you can create your own model configuration using the `chrombert.ChromBERTFTConfig` class. This gives you the flexibility to tailor the model parameters to better suit your specific needs and objectives."
   ]
  },
  {
   "cell_type": "code",
   "execution_count": 6,
   "metadata": {},
   "outputs": [
    {
     "name": "stdout",
     "output_type": "stream",
     "text": [
      "update path: mtx_mask = config/hg38_6k_mask_matrix.tsv\n",
      "update path: pretrain_ckpt = checkpoint/hg38_6k_1kb_pretrain.ckpt\n",
      "{\n",
      "    \"genome\": \"hg38\",\n",
      "    \"task\": \"general\",\n",
      "    \"dim_output\": 1,\n",
      "    \"mtx_mask\": \"/home/yangdongxu/.cache/chrombert/data/config/hg38_6k_mask_matrix.tsv\",\n",
      "    \"dropout\": 0.1,\n",
      "    \"pretrain_ckpt\": \"/home/yangdongxu/.cache/chrombert/data/checkpoint/hg38_6k_1kb_pretrain.ckpt\",\n",
      "    \"finetune_ckpt\": null,\n",
      "    \"ignore\": false,\n",
      "    \"ignore_index\": [\n",
      "        null,\n",
      "        null\n",
      "    ],\n",
      "    \"gep_flank_window\": 4,\n",
      "    \"gep_parallel_embedding\": false,\n",
      "    \"gep_gradient_checkpoint\": false,\n",
      "    \"gep_zero_inflation\": true,\n",
      "    \"prompt_kind\": \"cistrome\",\n",
      "    \"prompt_dim_external\": 512,\n",
      "    \"dnabert2_ckpt\": null\n",
      "}\n"
     ]
    }
   ],
   "source": [
    "mc = chrombert.get_preset_model_config(\"general\")\n",
    "print(mc)"
   ]
  },
  {
   "cell_type": "code",
   "execution_count": 7,
   "metadata": {},
   "outputs": [
    {
     "name": "stdout",
     "output_type": "stream",
     "text": [
      "use organisim hg38; max sequence length including cls is 6392\n"
     ]
    },
    {
     "data": {
      "text/plain": [
       "ChromBERTGeneral(\n",
       "  (pretrain_model): ChromBERT(\n",
       "    (embedding): BERTEmbedding(\n",
       "      (token): TokenEmbedding(10, 768, padding_idx=0)\n",
       "      (position): PositionalEmbedding(\n",
       "        (pe): PositionalEmbeddingTrainable(\n",
       "          (pe): Embedding(6392, 768)\n",
       "        )\n",
       "      )\n",
       "      (dropout): Dropout(p=0.1, inplace=False)\n",
       "    )\n",
       "    (transformer_blocks): ModuleList(\n",
       "      (0-7): 8 x EncoderTransformerBlock(\n",
       "        (attention): SelfAttentionFlashMHA(\n",
       "          (Wqkv): Linear(in_features=768, out_features=2304, bias=True)\n",
       "        )\n",
       "        (feed_forward): PositionwiseFeedForward(\n",
       "          (w_1): Linear(in_features=768, out_features=3072, bias=True)\n",
       "          (w_2): Linear(in_features=3072, out_features=768, bias=True)\n",
       "          (dropout): Dropout(p=0.1, inplace=False)\n",
       "          (activation): GELU()\n",
       "        )\n",
       "        (input_sublayer): SublayerConnection(\n",
       "          (norm): LayerNorm()\n",
       "          (dropout): Dropout(p=0.1, inplace=False)\n",
       "        )\n",
       "        (output_sublayer): SublayerConnection(\n",
       "          (norm): LayerNorm()\n",
       "          (dropout): Dropout(p=0.1, inplace=False)\n",
       "        )\n",
       "        (dropout): Dropout(p=0.1, inplace=False)\n",
       "      )\n",
       "    )\n",
       "  )\n",
       "  (ft_header): GeneralHeader(\n",
       "    (interface): CistromeEmbeddingManager()\n",
       "    (conv): Conv2d(1, 1, kernel_size=(1, 768), stride=(1, 1))\n",
       "    (activation): ReLU()\n",
       "    (res1): ResidualBlock(\n",
       "      (fc1): Linear(in_features=1064, out_features=1024, bias=True)\n",
       "      (fc2): Linear(in_features=1024, out_features=1024, bias=True)\n",
       "      (norm): LayerNorm()\n",
       "      (shortcut): Linear(in_features=1064, out_features=1024, bias=True)\n",
       "      (dropout): Dropout(p=0.1, inplace=False)\n",
       "    )\n",
       "    (res2): ResidualBlock(\n",
       "      (fc1): Linear(in_features=1024, out_features=768, bias=True)\n",
       "      (fc2): Linear(in_features=768, out_features=768, bias=True)\n",
       "      (norm): LayerNorm()\n",
       "      (shortcut): Linear(in_features=1024, out_features=768, bias=True)\n",
       "      (dropout): Dropout(p=0.1, inplace=False)\n",
       "    )\n",
       "    (res3): ResidualBlock(\n",
       "      (fc1): Linear(in_features=768, out_features=256, bias=True)\n",
       "      (fc2): Linear(in_features=256, out_features=256, bias=True)\n",
       "      (norm): LayerNorm()\n",
       "      (shortcut): Linear(in_features=768, out_features=256, bias=True)\n",
       "      (dropout): Dropout(p=0.1, inplace=False)\n",
       "    )\n",
       "    (fc): Linear(in_features=256, out_features=1, bias=True)\n",
       "  )\n",
       ")"
      ]
     },
     "execution_count": 7,
     "metadata": {},
     "output_type": "execute_result"
    }
   ],
   "source": [
    "model = mc.init_model()\n",
    "model"
   ]
  },
  {
   "cell_type": "markdown",
   "metadata": {},
   "source": [
    "## Fine-Tuning\n",
    "\n",
    "We leverage PyTorch Lightning to train the model, providing a straightforward interface for implementing the training loop. This approach streamlines the training process, making it easier to manage and customize various aspects of model training, such as callbacks, logging, and checkpointing.  You can also implement custom training logic."
   ]
  },
  {
   "cell_type": "code",
   "execution_count": 8,
   "metadata": {},
   "outputs": [
    {
     "name": "stderr",
     "output_type": "stream",
     "text": [
      "Using bfloat16 Automatic Mixed Precision (AMP)\n",
      "GPU available: True (cuda), used: True\n",
      "TPU available: False, using: 0 TPU cores\n",
      "IPU available: False, using: 0 IPUs\n",
      "HPU available: False, using: 0 HPUs\n"
     ]
    },
    {
     "name": "stdout",
     "output_type": "stream",
     "text": [
      "{\n",
      "    \"kind\": \"classification\",\n",
      "    \"loss\": \"bce\",\n",
      "    \"tag\": \"default\",\n",
      "    \"adam_beta1\": 0.9,\n",
      "    \"adam_beta2\": 0.999,\n",
      "    \"weight_decay\": 0.01,\n",
      "    \"lr\": 0.0001,\n",
      "    \"warmup_ratio\": 0.1,\n",
      "    \"max_epochs\": 3,\n",
      "    \"gradient_accumulation_steps\": 1,\n",
      "    \"accumulate_grad_batches\": 1,\n",
      "    \"limit_val_batches\": 64,\n",
      "    \"val_check_interval\": 0.2,\n",
      "    \"checkpoint_metric\": \"bce\",\n",
      "    \"checkpoint_mode\": \"min\"\n",
      "}\n"
     ]
    }
   ],
   "source": [
    "tc = chrombert.finetune.TrainConfig(\n",
    "    kind = \"classification\",\n",
    "    loss = \"bce\", # use bce loss here\n",
    "    max_epochs=3,\n",
    "    val_check_interval=0.2,\n",
    "    )\n",
    "trainer = tc.init_trainer( # prepare pytorch lightning trainer\n",
    "    precision = \"bf16-mixed\", # use bfloat16 to speed up training\n",
    "    save_top_k = 3 # save the top 3 models. metrics can be set by `checkpoint_metric` and `checkpoint_mode`\n",
    "    ) \n",
    "print(tc)"
   ]
  },
  {
   "cell_type": "code",
   "execution_count": 9,
   "metadata": {},
   "outputs": [
    {
     "data": {
      "text/plain": [
       "=====================================================================================\n",
       "Layer (type:depth-idx)                                       Param #\n",
       "=====================================================================================\n",
       "ClassificationPLModule                                       --\n",
       "├─ChromBERTGeneral: 1-1                                      --\n",
       "│    └─ChromBERT: 2-1                                        --\n",
       "│    │    └─BERTEmbedding: 3-1                               4,916,736\n",
       "│    │    └─ModuleList: 3-2                                  51,978,240\n",
       "│    └─GeneralHeader: 2-2                                    --\n",
       "│    │    └─CistromeEmbeddingManager: 3-3                    --\n",
       "│    │    └─Conv2d: 3-4                                      769\n",
       "│    │    └─ReLU: 3-5                                        --\n",
       "│    │    └─ResidualBlock: 3-6                               3,232,768\n",
       "│    │    └─ResidualBlock: 3-7                               2,166,528\n",
       "│    │    └─ResidualBlock: 3-8                               460,032\n",
       "│    │    └─Linear: 3-9                                      257\n",
       "=====================================================================================\n",
       "Total params: 62,755,330\n",
       "Trainable params: 62,755,330\n",
       "Non-trainable params: 0\n",
       "====================================================================================="
      ]
     },
     "execution_count": 9,
     "metadata": {},
     "output_type": "execute_result"
    }
   ],
   "source": [
    "pl_module = tc.init_pl_module(model) # wrap the model into a pytorch lightning module\n",
    "summary(pl_module)"
   ]
  },
  {
   "cell_type": "code",
   "execution_count": 10,
   "metadata": {},
   "outputs": [
    {
     "name": "stderr",
     "output_type": "stream",
     "text": [
      "You are using a CUDA device ('NVIDIA A100-PCIE-40GB') that has Tensor Cores. To properly utilize them, you should set `torch.set_float32_matmul_precision('medium' | 'high')` which will trade-off precision for performance. For more details, read https://pytorch.org/docs/stable/generated/torch.set_float32_matmul_precision.html#torch.set_float32_matmul_precision\n",
      "Missing logger folder: /home/yangdongxu/repos/ChromBERT/examples/tutorials/lightning_logs/chrombert-ft\n",
      "LOCAL_RANK: 0 - CUDA_VISIBLE_DEVICES: [0]\n",
      "Loading `train_dataloader` to estimate number of stepping batches.\n",
      "\n",
      "  | Name  | Type             | Params\n",
      "-------------------------------------------\n",
      "0 | model | ChromBERTGeneral | 62.8 M\n",
      "-------------------------------------------\n",
      "62.8 M    Trainable params\n",
      "0         Non-trainable params\n",
      "62.8 M    Total params\n",
      "251.021   Total estimated model params size (MB)\n"
     ]
    },
    {
     "data": {
      "application/vnd.jupyter.widget-view+json": {
       "model_id": "298dc4eed5b74c129e4a6b77ae54ce43",
       "version_major": 2,
       "version_minor": 0
      },
      "text/plain": [
       "Sanity Checking: 0it [00:00, ?it/s]"
      ]
     },
     "metadata": {},
     "output_type": "display_data"
    },
    {
     "name": "stderr",
     "output_type": "stream",
     "text": [
      "/miniconda/lib/python3.10/site-packages/lightning/pytorch/trainer/connectors/data_connector.py:480: PossibleUserWarning: Your `val_dataloader`'s sampler has shuffling enabled, it is strongly recommended that you turn shuffling off for val/test dataloaders.\n",
      "  rank_zero_warn(\n"
     ]
    },
    {
     "data": {
      "application/vnd.jupyter.widget-view+json": {
       "model_id": "a70ed29bbc534b76aa774a62c144702b",
       "version_major": 2,
       "version_minor": 0
      },
      "text/plain": [
       "Training: 0it [00:00, ?it/s]"
      ]
     },
     "metadata": {},
     "output_type": "display_data"
    },
    {
     "data": {
      "application/vnd.jupyter.widget-view+json": {
       "model_id": "4b3f6e8f8cd542b89a397158c9723687",
       "version_major": 2,
       "version_minor": 0
      },
      "text/plain": [
       "Validation: 0it [00:00, ?it/s]"
      ]
     },
     "metadata": {},
     "output_type": "display_data"
    },
    {
     "name": "stderr",
     "output_type": "stream",
     "text": [
      "Epoch 0, global step 44: 'default_validation/bce' reached 0.40430 (best 0.40430), saving model to '/home/yangdongxu/repos/ChromBERT/examples/tutorials/lightning_logs/chrombert-ft/version_0/checkpoints/epoch=0-step=44.ckpt' as top 3\n"
     ]
    },
    {
     "data": {
      "application/vnd.jupyter.widget-view+json": {
       "model_id": "8d011cabd2cc494cb1e53634c6f5a559",
       "version_major": 2,
       "version_minor": 0
      },
      "text/plain": [
       "Validation: 0it [00:00, ?it/s]"
      ]
     },
     "metadata": {},
     "output_type": "display_data"
    },
    {
     "name": "stderr",
     "output_type": "stream",
     "text": [
      "Epoch 0, global step 88: 'default_validation/bce' reached 0.22804 (best 0.22804), saving model to '/home/yangdongxu/repos/ChromBERT/examples/tutorials/lightning_logs/chrombert-ft/version_0/checkpoints/epoch=0-step=88.ckpt' as top 3\n"
     ]
    },
    {
     "data": {
      "application/vnd.jupyter.widget-view+json": {
       "model_id": "a9d4c5577b084e43967da4398802c6d3",
       "version_major": 2,
       "version_minor": 0
      },
      "text/plain": [
       "Validation: 0it [00:00, ?it/s]"
      ]
     },
     "metadata": {},
     "output_type": "display_data"
    },
    {
     "name": "stderr",
     "output_type": "stream",
     "text": [
      "Epoch 0, global step 132: 'default_validation/bce' reached 0.21750 (best 0.21750), saving model to '/home/yangdongxu/repos/ChromBERT/examples/tutorials/lightning_logs/chrombert-ft/version_0/checkpoints/epoch=0-step=132.ckpt' as top 3\n"
     ]
    },
    {
     "data": {
      "application/vnd.jupyter.widget-view+json": {
       "model_id": "33aa15714caa4c01bbf9111b39c22b74",
       "version_major": 2,
       "version_minor": 0
      },
      "text/plain": [
       "Validation: 0it [00:00, ?it/s]"
      ]
     },
     "metadata": {},
     "output_type": "display_data"
    },
    {
     "name": "stderr",
     "output_type": "stream",
     "text": [
      "Epoch 0, global step 176: 'default_validation/bce' reached 0.18001 (best 0.18001), saving model to '/home/yangdongxu/repos/ChromBERT/examples/tutorials/lightning_logs/chrombert-ft/version_0/checkpoints/epoch=0-step=176.ckpt' as top 3\n"
     ]
    },
    {
     "data": {
      "application/vnd.jupyter.widget-view+json": {
       "model_id": "66d9a1fe410b4e1db374af1f27499477",
       "version_major": 2,
       "version_minor": 0
      },
      "text/plain": [
       "Validation: 0it [00:00, ?it/s]"
      ]
     },
     "metadata": {},
     "output_type": "display_data"
    },
    {
     "name": "stderr",
     "output_type": "stream",
     "text": [
      "Epoch 0, global step 220: 'default_validation/bce' was not in top 3\n"
     ]
    },
    {
     "data": {
      "application/vnd.jupyter.widget-view+json": {
       "model_id": "421d5a00b890415da50560bc7d379b41",
       "version_major": 2,
       "version_minor": 0
      },
      "text/plain": [
       "Validation: 0it [00:00, ?it/s]"
      ]
     },
     "metadata": {},
     "output_type": "display_data"
    },
    {
     "name": "stderr",
     "output_type": "stream",
     "text": [
      "Epoch 1, global step 267: 'default_validation/bce' was not in top 3\n"
     ]
    },
    {
     "data": {
      "application/vnd.jupyter.widget-view+json": {
       "model_id": "8ffb7d954a94480c98bb16d894e4090b",
       "version_major": 2,
       "version_minor": 0
      },
      "text/plain": [
       "Validation: 0it [00:00, ?it/s]"
      ]
     },
     "metadata": {},
     "output_type": "display_data"
    },
    {
     "name": "stderr",
     "output_type": "stream",
     "text": [
      "Epoch 1, global step 311: 'default_validation/bce' reached 0.19854 (best 0.18001), saving model to '/home/yangdongxu/repos/ChromBERT/examples/tutorials/lightning_logs/chrombert-ft/version_0/checkpoints/epoch=1-step=311.ckpt' as top 3\n"
     ]
    },
    {
     "data": {
      "application/vnd.jupyter.widget-view+json": {
       "model_id": "433251c0018f43528b649dfb317af9a2",
       "version_major": 2,
       "version_minor": 0
      },
      "text/plain": [
       "Validation: 0it [00:00, ?it/s]"
      ]
     },
     "metadata": {},
     "output_type": "display_data"
    },
    {
     "name": "stderr",
     "output_type": "stream",
     "text": [
      "Epoch 1, global step 355: 'default_validation/bce' was not in top 3\n"
     ]
    },
    {
     "data": {
      "application/vnd.jupyter.widget-view+json": {
       "model_id": "4c161664a5894dd3b91c36946e790af8",
       "version_major": 2,
       "version_minor": 0
      },
      "text/plain": [
       "Validation: 0it [00:00, ?it/s]"
      ]
     },
     "metadata": {},
     "output_type": "display_data"
    },
    {
     "name": "stderr",
     "output_type": "stream",
     "text": [
      "Epoch 1, global step 399: 'default_validation/bce' reached 0.17850 (best 0.17850), saving model to '/home/yangdongxu/repos/ChromBERT/examples/tutorials/lightning_logs/chrombert-ft/version_0/checkpoints/epoch=1-step=399.ckpt' as top 3\n"
     ]
    },
    {
     "data": {
      "application/vnd.jupyter.widget-view+json": {
       "model_id": "34456fcba9f6477daa9e121489c47e8c",
       "version_major": 2,
       "version_minor": 0
      },
      "text/plain": [
       "Validation: 0it [00:00, ?it/s]"
      ]
     },
     "metadata": {},
     "output_type": "display_data"
    },
    {
     "name": "stderr",
     "output_type": "stream",
     "text": [
      "Epoch 1, global step 443: 'default_validation/bce' reached 0.16531 (best 0.16531), saving model to '/home/yangdongxu/repos/ChromBERT/examples/tutorials/lightning_logs/chrombert-ft/version_0/checkpoints/epoch=1-step=443.ckpt' as top 3\n"
     ]
    },
    {
     "data": {
      "application/vnd.jupyter.widget-view+json": {
       "model_id": "ffaaa7f1f93f4befbd331a917ce16839",
       "version_major": 2,
       "version_minor": 0
      },
      "text/plain": [
       "Validation: 0it [00:00, ?it/s]"
      ]
     },
     "metadata": {},
     "output_type": "display_data"
    },
    {
     "name": "stderr",
     "output_type": "stream",
     "text": [
      "Epoch 2, global step 490: 'default_validation/bce' reached 0.16222 (best 0.16222), saving model to '/home/yangdongxu/repos/ChromBERT/examples/tutorials/lightning_logs/chrombert-ft/version_0/checkpoints/epoch=2-step=490.ckpt' as top 3\n"
     ]
    },
    {
     "data": {
      "application/vnd.jupyter.widget-view+json": {
       "model_id": "8d52c2bb13334a45b29828d2f1336c50",
       "version_major": 2,
       "version_minor": 0
      },
      "text/plain": [
       "Validation: 0it [00:00, ?it/s]"
      ]
     },
     "metadata": {},
     "output_type": "display_data"
    },
    {
     "name": "stderr",
     "output_type": "stream",
     "text": [
      "Epoch 2, global step 534: 'default_validation/bce' reached 0.17444 (best 0.16222), saving model to '/home/yangdongxu/repos/ChromBERT/examples/tutorials/lightning_logs/chrombert-ft/version_0/checkpoints/epoch=2-step=534.ckpt' as top 3\n"
     ]
    },
    {
     "data": {
      "application/vnd.jupyter.widget-view+json": {
       "model_id": "63aac52bec7b467a9e2b52a5edcf4c51",
       "version_major": 2,
       "version_minor": 0
      },
      "text/plain": [
       "Validation: 0it [00:00, ?it/s]"
      ]
     },
     "metadata": {},
     "output_type": "display_data"
    },
    {
     "name": "stderr",
     "output_type": "stream",
     "text": [
      "Epoch 2, global step 578: 'default_validation/bce' was not in top 3\n"
     ]
    },
    {
     "data": {
      "application/vnd.jupyter.widget-view+json": {
       "model_id": "2cc757e955664b08bd5de284d8a195a3",
       "version_major": 2,
       "version_minor": 0
      },
      "text/plain": [
       "Validation: 0it [00:00, ?it/s]"
      ]
     },
     "metadata": {},
     "output_type": "display_data"
    },
    {
     "name": "stderr",
     "output_type": "stream",
     "text": [
      "Epoch 2, global step 622: 'default_validation/bce' was not in top 3\n"
     ]
    },
    {
     "data": {
      "application/vnd.jupyter.widget-view+json": {
       "model_id": "b5607b72920b446c8e8298e5fd9f6d9c",
       "version_major": 2,
       "version_minor": 0
      },
      "text/plain": [
       "Validation: 0it [00:00, ?it/s]"
      ]
     },
     "metadata": {},
     "output_type": "display_data"
    },
    {
     "name": "stderr",
     "output_type": "stream",
     "text": [
      "Epoch 2, global step 666: 'default_validation/bce' was not in top 3\n",
      "`Trainer.fit` stopped: `max_epochs=3` reached.\n"
     ]
    }
   ],
   "source": [
    "trainer.fit(pl_module, data_module) # start training, it takes nearly 10 minutes on a single A100 GPU"
   ]
  },
  {
   "cell_type": "markdown",
   "metadata": {},
   "source": [
    "Checkpoints will be saved in `lightning_logs/chrombert-ft` by default. "
   ]
  },
  {
   "cell_type": "code",
   "execution_count": 11,
   "metadata": {},
   "outputs": [
    {
     "name": "stdout",
     "output_type": "stream",
     "text": [
      "lightning_logs/chrombert-ft/version_0/checkpoints/last.ckpt\n",
      "lightning_logs/chrombert-ft/version_0/checkpoints/epoch=1-step=443.ckpt\n",
      "lightning_logs/chrombert-ft/version_0/checkpoints/epoch=2-step=490.ckpt\n",
      "lightning_logs/chrombert-ft/version_0/checkpoints/epoch=2-step=534.ckpt\n"
     ]
    }
   ],
   "source": [
    "path = pathlib.Path(\"lightning_logs/chrombert-ft\")\n",
    "for p in path.rglob(\"*ckpt\"):\n",
    "    if \"last.ckpt\" in str(p):\n",
    "        path_last_ckpt = p\n",
    "    print(p)"
   ]
  },
  {
   "cell_type": "markdown",
   "metadata": {},
   "source": [
    "## Evaluation\n",
    "\n",
    "In this section, we will evaluate the performance of the fine-tuned model. This evaluation is crucial for understanding how well the model has learned from the training data and how effectively it can predict CTCF peaks on unseen data. \n"
   ]
  },
  {
   "cell_type": "code",
   "execution_count": 12,
   "metadata": {},
   "outputs": [
    {
     "name": "stdout",
     "output_type": "stream",
     "text": [
      "update path: hdf5_file = hg38_6k_1kb.hdf5\n",
      "update path: meta_file = config/hg38_6k_meta.json\n"
     ]
    },
    {
     "data": {
      "text/plain": [
       "{'input_ids': tensor([5, 5, 5,  ..., 6, 5, 5], dtype=torch.int8),\n",
       " 'position_ids': tensor([   1,    2,    3,  ..., 6389, 6390, 6391]),\n",
       " 'region': tensor([      22, 32679000, 32680000], dtype=torch.int32),\n",
       " 'build_region_index': 1189560,\n",
       " 'label': False}"
      ]
     },
     "execution_count": 12,
     "metadata": {},
     "output_type": "execute_result"
    }
   ],
   "source": [
    "# load test dataset\n",
    "dc = chrombert.get_preset_dataset_config(\n",
    "    \"general\", \n",
    "    supervised_file = str(odir/\"test.csv\"), # convert to str dtype\n",
    "    batch_size=4\n",
    "    )\n",
    "ds = dc.init_dataset()\n",
    "ds[1]"
   ]
  },
  {
   "cell_type": "code",
   "execution_count": 13,
   "metadata": {},
   "outputs": [
    {
     "name": "stdout",
     "output_type": "stream",
     "text": [
      "update path: mtx_mask = config/hg38_6k_mask_matrix.tsv\n",
      "update path: pretrain_ckpt = checkpoint/hg38_6k_1kb_pretrain.ckpt\n",
      "update path: finetune_ckpt = /home/yangdongxu/repos/ChromBERT/examples/tutorials/lightning_logs/chrombert-ft/version_0/checkpoints/last.ckpt\n",
      "use organisim hg38; max sequence length including cls is 6392\n",
      "Loading checkpoint from /home/yangdongxu/repos/ChromBERT/examples/tutorials/lightning_logs/chrombert-ft/version_0/checkpoints/last.ckpt\n",
      "Loading from pl module, remove prefix 'model.'\n",
      "Loaded 110/110 parameters\n"
     ]
    },
    {
     "data": {
      "text/plain": [
       "================================================================================\n",
       "Layer (type:depth-idx)                                  Param #\n",
       "================================================================================\n",
       "ChromBERTGeneral                                        --\n",
       "├─ChromBERT: 1-1                                        --\n",
       "│    └─BERTEmbedding: 2-1                               --\n",
       "│    │    └─TokenEmbedding: 3-1                         7,680\n",
       "│    │    └─PositionalEmbedding: 3-2                    4,909,056\n",
       "│    │    └─Dropout: 3-3                                --\n",
       "│    └─ModuleList: 2-2                                  --\n",
       "│    │    └─EncoderTransformerBlock: 3-4                6,497,280\n",
       "│    │    └─EncoderTransformerBlock: 3-5                6,497,280\n",
       "│    │    └─EncoderTransformerBlock: 3-6                6,497,280\n",
       "│    │    └─EncoderTransformerBlock: 3-7                6,497,280\n",
       "│    │    └─EncoderTransformerBlock: 3-8                6,497,280\n",
       "│    │    └─EncoderTransformerBlock: 3-9                6,497,280\n",
       "│    │    └─EncoderTransformerBlock: 3-10               6,497,280\n",
       "│    │    └─EncoderTransformerBlock: 3-11               6,497,280\n",
       "├─GeneralHeader: 1-2                                    --\n",
       "│    └─CistromeEmbeddingManager: 2-3                    --\n",
       "│    └─Conv2d: 2-4                                      769\n",
       "│    └─ReLU: 2-5                                        --\n",
       "│    └─ResidualBlock: 2-6                               --\n",
       "│    │    └─Linear: 3-12                                1,090,560\n",
       "│    │    └─Linear: 3-13                                1,049,600\n",
       "│    │    └─LayerNorm: 3-14                             2,048\n",
       "│    │    └─Linear: 3-15                                1,090,560\n",
       "│    │    └─Dropout: 3-16                               --\n",
       "│    └─ResidualBlock: 2-7                               --\n",
       "│    │    └─Linear: 3-17                                787,200\n",
       "│    │    └─Linear: 3-18                                590,592\n",
       "│    │    └─LayerNorm: 3-19                             1,536\n",
       "│    │    └─Linear: 3-20                                787,200\n",
       "│    │    └─Dropout: 3-21                               --\n",
       "│    └─ResidualBlock: 2-8                               --\n",
       "│    │    └─Linear: 3-22                                196,864\n",
       "│    │    └─Linear: 3-23                                65,792\n",
       "│    │    └─LayerNorm: 3-24                             512\n",
       "│    │    └─Linear: 3-25                                196,864\n",
       "│    │    └─Dropout: 3-26                               --\n",
       "│    └─Linear: 2-9                                      257\n",
       "================================================================================\n",
       "Total params: 62,755,330\n",
       "Trainable params: 62,755,330\n",
       "Non-trainable params: 0\n",
       "================================================================================"
      ]
     },
     "execution_count": 13,
     "metadata": {},
     "output_type": "execute_result"
    }
   ],
   "source": [
    "# load model from checkpoint\n",
    "mc = chrombert.get_preset_model_config(\n",
    "    \"general\", \n",
    "    finetune_ckpt = os.path.abspath(str(path_last_ckpt)), # setting checkpoint path, must use absolute path\n",
    "    dropout = 0 # to avoid randomness \n",
    ")\n",
    "model = mc.init_model().cuda().bfloat16().eval()\n",
    "summary(model)"
   ]
  },
  {
   "cell_type": "code",
   "execution_count": 14,
   "metadata": {},
   "outputs": [
    {
     "name": "stderr",
     "output_type": "stream",
     "text": [
      "100%|██████████| 481/481 [01:14<00:00,  6.48it/s]\n"
     ]
    },
    {
     "data": {
      "text/html": [
       "<div>\n",
       "<style scoped>\n",
       "    .dataframe tbody tr th:only-of-type {\n",
       "        vertical-align: middle;\n",
       "    }\n",
       "\n",
       "    .dataframe tbody tr th {\n",
       "        vertical-align: top;\n",
       "    }\n",
       "\n",
       "    .dataframe thead th {\n",
       "        text-align: right;\n",
       "    }\n",
       "</style>\n",
       "<table border=\"1\" class=\"dataframe\">\n",
       "  <thead>\n",
       "    <tr style=\"text-align: right;\">\n",
       "      <th></th>\n",
       "      <th>logit</th>\n",
       "      <th>label</th>\n",
       "      <th>prob</th>\n",
       "    </tr>\n",
       "  </thead>\n",
       "  <tbody>\n",
       "    <tr>\n",
       "      <th>0</th>\n",
       "      <td>-6.562500</td>\n",
       "      <td>False</td>\n",
       "      <td>0.001410</td>\n",
       "    </tr>\n",
       "    <tr>\n",
       "      <th>1</th>\n",
       "      <td>-7.000000</td>\n",
       "      <td>False</td>\n",
       "      <td>0.000911</td>\n",
       "    </tr>\n",
       "    <tr>\n",
       "      <th>2</th>\n",
       "      <td>-4.875000</td>\n",
       "      <td>False</td>\n",
       "      <td>0.007577</td>\n",
       "    </tr>\n",
       "    <tr>\n",
       "      <th>3</th>\n",
       "      <td>-4.531250</td>\n",
       "      <td>False</td>\n",
       "      <td>0.010653</td>\n",
       "    </tr>\n",
       "    <tr>\n",
       "      <th>4</th>\n",
       "      <td>-3.328125</td>\n",
       "      <td>False</td>\n",
       "      <td>0.034619</td>\n",
       "    </tr>\n",
       "    <tr>\n",
       "      <th>...</th>\n",
       "      <td>...</td>\n",
       "      <td>...</td>\n",
       "      <td>...</td>\n",
       "    </tr>\n",
       "    <tr>\n",
       "      <th>1917</th>\n",
       "      <td>3.453125</td>\n",
       "      <td>True</td>\n",
       "      <td>0.969324</td>\n",
       "    </tr>\n",
       "    <tr>\n",
       "      <th>1918</th>\n",
       "      <td>3.859375</td>\n",
       "      <td>True</td>\n",
       "      <td>0.979354</td>\n",
       "    </tr>\n",
       "    <tr>\n",
       "      <th>1919</th>\n",
       "      <td>3.984375</td>\n",
       "      <td>True</td>\n",
       "      <td>0.981736</td>\n",
       "    </tr>\n",
       "    <tr>\n",
       "      <th>1920</th>\n",
       "      <td>4.468750</td>\n",
       "      <td>True</td>\n",
       "      <td>0.988668</td>\n",
       "    </tr>\n",
       "    <tr>\n",
       "      <th>1921</th>\n",
       "      <td>3.062500</td>\n",
       "      <td>True</td>\n",
       "      <td>0.955319</td>\n",
       "    </tr>\n",
       "  </tbody>\n",
       "</table>\n",
       "<p>1922 rows × 3 columns</p>\n",
       "</div>"
      ],
      "text/plain": [
       "         logit  label      prob\n",
       "0    -6.562500  False  0.001410\n",
       "1    -7.000000  False  0.000911\n",
       "2    -4.875000  False  0.007577\n",
       "3    -4.531250  False  0.010653\n",
       "4    -3.328125  False  0.034619\n",
       "...        ...    ...       ...\n",
       "1917  3.453125   True  0.969324\n",
       "1918  3.859375   True  0.979354\n",
       "1919  3.984375   True  0.981736\n",
       "1920  4.468750   True  0.988668\n",
       "1921  3.062500   True  0.955319\n",
       "\n",
       "[1922 rows x 3 columns]"
      ]
     },
     "execution_count": 14,
     "metadata": {},
     "output_type": "execute_result"
    }
   ],
   "source": [
    "# forward \n",
    "list_logit = []\n",
    "list_label = []\n",
    "dl = dc.init_dataloader()\n",
    "with torch.no_grad():\n",
    "    for i, batch in tqdm(enumerate(dl), total = len(dl)):\n",
    "        for k, v in batch.items():\n",
    "            if isinstance(v, torch.Tensor):\n",
    "                batch[k] = v.cuda()\n",
    "        output = model(batch)\n",
    "        list_logit.append(output.float().cpu().numpy()) # must convert to float before converting to cpu\n",
    "        list_label.append(batch[\"label\"].cpu().numpy())\n",
    "\n",
    "list_logit = np.concatenate(list_logit, axis=0).reshape(-1)\n",
    "list_label = np.concatenate(list_label, axis=0).reshape(-1)\n",
    "df_prob = pd.DataFrame(\n",
    "    dict(\n",
    "        logit = list_logit,\n",
    "        label = list_label\n",
    "    )\n",
    ")\n",
    "def sigmoid(x):\n",
    "    return 1 / (1 + np.exp(-x))\n",
    "\n",
    "df_prob[\"prob\"] = sigmoid(df_prob[\"logit\"])\n",
    "df_prob\n"
   ]
  },
  {
   "cell_type": "code",
   "execution_count": 15,
   "metadata": {},
   "outputs": [
    {
     "data": {
      "image/png": "[encoded data removed]",
      "text/plain": [
       "<Figure size 800x400 with 2 Axes>"
      ]
     },
     "metadata": {},
     "output_type": "display_data"
    }
   ],
   "source": [
    "from sklearn import metrics\n",
    "# plot the ROC curve and PRC curve\n",
    "fig, ax = plt.subplots(1, 2, figsize=(8, 4))\n",
    "fpr, tpr, _ = metrics.roc_curve(df_prob[\"label\"], df_prob[\"prob\"])\n",
    "ax[0].plot(fpr, tpr, label=f\"AUC = {metrics.auc(fpr, tpr):.2f}\")\n",
    "ax[0].plot([0, 1], [0, 1], \"--\", color=\"gray\")\n",
    "ax[0].set_xlabel(\"False Positive Rate\")\n",
    "ax[0].set_ylabel(\"True Positive Rate\")\n",
    "ax[0].legend()\n",
    "precision, recall, _ = metrics.precision_recall_curve(df_prob[\"label\"], df_prob[\"prob\"])\n",
    "ax[1].plot(recall, precision, label=f\"AUC = {metrics.auc(recall, precision):.2f}\")\n",
    "ax[1].set_xlabel(\"Recall\")\n",
    "ax[1].set_ylabel(\"Precision\")\n",
    "ax[1].legend()\n",
    "plt.show()\n"
   ]
  },
  {
   "cell_type": "markdown",
   "metadata": {},
   "source": [
    "## The End\n",
    "\n",
    "That's it! You've reached the end of this tutorial. The steps outlined here can be applied to other tasks as well, as they generally follow a similar process. For more detailed information on specific tasks, please refer to the corresponding tutorials available.\n",
    "\n",
    "Thank you for using ChromBERT! We appreciate your interest and hope you find this tool valuable for your research. If you have any questions or need further assistance, feel free to reach out!"
   ]
  },
  {
   "cell_type": "markdown",
   "metadata": {},
   "source": []
  }
 ],
 "metadata": {
  "kernelspec": {
   "display_name": "base",
   "language": "python",
   "name": "python3"
  },
  "language_info": {
   "codemirror_mode": {
    "name": "ipython",
    "version": 3
   },
   "file_extension": ".py",
   "mimetype": "text/x-python",
   "name": "python",
   "nbconvert_exporter": "python",
   "pygments_lexer": "ipython3",
   "version": "3.10.12"
  }
 },
 "nbformat": 4,
 "nbformat_minor": 2
}
